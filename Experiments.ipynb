{
 "cells": [
  {
   "cell_type": "markdown",
   "id": "9a13e961",
   "metadata": {},
   "source": [
    "# Latency Comparison\n",
    "\n",
    "In this section we collect results from measuring the latency between ingesting data from the source and collecting the data from the broker (i.e., Kafka vs NGSI-LD Broker).\n",
    "\n",
    "First, execute the tests from Apache NiFi for each number of events to be sent to the broker every second. The results from these tests will be stored in `results/latency/<broker>/`.\n",
    "\n",
    "## Building the Datasets"
   ]
  },
  {
   "cell_type": "code",
   "execution_count": 1,
   "id": "b24fb4a7",
   "metadata": {},
   "outputs": [],
   "source": [
    "import pandas as pd\n",
    "\n",
    "#Disable scientific notation in datasets\n",
    "pd.set_option('display.float_format', lambda x: '%.3f' % x)"
   ]
  },
  {
   "cell_type": "markdown",
   "id": "a7c85ead",
   "metadata": {},
   "source": [
    "Set list with number events per second configured for each experiment."
   ]
  },
  {
   "cell_type": "code",
   "execution_count": 35,
   "id": "0ec5b8ac",
   "metadata": {},
   "outputs": [],
   "source": [
    "events = [10,20,30,40,50,60,70,80,90,100]"
   ]
  },
  {
   "cell_type": "markdown",
   "id": "0d25f35c",
   "metadata": {},
   "source": [
    "### Scorpio"
   ]
  },
  {
   "cell_type": "code",
   "execution_count": 36,
   "id": "4d088fc2",
   "metadata": {},
   "outputs": [
    {
     "ename": "ValueError",
     "evalue": "No objects to concatenate",
     "output_type": "error",
     "traceback": [
      "\u001b[0;31m---------------------------------------------------------------------------\u001b[0m",
      "\u001b[0;31mValueError\u001b[0m                                Traceback (most recent call last)",
      "\u001b[0;32m<ipython-input-36-dcd915477d1d>\u001b[0m in \u001b[0;36m<module>\u001b[0;34m\u001b[0m\n\u001b[1;32m     12\u001b[0m         \u001b[0mli\u001b[0m\u001b[0;34m.\u001b[0m\u001b[0mappend\u001b[0m\u001b[0;34m(\u001b[0m\u001b[0mdf\u001b[0m\u001b[0;34m)\u001b[0m\u001b[0;34m\u001b[0m\u001b[0;34m\u001b[0m\u001b[0m\n\u001b[1;32m     13\u001b[0m \u001b[0;34m\u001b[0m\u001b[0m\n\u001b[0;32m---> 14\u001b[0;31m     \u001b[0mscorpio\u001b[0m\u001b[0;34m.\u001b[0m\u001b[0mappend\u001b[0m\u001b[0;34m(\u001b[0m\u001b[0mpd\u001b[0m\u001b[0;34m.\u001b[0m\u001b[0mconcat\u001b[0m\u001b[0;34m(\u001b[0m\u001b[0mli\u001b[0m\u001b[0;34m,\u001b[0m \u001b[0maxis\u001b[0m\u001b[0;34m=\u001b[0m\u001b[0;36m0\u001b[0m\u001b[0;34m,\u001b[0m \u001b[0mignore_index\u001b[0m\u001b[0;34m=\u001b[0m\u001b[0;32mTrue\u001b[0m\u001b[0;34m)\u001b[0m\u001b[0;34m)\u001b[0m\u001b[0;34m\u001b[0m\u001b[0;34m\u001b[0m\u001b[0m\n\u001b[0m\u001b[1;32m     15\u001b[0m \u001b[0;34m\u001b[0m\u001b[0m\n\u001b[1;32m     16\u001b[0m \u001b[0;31m# Estimate the delta between the collection and notification timestamps\u001b[0m\u001b[0;34m\u001b[0m\u001b[0;34m\u001b[0m\u001b[0;34m\u001b[0m\u001b[0m\n",
      "\u001b[0;32m~/.local/lib/python3.8/site-packages/pandas/core/reshape/concat.py\u001b[0m in \u001b[0;36mconcat\u001b[0;34m(objs, axis, join, ignore_index, keys, levels, names, verify_integrity, sort, copy)\u001b[0m\n\u001b[1;32m    283\u001b[0m     \u001b[0mValueError\u001b[0m\u001b[0;34m:\u001b[0m \u001b[0mIndexes\u001b[0m \u001b[0mhave\u001b[0m \u001b[0moverlapping\u001b[0m \u001b[0mvalues\u001b[0m\u001b[0;34m:\u001b[0m \u001b[0;34m[\u001b[0m\u001b[0;34m'a'\u001b[0m\u001b[0;34m]\u001b[0m\u001b[0;34m\u001b[0m\u001b[0;34m\u001b[0m\u001b[0m\n\u001b[1;32m    284\u001b[0m     \"\"\"\n\u001b[0;32m--> 285\u001b[0;31m     op = _Concatenator(\n\u001b[0m\u001b[1;32m    286\u001b[0m         \u001b[0mobjs\u001b[0m\u001b[0;34m,\u001b[0m\u001b[0;34m\u001b[0m\u001b[0;34m\u001b[0m\u001b[0m\n\u001b[1;32m    287\u001b[0m         \u001b[0maxis\u001b[0m\u001b[0;34m=\u001b[0m\u001b[0maxis\u001b[0m\u001b[0;34m,\u001b[0m\u001b[0;34m\u001b[0m\u001b[0;34m\u001b[0m\u001b[0m\n",
      "\u001b[0;32m~/.local/lib/python3.8/site-packages/pandas/core/reshape/concat.py\u001b[0m in \u001b[0;36m__init__\u001b[0;34m(self, objs, axis, join, keys, levels, names, ignore_index, verify_integrity, copy, sort)\u001b[0m\n\u001b[1;32m    340\u001b[0m \u001b[0;34m\u001b[0m\u001b[0m\n\u001b[1;32m    341\u001b[0m         \u001b[0;32mif\u001b[0m \u001b[0mlen\u001b[0m\u001b[0;34m(\u001b[0m\u001b[0mobjs\u001b[0m\u001b[0;34m)\u001b[0m \u001b[0;34m==\u001b[0m \u001b[0;36m0\u001b[0m\u001b[0;34m:\u001b[0m\u001b[0;34m\u001b[0m\u001b[0;34m\u001b[0m\u001b[0m\n\u001b[0;32m--> 342\u001b[0;31m             \u001b[0;32mraise\u001b[0m \u001b[0mValueError\u001b[0m\u001b[0;34m(\u001b[0m\u001b[0;34m\"No objects to concatenate\"\u001b[0m\u001b[0;34m)\u001b[0m\u001b[0;34m\u001b[0m\u001b[0;34m\u001b[0m\u001b[0m\n\u001b[0m\u001b[1;32m    343\u001b[0m \u001b[0;34m\u001b[0m\u001b[0m\n\u001b[1;32m    344\u001b[0m         \u001b[0;32mif\u001b[0m \u001b[0mkeys\u001b[0m \u001b[0;32mis\u001b[0m \u001b[0;32mNone\u001b[0m\u001b[0;34m:\u001b[0m\u001b[0;34m\u001b[0m\u001b[0;34m\u001b[0m\u001b[0m\n",
      "\u001b[0;31mValueError\u001b[0m: No objects to concatenate"
     ]
    }
   ],
   "source": [
    "import glob\n",
    "\n",
    "scorpio = []\n",
    "for event in events:\n",
    "    path = r'./results/latency/scorpio/%s' % event # use your path\n",
    "    all_files = glob.glob(path + \"/*\")\n",
    "\n",
    "    li = []\n",
    "\n",
    "    for filename in all_files:\n",
    "        df = pd.read_csv(filename, index_col=None, header=0)\n",
    "        li.append(df)\n",
    "\n",
    "    scorpio.append(pd.concat(li, axis=0, ignore_index=True))\n",
    "    \n",
    "# Estimate the delta between the collection and notification timestamps\n",
    "scorpio_means = []\n",
    "for table in scorpio:\n",
    "    table[\"deltaTimestamp\"] = table[\"notificationTimestamp\"] - table[\"collectionTimestamp\"]\n",
    "    scorpio_means.append(table[\"deltaTimestamp\"].mean())"
   ]
  },
  {
   "cell_type": "markdown",
   "id": "d741e04d",
   "metadata": {},
   "source": [
    "### Orion-LD"
   ]
  },
  {
   "cell_type": "code",
   "execution_count": 38,
   "id": "23011441",
   "metadata": {},
   "outputs": [],
   "source": [
    "import glob\n",
    "\n",
    "orion = []\n",
    "for event in events:\n",
    "    path = r'./results/latency/orion/%s' % event # use your path\n",
    "    all_files = glob.glob(path + \"/*\")\n",
    "\n",
    "    li = []\n",
    "\n",
    "    for filename in all_files:\n",
    "        df = pd.read_csv(filename, index_col=None, header=0)\n",
    "        li.append(df)\n",
    "\n",
    "    orion.append(pd.concat(li, axis=0, ignore_index=True))\n",
    "    \n",
    "# Estimate the delta between the collection and notification timestamps\n",
    "orion_means = []\n",
    "for table in orion:\n",
    "    table[\"deltaTimestamp\"] = table[\"notificationTimestamp\"] - table[\"collectionTimestamp\"]\n",
    "    orion_means.append(table[\"deltaTimestamp\"].mean())"
   ]
  },
  {
   "cell_type": "markdown",
   "id": "bcbe3df5",
   "metadata": {},
   "source": [
    "### Kafka-AVRO"
   ]
  },
  {
   "cell_type": "code",
   "execution_count": 39,
   "id": "2b5aa5b0",
   "metadata": {},
   "outputs": [],
   "source": [
    "import glob\n",
    "\n",
    "kafka_avro = []\n",
    "for event in events:\n",
    "    path = r'./results/latency/kafka_avro/%s' % event # use your path\n",
    "    all_files = glob.glob(path + \"/*\")\n",
    "\n",
    "    li = []\n",
    "\n",
    "    for filename in all_files:\n",
    "        df = pd.read_csv(filename, index_col=None, header=0)\n",
    "        li.append(df)\n",
    "\n",
    "    kafka_avro.append(pd.concat(li, axis=0, ignore_index=True))\n",
    "\n",
    "# Estimate the delta between the collection and notification timestamps\n",
    "kafka_avro_means = []\n",
    "for table in kafka_avro:\n",
    "    table[\"deltaTimestamp\"] = table[\"notificationTimestamp\"] - table[\"collectionTimestamp\"]\n",
    "    kafka_avro_means.append(table[\"deltaTimestamp\"].mean())"
   ]
  },
  {
   "cell_type": "markdown",
   "id": "719ba513",
   "metadata": {},
   "source": [
    "### Kafka-NGSI-LD"
   ]
  },
  {
   "cell_type": "code",
   "execution_count": 40,
   "id": "b120b788",
   "metadata": {},
   "outputs": [],
   "source": [
    "import glob\n",
    "\n",
    "kafka_ngsi_ld = []\n",
    "for event in events:\n",
    "    path = r'./results/latency/kafka_ngsi-ld/%s' % event # use your path\n",
    "    all_files = glob.glob(path + \"/*\")\n",
    "\n",
    "    li = []\n",
    "\n",
    "    for filename in all_files:\n",
    "        df = pd.read_csv(filename, index_col=None, header=0)\n",
    "        li.append(df)\n",
    "\n",
    "    kafka_ngsi_ld.append(pd.concat(li, axis=0, ignore_index=True))\n",
    "\n",
    "# Estimate the delta between the collection and notification timestamps\n",
    "kafka_ngsi_ld_means = []\n",
    "for table in kafka_ngsi_ld:\n",
    "    table[\"deltaTimestamp\"] = table[\"notificationTimestamp\"] - table[\"collectionTimestamp\"]\n",
    "    kafka_ngsi_ld_means.append(table[\"deltaTimestamp\"].mean())"
   ]
  },
  {
   "cell_type": "code",
   "execution_count": 41,
   "id": "d213474e",
   "metadata": {},
   "outputs": [
    {
     "data": {
      "text/plain": [
       "collectionTimestamp     1622911000954.179\n",
       "notificationTimestamp   1622911001245.450\n",
       "deltaTimestamp                    291.271\n",
       "dtype: float64"
      ]
     },
     "execution_count": 41,
     "metadata": {},
     "output_type": "execute_result"
    }
   ],
   "source": [
    "orion[0].mean()"
   ]
  },
  {
   "cell_type": "code",
   "execution_count": 42,
   "id": "9507a41a",
   "metadata": {},
   "outputs": [
    {
     "data": {
      "text/plain": [
       "collectionTimestamp     1622888133847.335\n",
       "notificationTimestamp   1622888134434.384\n",
       "dtype: float64"
      ]
     },
     "execution_count": 42,
     "metadata": {},
     "output_type": "execute_result"
    }
   ],
   "source": [
    "scorpio[0].mean()"
   ]
  },
  {
   "cell_type": "markdown",
   "id": "7ccb0530",
   "metadata": {},
   "source": [
    "## Visualization\n",
    "\n",
    "Once the datasets haven prepared, move on to creating some plots."
   ]
  },
  {
   "cell_type": "code",
   "execution_count": 43,
   "id": "feb599c8",
   "metadata": {},
   "outputs": [],
   "source": [
    "import matplotlib.pyplot as plt\n",
    "plt.close(\"all\")"
   ]
  },
  {
   "cell_type": "code",
   "execution_count": 44,
   "id": "2c62c98a",
   "metadata": {},
   "outputs": [
    {
     "data": {
      "text/plain": [
       "<AxesSubplot:xlabel='Events'>"
      ]
     },
     "execution_count": 44,
     "metadata": {},
     "output_type": "execute_result"
    },
    {
     "data": {
      "image/png": "[encoded data removed]",
      "text/plain": [
       "<Figure size 432x288 with 1 Axes>"
      ]
     },
     "metadata": {
      "needs_background": "light"
     },
     "output_type": "display_data"
    }
   ],
   "source": [
    "latency = pd.DataFrame({\"Events\": events,\"Orion-LD\": orion_means, \n",
    "                        \"Kafka-AVRO\": kafka_avro_means, \"Kafka-NGSI-LD\": kafka_ngsi_ld_means })\n",
    "latency.plot.bar(x=\"Events\")"
   ]
  },
  {
   "cell_type": "code",
   "execution_count": 67,
   "id": "9d330635",
   "metadata": {},
   "outputs": [
    {
     "ename": "KeyError",
     "evalue": "'Timeseries/s'",
     "output_type": "error",
     "traceback": [
      "\u001b[0;31m---------------------------------------------------------------------------\u001b[0m",
      "\u001b[0;31mKeyError\u001b[0m                                  Traceback (most recent call last)",
      "\u001b[0;32m~/.local/lib/python3.8/site-packages/pandas/core/indexes/base.py\u001b[0m in \u001b[0;36mget_loc\u001b[0;34m(self, key, method, tolerance)\u001b[0m\n\u001b[1;32m   3079\u001b[0m             \u001b[0;32mtry\u001b[0m\u001b[0;34m:\u001b[0m\u001b[0;34m\u001b[0m\u001b[0;34m\u001b[0m\u001b[0m\n\u001b[0;32m-> 3080\u001b[0;31m                 \u001b[0;32mreturn\u001b[0m \u001b[0mself\u001b[0m\u001b[0;34m.\u001b[0m\u001b[0m_engine\u001b[0m\u001b[0;34m.\u001b[0m\u001b[0mget_loc\u001b[0m\u001b[0;34m(\u001b[0m\u001b[0mcasted_key\u001b[0m\u001b[0;34m)\u001b[0m\u001b[0;34m\u001b[0m\u001b[0;34m\u001b[0m\u001b[0m\n\u001b[0m\u001b[1;32m   3081\u001b[0m             \u001b[0;32mexcept\u001b[0m \u001b[0mKeyError\u001b[0m \u001b[0;32mas\u001b[0m \u001b[0merr\u001b[0m\u001b[0;34m:\u001b[0m\u001b[0;34m\u001b[0m\u001b[0;34m\u001b[0m\u001b[0m\n",
      "\u001b[0;32mpandas/_libs/index.pyx\u001b[0m in \u001b[0;36mpandas._libs.index.IndexEngine.get_loc\u001b[0;34m()\u001b[0m\n",
      "\u001b[0;32mpandas/_libs/index.pyx\u001b[0m in \u001b[0;36mpandas._libs.index.IndexEngine.get_loc\u001b[0;34m()\u001b[0m\n",
      "\u001b[0;32mpandas/_libs/hashtable_class_helper.pxi\u001b[0m in \u001b[0;36mpandas._libs.hashtable.PyObjectHashTable.get_item\u001b[0;34m()\u001b[0m\n",
      "\u001b[0;32mpandas/_libs/hashtable_class_helper.pxi\u001b[0m in \u001b[0;36mpandas._libs.hashtable.PyObjectHashTable.get_item\u001b[0;34m()\u001b[0m\n",
      "\u001b[0;31mKeyError\u001b[0m: 'Timeseries/s'",
      "\nThe above exception was the direct cause of the following exception:\n",
      "\u001b[0;31mKeyError\u001b[0m                                  Traceback (most recent call last)",
      "\u001b[0;32m<ipython-input-67-6188ade26f2d>\u001b[0m in \u001b[0;36m<module>\u001b[0;34m\u001b[0m\n\u001b[1;32m      1\u001b[0m latency = pd.DataFrame({\"Events\": events,\"Kafka-NGSI-LD\": kafka_ngsi_ld_means, \n\u001b[1;32m      2\u001b[0m                         \"Kafka-AVRO\": kafka_avro_means })\n\u001b[0;32m----> 3\u001b[0;31m \u001b[0mlatency\u001b[0m\u001b[0;34m.\u001b[0m\u001b[0mplot\u001b[0m\u001b[0;34m.\u001b[0m\u001b[0mbar\u001b[0m\u001b[0;34m(\u001b[0m\u001b[0mx\u001b[0m\u001b[0;34m=\u001b[0m\u001b[0;34m\"Events\"\u001b[0m\u001b[0;34m,\u001b[0m \u001b[0my\u001b[0m\u001b[0;34m=\u001b[0m\u001b[0;34m\"Timeseries/s\"\u001b[0m\u001b[0;34m,\u001b[0m \u001b[0mylim\u001b[0m\u001b[0;34m=\u001b[0m\u001b[0;34m(\u001b[0m\u001b[0;36m500\u001b[0m\u001b[0;34m,\u001b[0m\u001b[0;36m800\u001b[0m\u001b[0;34m)\u001b[0m\u001b[0;34m)\u001b[0m\u001b[0;34m\u001b[0m\u001b[0;34m\u001b[0m\u001b[0m\n\u001b[0m",
      "\u001b[0;32m~/.local/lib/python3.8/site-packages/pandas/plotting/_core.py\u001b[0m in \u001b[0;36mbar\u001b[0;34m(self, x, y, **kwargs)\u001b[0m\n\u001b[1;32m   1111\u001b[0m         \u001b[0mother\u001b[0m \u001b[0maxis\u001b[0m \u001b[0mrepresents\u001b[0m \u001b[0ma\u001b[0m \u001b[0mmeasured\u001b[0m \u001b[0mvalue\u001b[0m\u001b[0;34m.\u001b[0m\u001b[0;34m\u001b[0m\u001b[0;34m\u001b[0m\u001b[0m\n\u001b[1;32m   1112\u001b[0m         \"\"\"\n\u001b[0;32m-> 1113\u001b[0;31m         \u001b[0;32mreturn\u001b[0m \u001b[0mself\u001b[0m\u001b[0;34m(\u001b[0m\u001b[0mkind\u001b[0m\u001b[0;34m=\u001b[0m\u001b[0;34m\"bar\"\u001b[0m\u001b[0;34m,\u001b[0m \u001b[0mx\u001b[0m\u001b[0;34m=\u001b[0m\u001b[0mx\u001b[0m\u001b[0;34m,\u001b[0m \u001b[0my\u001b[0m\u001b[0;34m=\u001b[0m\u001b[0my\u001b[0m\u001b[0;34m,\u001b[0m \u001b[0;34m**\u001b[0m\u001b[0mkwargs\u001b[0m\u001b[0;34m)\u001b[0m\u001b[0;34m\u001b[0m\u001b[0;34m\u001b[0m\u001b[0m\n\u001b[0m\u001b[1;32m   1114\u001b[0m \u001b[0;34m\u001b[0m\u001b[0m\n\u001b[1;32m   1115\u001b[0m     @Appender(\n",
      "\u001b[0;32m~/.local/lib/python3.8/site-packages/pandas/plotting/_core.py\u001b[0m in \u001b[0;36m__call__\u001b[0;34m(self, *args, **kwargs)\u001b[0m\n\u001b[1;32m    939\u001b[0m \u001b[0;34m\u001b[0m\u001b[0m\n\u001b[1;32m    940\u001b[0m                 \u001b[0;31m# don't overwrite\u001b[0m\u001b[0;34m\u001b[0m\u001b[0;34m\u001b[0m\u001b[0;34m\u001b[0m\u001b[0m\n\u001b[0;32m--> 941\u001b[0;31m                 \u001b[0mdata\u001b[0m \u001b[0;34m=\u001b[0m \u001b[0mdata\u001b[0m\u001b[0;34m[\u001b[0m\u001b[0my\u001b[0m\u001b[0;34m]\u001b[0m\u001b[0;34m.\u001b[0m\u001b[0mcopy\u001b[0m\u001b[0;34m(\u001b[0m\u001b[0;34m)\u001b[0m\u001b[0;34m\u001b[0m\u001b[0;34m\u001b[0m\u001b[0m\n\u001b[0m\u001b[1;32m    942\u001b[0m \u001b[0;34m\u001b[0m\u001b[0m\n\u001b[1;32m    943\u001b[0m                 \u001b[0;32mif\u001b[0m \u001b[0misinstance\u001b[0m\u001b[0;34m(\u001b[0m\u001b[0mdata\u001b[0m\u001b[0;34m,\u001b[0m \u001b[0mABCSeries\u001b[0m\u001b[0;34m)\u001b[0m\u001b[0;34m:\u001b[0m\u001b[0;34m\u001b[0m\u001b[0;34m\u001b[0m\u001b[0m\n",
      "\u001b[0;32m~/.local/lib/python3.8/site-packages/pandas/core/frame.py\u001b[0m in \u001b[0;36m__getitem__\u001b[0;34m(self, key)\u001b[0m\n\u001b[1;32m   3022\u001b[0m             \u001b[0;32mif\u001b[0m \u001b[0mself\u001b[0m\u001b[0;34m.\u001b[0m\u001b[0mcolumns\u001b[0m\u001b[0;34m.\u001b[0m\u001b[0mnlevels\u001b[0m \u001b[0;34m>\u001b[0m \u001b[0;36m1\u001b[0m\u001b[0;34m:\u001b[0m\u001b[0;34m\u001b[0m\u001b[0;34m\u001b[0m\u001b[0m\n\u001b[1;32m   3023\u001b[0m                 \u001b[0;32mreturn\u001b[0m \u001b[0mself\u001b[0m\u001b[0;34m.\u001b[0m\u001b[0m_getitem_multilevel\u001b[0m\u001b[0;34m(\u001b[0m\u001b[0mkey\u001b[0m\u001b[0;34m)\u001b[0m\u001b[0;34m\u001b[0m\u001b[0;34m\u001b[0m\u001b[0m\n\u001b[0;32m-> 3024\u001b[0;31m             \u001b[0mindexer\u001b[0m \u001b[0;34m=\u001b[0m \u001b[0mself\u001b[0m\u001b[0;34m.\u001b[0m\u001b[0mcolumns\u001b[0m\u001b[0;34m.\u001b[0m\u001b[0mget_loc\u001b[0m\u001b[0;34m(\u001b[0m\u001b[0mkey\u001b[0m\u001b[0;34m)\u001b[0m\u001b[0;34m\u001b[0m\u001b[0;34m\u001b[0m\u001b[0m\n\u001b[0m\u001b[1;32m   3025\u001b[0m             \u001b[0;32mif\u001b[0m \u001b[0mis_integer\u001b[0m\u001b[0;34m(\u001b[0m\u001b[0mindexer\u001b[0m\u001b[0;34m)\u001b[0m\u001b[0;34m:\u001b[0m\u001b[0;34m\u001b[0m\u001b[0;34m\u001b[0m\u001b[0m\n\u001b[1;32m   3026\u001b[0m                 \u001b[0mindexer\u001b[0m \u001b[0;34m=\u001b[0m \u001b[0;34m[\u001b[0m\u001b[0mindexer\u001b[0m\u001b[0;34m]\u001b[0m\u001b[0;34m\u001b[0m\u001b[0;34m\u001b[0m\u001b[0m\n",
      "\u001b[0;32m~/.local/lib/python3.8/site-packages/pandas/core/indexes/base.py\u001b[0m in \u001b[0;36mget_loc\u001b[0;34m(self, key, method, tolerance)\u001b[0m\n\u001b[1;32m   3080\u001b[0m                 \u001b[0;32mreturn\u001b[0m \u001b[0mself\u001b[0m\u001b[0;34m.\u001b[0m\u001b[0m_engine\u001b[0m\u001b[0;34m.\u001b[0m\u001b[0mget_loc\u001b[0m\u001b[0;34m(\u001b[0m\u001b[0mcasted_key\u001b[0m\u001b[0;34m)\u001b[0m\u001b[0;34m\u001b[0m\u001b[0;34m\u001b[0m\u001b[0m\n\u001b[1;32m   3081\u001b[0m             \u001b[0;32mexcept\u001b[0m \u001b[0mKeyError\u001b[0m \u001b[0;32mas\u001b[0m \u001b[0merr\u001b[0m\u001b[0;34m:\u001b[0m\u001b[0;34m\u001b[0m\u001b[0;34m\u001b[0m\u001b[0m\n\u001b[0;32m-> 3082\u001b[0;31m                 \u001b[0;32mraise\u001b[0m \u001b[0mKeyError\u001b[0m\u001b[0;34m(\u001b[0m\u001b[0mkey\u001b[0m\u001b[0;34m)\u001b[0m \u001b[0;32mfrom\u001b[0m \u001b[0merr\u001b[0m\u001b[0;34m\u001b[0m\u001b[0;34m\u001b[0m\u001b[0m\n\u001b[0m\u001b[1;32m   3083\u001b[0m \u001b[0;34m\u001b[0m\u001b[0m\n\u001b[1;32m   3084\u001b[0m         \u001b[0;32mif\u001b[0m \u001b[0mtolerance\u001b[0m \u001b[0;32mis\u001b[0m \u001b[0;32mnot\u001b[0m \u001b[0;32mNone\u001b[0m\u001b[0;34m:\u001b[0m\u001b[0;34m\u001b[0m\u001b[0;34m\u001b[0m\u001b[0m\n",
      "\u001b[0;31mKeyError\u001b[0m: 'Timeseries/s'"
     ]
    }
   ],
   "source": [
    "latency = pd.DataFrame({\"Events\": events,\"Kafka-NGSI-LD\": kafka_ngsi_ld_means, \n",
    "                        \"Kafka-AVRO\": kafka_avro_means })\n",
    "latency.plot.bar(x=\"Events\", ylim=(500,800))"
   ]
  },
  {
   "cell_type": "markdown",
   "id": "513faac2",
   "metadata": {},
   "source": [
    "# Container Performance\n",
    "\n",
    "The following snippet produces docker stats and appends the results to a CSV file. For these validation tests, we collect the memory and CPU percentage usage:\n",
    "\n",
    "```bash\n",
    "while true; do docker stats <my_container> --no-stream --format \"{{ .CPUPerc }},{{ .MemPerc }}\" | tee --append results/cpu_memory/<my_container>/<my_container>_<events>.csv; sleep 1; done\n",
    "```\n",
    "\n",
    "We collect results for each NGSI-LD Broker and for Kafka while running the latency tests. Make sure to specify the `events` value used for the latency tests.\n",
    "\n",
    "You can also use the `collect_docker_stats.sh` utility. The following example collects CPU and memory percentage usage stats for kafka when 60 events are sent every second:\n",
    "\n",
    "```bash\n",
    "./collect_docker_stats.sh kafka 60\n",
    "```"
   ]
  },
  {
   "cell_type": "markdown",
   "id": "d644b0f6",
   "metadata": {},
   "source": [
    "## Building the Datasets\n",
    "\n",
    "Process the generated CSV files using panda. First remove the percentage character from the memory and CPU columns. Then generate two charts - memory and CPU - that compare Kafka container against each NGSI-LD Broker container."
   ]
  },
  {
   "cell_type": "markdown",
   "id": "99bf5ada",
   "metadata": {},
   "source": [
    "### Scorpio"
   ]
  },
  {
   "cell_type": "code",
   "execution_count": 103,
   "id": "de8a6883",
   "metadata": {},
   "outputs": [],
   "source": [
    "scorpio_cpu = []\n",
    "scorpio_memory = []\n",
    "for event in events:\n",
    "    dataset_path = r'./results/cpu_memory/scorpio/scorpio_%s.csv' % event # use your path    \n",
    "    table = pd.read_csv(dataset_path, index_col=None, \n",
    "                        header=0, names=[\"cpu\", \"memory\"])\n",
    "    table['cpu'] = table['cpu'].str.rstrip('%').astype('float') / 100.0\n",
    "    table['memory'] = table['memory'].str.rstrip('%').astype('float') / 100.0\n",
    "    scorpio_cpu.append(table['cpu'].mean())\n",
    "    scorpio_memory.append(table['memory'].mean())"
   ]
  },
  {
   "cell_type": "markdown",
   "id": "0c47bc4c",
   "metadata": {},
   "source": [
    "### Orion-LD"
   ]
  },
  {
   "cell_type": "code",
   "execution_count": 56,
   "id": "792cf756",
   "metadata": {},
   "outputs": [],
   "source": [
    "orion_cpu = []\n",
    "orion_memory = []\n",
    "for event in events:\n",
    "    dataset_path = r'./results/cpu_memory/orion/fiware-orion_%s.csv' % event # use your path    \n",
    "    table = pd.read_csv(dataset_path, index_col=None, \n",
    "                        header=0, names=[\"cpu\", \"memory\"])\n",
    "    table['cpu'] = table['cpu'].str.rstrip('%').astype('float') / 100.0\n",
    "    table['memory'] = table['memory'].str.rstrip('%').astype('float') / 100.0\n",
    "    orion_cpu.append(table['cpu'].mean())\n",
    "    orion_memory.append(table['memory'].mean())"
   ]
  },
  {
   "cell_type": "markdown",
   "id": "23599373",
   "metadata": {},
   "source": [
    "### Kafka-AVRO"
   ]
  },
  {
   "cell_type": "code",
   "execution_count": 58,
   "id": "43ca0e71",
   "metadata": {},
   "outputs": [],
   "source": [
    "kafka_avro_cpu = []\n",
    "kafka_avro_memory = []\n",
    "for event in events:\n",
    "    dataset_path = r'./results/cpu_memory/kafka_avro/kafka_%s.csv' % event # use your path    \n",
    "    table = pd.read_csv(dataset_path, index_col=None, \n",
    "                        header=None, names=[\"cpu\", \"memory\"])\n",
    "    table['cpu'] = table['cpu'].str.rstrip('%').astype('float') / 100.0\n",
    "    table['memory'] = table['memory'].str.rstrip('%').astype('float') / 100.0\n",
    "    kafka_avro_cpu.append(table['cpu'].mean())\n",
    "    kafka_avro_memory.append(table['memory'].mean())"
   ]
  },
  {
   "cell_type": "markdown",
   "id": "b3ec0586",
   "metadata": {},
   "source": [
    "### Kafka-NGSI-LD"
   ]
  },
  {
   "cell_type": "code",
   "execution_count": 59,
   "id": "12dd91c0",
   "metadata": {},
   "outputs": [],
   "source": [
    "kafka_ngsi_ld_cpu = []\n",
    "kafka_ngsi_ld_memory = []\n",
    "for event in events:\n",
    "    dataset_path = r'./results/cpu_memory/kafka_ngsi-ld/kafka_%s.csv' % event # use your path    \n",
    "    table = pd.read_csv(dataset_path, index_col=None, \n",
    "                        header=None, names=[\"cpu\", \"memory\"])\n",
    "    table['cpu'] = table['cpu'].str.rstrip('%').astype('float') / 100.0\n",
    "    table['memory'] = table['memory'].str.rstrip('%').astype('float') / 100.0\n",
    "    kafka_ngsi_ld_cpu.append(table['cpu'].mean())\n",
    "    kafka_ngsi_ld_memory.append(table['memory'].mean())"
   ]
  },
  {
   "cell_type": "markdown",
   "id": "8a9468cc",
   "metadata": {},
   "source": [
    "## Visualization"
   ]
  },
  {
   "cell_type": "markdown",
   "id": "b2938203",
   "metadata": {},
   "source": [
    "### CPU Performance"
   ]
  },
  {
   "cell_type": "code",
   "execution_count": 63,
   "id": "7e727b82",
   "metadata": {},
   "outputs": [
    {
     "data": {
      "text/plain": [
       "<AxesSubplot:xlabel='Events'>"
      ]
     },
     "execution_count": 63,
     "metadata": {},
     "output_type": "execute_result"
    },
    {
     "data": {
      "image/png": "[encoded data removed]",
      "text/plain": [
       "<Figure size 432x288 with 1 Axes>"
      ]
     },
     "metadata": {
      "needs_background": "light"
     },
     "output_type": "display_data"
    }
   ],
   "source": [
    "cpu_perf = pd.DataFrame({\"Events\": events,\"Orion\": orion_cpu, \"Kafka-AVRO\": kafka_avro_cpu,\n",
    "                        \"Kafka-NGSI-LD\": kafka_ngsi_ld_cpu})\n",
    "cpu_perf.plot.bar(x=\"Events\")"
   ]
  },
  {
   "cell_type": "markdown",
   "id": "ea3d4524",
   "metadata": {},
   "source": [
    "### Memory Performance"
   ]
  },
  {
   "cell_type": "code",
   "execution_count": 64,
   "id": "5272826b",
   "metadata": {},
   "outputs": [
    {
     "data": {
      "text/plain": [
       "<AxesSubplot:xlabel='Events'>"
      ]
     },
     "execution_count": 64,
     "metadata": {},
     "output_type": "execute_result"
    },
    {
     "data": {
      "image/png": "[encoded data removed]",
      "text/plain": [
       "<Figure size 432x288 with 1 Axes>"
      ]
     },
     "metadata": {
      "needs_background": "light"
     },
     "output_type": "display_data"
    }
   ],
   "source": [
    "memory_perf = pd.DataFrame({\"Events\": events,\"Orion\": orion_memory, \"Kafka-AVRO\": kafka_avro_memory,\n",
    "                           \"Kafka-NGSI-LD\": kafka_ngsi_ld_memory})\n",
    "memory_perf.plot.bar(x=\"Events\")"
   ]
  },
  {
   "cell_type": "code",
   "execution_count": null,
   "id": "898f1738",
   "metadata": {},
   "outputs": [],
   "source": []
  }
 ],
 "metadata": {
  "kernelspec": {
   "display_name": "Python 3",
   "language": "python",
   "name": "python3"
  },
  "language_info": {
   "codemirror_mode": {
    "name": "ipython",
    "version": 3
   },
   "file_extension": ".py",
   "mimetype": "text/x-python",
   "name": "python",
   "nbconvert_exporter": "python",
   "pygments_lexer": "ipython3",
   "version": "3.8.10"
  }
 },
 "nbformat": 4,
 "nbformat_minor": 5
}
