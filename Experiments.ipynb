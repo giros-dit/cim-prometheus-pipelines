{
 "cells": [
  {
   "cell_type": "markdown",
   "id": "7c5dcc8a",
   "metadata": {},
   "source": [
    "# Latency Comparison\n",
    "\n",
    "In this section we collect results from measuring the latency between ingesting data from the source and collecting the data from the broker (i.e., Kafka vs NGSI-LD Broker).\n",
    "\n",
    "First, execute the tests from Apache NiFi for each number of events to be sent to the broker every second. The results from these tests will be stored in `results/latency/<broker>/`.\n",
    "\n",
    "## Building the Datasets"
   ]
  },
  {
   "cell_type": "code",
   "execution_count": 1,
   "id": "02de5f4b",
   "metadata": {},
   "outputs": [],
   "source": [
    "import pandas as pd\n",
    "\n",
    "# Disable scientific notation in datasets\n",
    "pd.set_option('display.float_format', lambda x: '%.4f' % x)\n",
    "\n",
    "# Libraries to remove outliers\n",
    "from scipy import stats\n",
    "import numpy as np"
   ]
  },
  {
   "cell_type": "markdown",
   "id": "2272075c",
   "metadata": {},
   "source": [
    "Set list with number events per second configured for each experiment."
   ]
  },
  {
   "cell_type": "code",
   "execution_count": 2,
   "id": "8dcfc956",
   "metadata": {},
   "outputs": [],
   "source": [
    "events = [50,100,200,300,400]"
   ]
  },
  {
   "cell_type": "markdown",
   "id": "ee11e299",
   "metadata": {},
   "source": [
    "### Scorpio"
   ]
  },
  {
   "cell_type": "code",
   "execution_count": 22,
   "id": "79ad5df5",
   "metadata": {},
   "outputs": [],
   "source": [
    "import glob\n",
    "\n",
    "scorpio = []\n",
    "for event in events:\n",
    "    path = r'./results/latency/scorpio/%s' % event # use your path\n",
    "    all_files = glob.glob(path + \"/*\")\n",
    "\n",
    "    li = []\n",
    "\n",
    "    for filename in all_files:\n",
    "        df = pd.read_csv(filename, index_col=None, header=0)\n",
    "        li.append(df)\n",
    "\n",
    "    scorpio.append(pd.concat(li, axis=0, ignore_index=True))\n",
    "    \n",
    "# Estimate the delta between the collection and notification timestamps\n",
    "scorpio_means = []\n",
    "for table in scorpio:\n",
    "    table[\"deltaTimestamp\"] = table[\"notificationTimestamp\"] - table[\"collectionTimestamp\"]\n",
    "    scorpio_means.append(table[\"deltaTimestamp\"].mean())"
   ]
  },
  {
   "cell_type": "markdown",
   "id": "1155a32c",
   "metadata": {},
   "source": [
    "### Orion-LD"
   ]
  },
  {
   "cell_type": "code",
   "execution_count": 23,
   "id": "084e1d58",
   "metadata": {},
   "outputs": [],
   "source": [
    "import glob\n",
    "\n",
    "orion = []\n",
    "for event in events:\n",
    "    path = r'./results/latency/orion/%s' % event # use your path\n",
    "    all_files = glob.glob(path + \"/*\")\n",
    "\n",
    "    li = []\n",
    "\n",
    "    for filename in all_files:\n",
    "        df = pd.read_csv(filename, index_col=None, header=0)\n",
    "        li.append(df)\n",
    "\n",
    "    orion.append(pd.concat(li, axis=0, ignore_index=True))\n",
    "    \n",
    "# Estimate the delta between the collection and notification timestamps\n",
    "orion_means = []\n",
    "for table in orion:\n",
    "    table[\"deltaTimestamp\"] = table[\"notificationTimestamp\"] - table[\"collectionTimestamp\"]\n",
    "    orion_means.append(table[\"deltaTimestamp\"].mean())"
   ]
  },
  {
   "cell_type": "markdown",
   "id": "d8f2d6a9",
   "metadata": {},
   "source": [
    "### Kafka-AVRO"
   ]
  },
  {
   "cell_type": "code",
   "execution_count": 24,
   "id": "ed0557c5",
   "metadata": {},
   "outputs": [],
   "source": [
    "import glob\n",
    "\n",
    "kafka_avro = []\n",
    "for event in events:\n",
    "    path = r'./results/latency/kafka-avro/%s' % event # use your path\n",
    "    all_files = glob.glob(path + \"/*\")\n",
    "\n",
    "    li = []\n",
    "\n",
    "    for filename in all_files:\n",
    "        df = pd.read_csv(filename, index_col=None, header=0)\n",
    "        li.append(df)\n",
    "\n",
    "    kafka_avro.append(pd.concat(li, axis=0, ignore_index=True))\n",
    "\n",
    "# Estimate the delta between the collection and notification timestamps\n",
    "kafka_avro_means = []\n",
    "for table in kafka_avro:\n",
    "    table[\"deltaTimestamp\"] = table[\"notificationTimestamp\"] - table[\"collectionTimestamp\"]\n",
    "    kafka_avro_means.append(table[\"deltaTimestamp\"].mean())"
   ]
  },
  {
   "cell_type": "markdown",
   "id": "4b5d9640",
   "metadata": {},
   "source": [
    "### Kafka-NGSI-LD"
   ]
  },
  {
   "cell_type": "code",
   "execution_count": 25,
   "id": "9e9b793b",
   "metadata": {},
   "outputs": [],
   "source": [
    "import glob\n",
    "\n",
    "kafka_ngsi_ld = []\n",
    "for event in events:\n",
    "    path = r'./results/latency/kafka-ngsi-ld/%s' % event # use your path\n",
    "    all_files = glob.glob(path + \"/*\")\n",
    "\n",
    "    li = []\n",
    "\n",
    "    for filename in all_files:\n",
    "        df = pd.read_csv(filename, index_col=None, header=0)\n",
    "        li.append(df)\n",
    "\n",
    "    kafka_ngsi_ld.append(pd.concat(li, axis=0, ignore_index=True))\n",
    "\n",
    "# Estimate the delta between the collection and notification timestamps\n",
    "kafka_ngsi_ld_means = []\n",
    "for table in kafka_ngsi_ld:\n",
    "    table[\"deltaTimestamp\"] = table[\"notificationTimestamp\"] - table[\"collectionTimestamp\"]\n",
    "    kafka_ngsi_ld_means.append(table[\"deltaTimestamp\"].mean())"
   ]
  },
  {
   "cell_type": "markdown",
   "id": "2901b3ea",
   "metadata": {},
   "source": [
    "## Visualization\n",
    "\n",
    "Once the datasets haven prepared, move on to creating some plots."
   ]
  },
  {
   "cell_type": "code",
   "execution_count": 26,
   "id": "2938eea4",
   "metadata": {},
   "outputs": [],
   "source": [
    "import matplotlib.pyplot as plt\n",
    "from matplotlib import cm\n",
    "plt.close(\"all\")\n"
   ]
  },
  {
   "cell_type": "code",
   "execution_count": 28,
   "id": "cb0a356d",
   "metadata": {
    "scrolled": true
   },
   "outputs": [
    {
     "data": {
      "text/html": [
       "<div>\n",
       "<style scoped>\n",
       "    .dataframe tbody tr th:only-of-type {\n",
       "        vertical-align: middle;\n",
       "    }\n",
       "\n",
       "    .dataframe tbody tr th {\n",
       "        vertical-align: top;\n",
       "    }\n",
       "\n",
       "    .dataframe thead th {\n",
       "        text-align: right;\n",
       "    }\n",
       "</style>\n",
       "<table border=\"1\" class=\"dataframe\">\n",
       "  <thead>\n",
       "    <tr style=\"text-align: right;\">\n",
       "      <th></th>\n",
       "      <th>Events</th>\n",
       "      <th>Orion-LD</th>\n",
       "      <th>Scorpio</th>\n",
       "      <th>Kafka-AVRO</th>\n",
       "    </tr>\n",
       "  </thead>\n",
       "  <tbody>\n",
       "    <tr>\n",
       "      <th>0</th>\n",
       "      <td>50</td>\n",
       "      <td>115.4036</td>\n",
       "      <td>1050.6072</td>\n",
       "      <td>562.6737</td>\n",
       "    </tr>\n",
       "    <tr>\n",
       "      <th>1</th>\n",
       "      <td>100</td>\n",
       "      <td>137.5705</td>\n",
       "      <td>1818.4519</td>\n",
       "      <td>575.5736</td>\n",
       "    </tr>\n",
       "    <tr>\n",
       "      <th>2</th>\n",
       "      <td>200</td>\n",
       "      <td>311.0001</td>\n",
       "      <td>37437.3471</td>\n",
       "      <td>567.3322</td>\n",
       "    </tr>\n",
       "    <tr>\n",
       "      <th>3</th>\n",
       "      <td>300</td>\n",
       "      <td>5148.3037</td>\n",
       "      <td>81529.9301</td>\n",
       "      <td>601.0447</td>\n",
       "    </tr>\n",
       "    <tr>\n",
       "      <th>4</th>\n",
       "      <td>400</td>\n",
       "      <td>39679.4589</td>\n",
       "      <td>94124.3662</td>\n",
       "      <td>613.5140</td>\n",
       "    </tr>\n",
       "  </tbody>\n",
       "</table>\n",
       "</div>"
      ],
      "text/plain": [
       "   Events   Orion-LD    Scorpio  Kafka-AVRO\n",
       "0      50   115.4036  1050.6072    562.6737\n",
       "1     100   137.5705  1818.4519    575.5736\n",
       "2     200   311.0001 37437.3471    567.3322\n",
       "3     300  5148.3037 81529.9301    601.0447\n",
       "4     400 39679.4589 94124.3662    613.5140"
      ]
     },
     "execution_count": 28,
     "metadata": {},
     "output_type": "execute_result"
    },
    {
     "data": {
      "image/png": "[encoded data removed]",
      "text/plain": [
       "<Figure size 432x288 with 1 Axes>"
      ]
     },
     "metadata": {
      "needs_background": "light"
     },
     "output_type": "display_data"
    }
   ],
   "source": [
    "latency = pd.DataFrame({\"Events\": events,\"Orion-LD\": orion_means,\n",
    "                       \"Scorpio\": scorpio_means,\n",
    "                       \"Kafka-AVRO\": kafka_avro_means})\n",
    "#colors = ['tab:blue','tab:orange', \"tab:green\", \"tab:red\"]\n",
    "colors=cm.get_cmap('viridis', 4).colors\n",
    "latency_plot = latency.plot.bar(x=\"Events\", logy=True, color=colors)\n",
    "latency_plot.set_xlabel(\"Number of samples per second\")\n",
    "latency_plot.set_ylabel(\"Latency (ms)\")\n",
    "latency"
   ]
  },
  {
   "cell_type": "code",
   "execution_count": 29,
   "id": "a2355c24",
   "metadata": {},
   "outputs": [
    {
     "data": {
      "text/plain": [
       "Text(0, 0.5, 'Latency (ms)')"
      ]
     },
     "execution_count": 29,
     "metadata": {},
     "output_type": "execute_result"
    },
    {
     "data": {
      "image/png": "[encoded data removed]",
      "text/plain": [
       "<Figure size 432x288 with 1 Axes>"
      ]
     },
     "metadata": {
      "needs_background": "light"
     },
     "output_type": "display_data"
    }
   ],
   "source": [
    "latency_kafka = pd.DataFrame({\"Events\": events,\n",
    "                              \"Kafka-NGSI-LD\": kafka_ngsi_ld_means, \n",
    "                              \"Kafka-AVRO\": kafka_avro_means })\n",
    "#colors = ['tab:red','tab:green']\n",
    "colors=cm.get_cmap('viridis', 2).colors\n",
    "latency_kafka_plot = latency_kafka.plot.bar(x=\"Events\", ylim=(500,650), color=colors)\n",
    "latency_kafka_plot.set_xlabel(\"Number of samples per second\")\n",
    "latency_kafka_plot.set_ylabel(\"Latency (ms)\")"
   ]
  },
  {
   "cell_type": "markdown",
   "id": "97425d2c",
   "metadata": {},
   "source": [
    "# Container Performance\n",
    "\n",
    "The following snippet produces docker stats and appends the results to a CSV file. For these validation tests, we collect the memory and CPU percentage usage:\n",
    "\n",
    "```bash\n",
    "while true; do docker stats <my_container> --no-stream --format \"{{ .Name }},{{ .CPUPerc }},{{ .MemPerc }}\" | tee --append results/cpu_memory/<my_container>/<my_container>_<events>.csv; sleep 1; done\n",
    "```\n",
    "\n",
    "The following example collects CPU and memory percentage usage stats for the services dependent on the Orion-LD broker when 50 events are sent every second.\n",
    "```bash\n",
    "while true; do docker stats db-mongo fiware-orion nifi --no-stream --format \"{{ .Name }},{{ .CPUPerc }},{{ .MemPerc }}\" | tee --append results/cpu_memory/orion/orion_50.csv; sleep 1; done\n",
    "```\n",
    "\n",
    "We collect results for each NGSI-LD Broker and for Kafka while running the latency tests. Make sure to specify the `events` value used for the latency tests.\n",
    "\n",
    "You can also use the `collect_docker_stats.sh` utility. The following example collects CPU and memory percentage usage stats for kafka when 60 events are sent every second:\n",
    "\n",
    "```bash\n",
    "./collect_docker_stats.sh kafka 60\n",
    "```"
   ]
  },
  {
   "cell_type": "markdown",
   "id": "06d885b0",
   "metadata": {},
   "source": [
    "## Building the Datasets\n",
    "\n",
    "Process the generated CSV files using panda. First remove the percentage character from the memory and CPU columns. Then generate two charts - memory and CPU - that compare Kafka container against each NGSI-LD Broker container."
   ]
  },
  {
   "cell_type": "markdown",
   "id": "64cc3c1e",
   "metadata": {},
   "source": [
    "### Scorpio"
   ]
  },
  {
   "cell_type": "code",
   "execution_count": 30,
   "id": "b821cfed",
   "metadata": {},
   "outputs": [],
   "source": [
    "scorpio_services = []\n",
    "for event in events:\n",
    "    dataset_path = r'./results/cpu_memory/scorpio/scorpio_%s.csv' % event # use your path    \n",
    "    table = pd.read_csv(dataset_path, index_col=0, \n",
    "                        header=0, names=[\"service\", \"cpu\", \"memory\"])\n",
    "    table['cpu'] = table['cpu'].str.rstrip('%').astype('float') / 100.0\n",
    "    table['memory'] = table['memory'].str.rstrip('%').astype('float') / 100.0\n",
    "    scorpio_services.append(table)"
   ]
  },
  {
   "cell_type": "code",
   "execution_count": 31,
   "id": "727b99b5",
   "metadata": {},
   "outputs": [],
   "source": [
    "scorpio_cpu = {}\n",
    "for table in scorpio_services:\n",
    "    cpu_means = table.groupby(\"service\").mean()[\"cpu\"]\n",
    "    for index,value in cpu_means.iteritems():\n",
    "        if index == \"nifi\":\n",
    "            continue\n",
    "        if index not in scorpio_cpu:\n",
    "            scorpio_cpu[index] = []\n",
    "        scorpio_cpu[index].append(value)"
   ]
  },
  {
   "cell_type": "code",
   "execution_count": 32,
   "id": "1c31542a",
   "metadata": {
    "scrolled": true
   },
   "outputs": [
    {
     "data": {
      "text/html": [
       "<div>\n",
       "<style scoped>\n",
       "    .dataframe tbody tr th:only-of-type {\n",
       "        vertical-align: middle;\n",
       "    }\n",
       "\n",
       "    .dataframe tbody tr th {\n",
       "        vertical-align: top;\n",
       "    }\n",
       "\n",
       "    .dataframe thead th {\n",
       "        text-align: right;\n",
       "    }\n",
       "</style>\n",
       "<table border=\"1\" class=\"dataframe\">\n",
       "  <thead>\n",
       "    <tr style=\"text-align: right;\">\n",
       "      <th></th>\n",
       "      <th>kafka</th>\n",
       "      <th>postgres</th>\n",
       "      <th>scorpio</th>\n",
       "    </tr>\n",
       "  </thead>\n",
       "  <tbody>\n",
       "    <tr>\n",
       "      <th>50</th>\n",
       "      <td>0.1847</td>\n",
       "      <td>0.1707</td>\n",
       "      <td>0.6961</td>\n",
       "    </tr>\n",
       "    <tr>\n",
       "      <th>100</th>\n",
       "      <td>0.2774</td>\n",
       "      <td>0.2673</td>\n",
       "      <td>1.1033</td>\n",
       "    </tr>\n",
       "    <tr>\n",
       "      <th>200</th>\n",
       "      <td>0.3699</td>\n",
       "      <td>0.4372</td>\n",
       "      <td>1.7468</td>\n",
       "    </tr>\n",
       "    <tr>\n",
       "      <th>300</th>\n",
       "      <td>0.3586</td>\n",
       "      <td>0.5067</td>\n",
       "      <td>1.6857</td>\n",
       "    </tr>\n",
       "    <tr>\n",
       "      <th>400</th>\n",
       "      <td>0.3412</td>\n",
       "      <td>0.4242</td>\n",
       "      <td>1.5432</td>\n",
       "    </tr>\n",
       "  </tbody>\n",
       "</table>\n",
       "</div>"
      ],
      "text/plain": [
       "     kafka  postgres  scorpio\n",
       "50  0.1847    0.1707   0.6961\n",
       "100 0.2774    0.2673   1.1033\n",
       "200 0.3699    0.4372   1.7468\n",
       "300 0.3586    0.5067   1.6857\n",
       "400 0.3412    0.4242   1.5432"
      ]
     },
     "execution_count": 32,
     "metadata": {},
     "output_type": "execute_result"
    },
    {
     "data": {
      "image/png": "[encoded data removed]",
      "text/plain": [
       "<Figure size 432x288 with 1 Axes>"
      ]
     },
     "metadata": {
      "needs_background": "light"
     },
     "output_type": "display_data"
    }
   ],
   "source": [
    "scorpio_cpu_df = pd.DataFrame(scorpio_cpu, index=events)\n",
    "#colors = ['tab:olive','tab:cyan', \"tab:orange\"]\n",
    "colors=cm.get_cmap('viridis', 3).colors\n",
    "scorpio_cpu_df_plot = scorpio_cpu_df.plot.barh(stacked=True, color=colors,\n",
    "                                                          title=\"(A.1) Scorpio services CPU performance\")\n",
    "scorpio_cpu_df_plot.set_xlabel(\"CPU consumption (decimal)\")\n",
    "scorpio_cpu_df_plot.set_ylabel(\"Number of samples per second\")\n",
    "\n",
    "scorpio_cpu_df"
   ]
  },
  {
   "cell_type": "code",
   "execution_count": 33,
   "id": "10fc8367",
   "metadata": {},
   "outputs": [],
   "source": [
    "scorpio_cpu_total = []\n",
    "for i in range(0,len(events)):\n",
    "    scorpio_cpu_total.append(scorpio_cpu['kafka'][i]+scorpio_cpu['postgres'][i]+scorpio_cpu['scorpio'][i])"
   ]
  },
  {
   "cell_type": "code",
   "execution_count": 34,
   "id": "9aa29979",
   "metadata": {},
   "outputs": [],
   "source": [
    "scorpio_mem = {}\n",
    "for table in scorpio_services:\n",
    "    mem_means = table.groupby(\"service\").mean()[\"memory\"]\n",
    "    for index,value in mem_means.iteritems():\n",
    "        if index == \"nifi\":\n",
    "            continue\n",
    "        if index not in scorpio_mem:\n",
    "            scorpio_mem[index] = []\n",
    "        scorpio_mem[index].append(value)"
   ]
  },
  {
   "cell_type": "code",
   "execution_count": 35,
   "id": "6a36bf1a",
   "metadata": {
    "scrolled": true
   },
   "outputs": [
    {
     "data": {
      "text/html": [
       "<div>\n",
       "<style scoped>\n",
       "    .dataframe tbody tr th:only-of-type {\n",
       "        vertical-align: middle;\n",
       "    }\n",
       "\n",
       "    .dataframe tbody tr th {\n",
       "        vertical-align: top;\n",
       "    }\n",
       "\n",
       "    .dataframe thead th {\n",
       "        text-align: right;\n",
       "    }\n",
       "</style>\n",
       "<table border=\"1\" class=\"dataframe\">\n",
       "  <thead>\n",
       "    <tr style=\"text-align: right;\">\n",
       "      <th></th>\n",
       "      <th>kafka</th>\n",
       "      <th>postgres</th>\n",
       "      <th>scorpio</th>\n",
       "    </tr>\n",
       "  </thead>\n",
       "  <tbody>\n",
       "    <tr>\n",
       "      <th>50</th>\n",
       "      <td>0.0445</td>\n",
       "      <td>0.0131</td>\n",
       "      <td>0.2198</td>\n",
       "    </tr>\n",
       "    <tr>\n",
       "      <th>100</th>\n",
       "      <td>0.0643</td>\n",
       "      <td>0.0183</td>\n",
       "      <td>0.2343</td>\n",
       "    </tr>\n",
       "    <tr>\n",
       "      <th>200</th>\n",
       "      <td>0.0770</td>\n",
       "      <td>0.0256</td>\n",
       "      <td>0.2362</td>\n",
       "    </tr>\n",
       "    <tr>\n",
       "      <th>300</th>\n",
       "      <td>0.0850</td>\n",
       "      <td>0.0326</td>\n",
       "      <td>0.2366</td>\n",
       "    </tr>\n",
       "    <tr>\n",
       "      <th>400</th>\n",
       "      <td>0.0912</td>\n",
       "      <td>0.0408</td>\n",
       "      <td>0.2361</td>\n",
       "    </tr>\n",
       "  </tbody>\n",
       "</table>\n",
       "</div>"
      ],
      "text/plain": [
       "     kafka  postgres  scorpio\n",
       "50  0.0445    0.0131   0.2198\n",
       "100 0.0643    0.0183   0.2343\n",
       "200 0.0770    0.0256   0.2362\n",
       "300 0.0850    0.0326   0.2366\n",
       "400 0.0912    0.0408   0.2361"
      ]
     },
     "execution_count": 35,
     "metadata": {},
     "output_type": "execute_result"
    },
    {
     "data": {
      "image/png": "[encoded data removed]",
      "text/plain": [
       "<Figure size 432x288 with 1 Axes>"
      ]
     },
     "metadata": {
      "needs_background": "light"
     },
     "output_type": "display_data"
    }
   ],
   "source": [
    "scorpio_mem_df = pd.DataFrame(scorpio_mem, index=events)\n",
    "#colors = ['tab:olive','tab:cyan', \"tab:orange\"]\n",
    "colors=cm.get_cmap('viridis', 3).colors\n",
    "scorpio_mem_df_plot = scorpio_mem_df.plot.barh(stacked=True, color=colors,\n",
    "                                                          title=\"(A.2) Scorpio services RAM performance\")\n",
    "scorpio_mem_df_plot.set_xlabel(\"RAM memory consumption (decimal)\")\n",
    "scorpio_mem_df_plot.set_ylabel(\"Number of samples per second\")\n",
    "\n",
    "scorpio_mem_df"
   ]
  },
  {
   "cell_type": "code",
   "execution_count": 36,
   "id": "d838d0b7",
   "metadata": {},
   "outputs": [],
   "source": [
    "scorpio_mem_total = []\n",
    "for i in range(0,len(events)):\n",
    "    scorpio_mem_total.append(scorpio_mem['kafka'][i]+scorpio_mem['postgres'][i]+scorpio_mem['scorpio'][i])"
   ]
  },
  {
   "cell_type": "markdown",
   "id": "9934c46e",
   "metadata": {},
   "source": [
    "### Orion-LD"
   ]
  },
  {
   "cell_type": "code",
   "execution_count": 37,
   "id": "d7d31015",
   "metadata": {},
   "outputs": [],
   "source": [
    "orion_services = []\n",
    "for event in events:\n",
    "    dataset_path = r'./results/cpu_memory/orion/orion_%s.csv' % event # use your path    \n",
    "    table = pd.read_csv(dataset_path, index_col=0, \n",
    "                        header=0, names=[\"service\", \"cpu\", \"memory\"])\n",
    "    table['cpu'] = table['cpu'].str.rstrip('%').astype('float') / 100.0\n",
    "    table['memory'] = table['memory'].str.rstrip('%').astype('float') / 100.0\n",
    "    orion_services.append(table)"
   ]
  },
  {
   "cell_type": "code",
   "execution_count": 38,
   "id": "130457ee",
   "metadata": {},
   "outputs": [],
   "source": [
    "orion_cpu = {}\n",
    "for table in orion_services:\n",
    "    cpu_means = table.groupby(\"service\").mean()[\"cpu\"]\n",
    "    for index,value in cpu_means.iteritems():\n",
    "        if index == \"nifi\":\n",
    "            continue\n",
    "        if index not in orion_cpu:\n",
    "            orion_cpu[index] = []\n",
    "        orion_cpu[index].append(value)"
   ]
  },
  {
   "cell_type": "code",
   "execution_count": 39,
   "id": "2886f1f1",
   "metadata": {},
   "outputs": [
    {
     "data": {
      "text/html": [
       "<div>\n",
       "<style scoped>\n",
       "    .dataframe tbody tr th:only-of-type {\n",
       "        vertical-align: middle;\n",
       "    }\n",
       "\n",
       "    .dataframe tbody tr th {\n",
       "        vertical-align: top;\n",
       "    }\n",
       "\n",
       "    .dataframe thead th {\n",
       "        text-align: right;\n",
       "    }\n",
       "</style>\n",
       "<table border=\"1\" class=\"dataframe\">\n",
       "  <thead>\n",
       "    <tr style=\"text-align: right;\">\n",
       "      <th></th>\n",
       "      <th>db-mongo</th>\n",
       "      <th>fiware-orion</th>\n",
       "    </tr>\n",
       "  </thead>\n",
       "  <tbody>\n",
       "    <tr>\n",
       "      <th>50</th>\n",
       "      <td>0.0358</td>\n",
       "      <td>0.1309</td>\n",
       "    </tr>\n",
       "    <tr>\n",
       "      <th>100</th>\n",
       "      <td>0.0728</td>\n",
       "      <td>0.2688</td>\n",
       "    </tr>\n",
       "    <tr>\n",
       "      <th>200</th>\n",
       "      <td>0.1369</td>\n",
       "      <td>0.5193</td>\n",
       "    </tr>\n",
       "    <tr>\n",
       "      <th>300</th>\n",
       "      <td>0.1686</td>\n",
       "      <td>0.7532</td>\n",
       "    </tr>\n",
       "    <tr>\n",
       "      <th>400</th>\n",
       "      <td>0.1500</td>\n",
       "      <td>0.6951</td>\n",
       "    </tr>\n",
       "  </tbody>\n",
       "</table>\n",
       "</div>"
      ],
      "text/plain": [
       "     db-mongo  fiware-orion\n",
       "50     0.0358        0.1309\n",
       "100    0.0728        0.2688\n",
       "200    0.1369        0.5193\n",
       "300    0.1686        0.7532\n",
       "400    0.1500        0.6951"
      ]
     },
     "execution_count": 39,
     "metadata": {},
     "output_type": "execute_result"
    },
    {
     "data": {
      "image/png": "[encoded data removed]",
      "text/plain": [
       "<Figure size 432x288 with 1 Axes>"
      ]
     },
     "metadata": {
      "needs_background": "light"
     },
     "output_type": "display_data"
    }
   ],
   "source": [
    "#colors = ['lightcoral','tab:blue']\n",
    "colors=cm.get_cmap('plasma', 2).colors\n",
    "orion_cpu_df = pd.DataFrame(orion_cpu, index=events)\n",
    "orion_cpu_df_plot = orion_cpu_df.plot.barh(stacked=True, color=colors,\n",
    "                                                          title=\"(B.1) Orion-LD services CPU performance\")\n",
    "orion_cpu_df_plot.set_xlabel(\"CPU consumption (decimal)\")\n",
    "orion_cpu_df_plot.set_ylabel(\"Number of samples per second\")\n",
    "\n",
    "orion_cpu_df"
   ]
  },
  {
   "cell_type": "code",
   "execution_count": 54,
   "id": "f8c76e9a",
   "metadata": {},
   "outputs": [],
   "source": [
    "orion_cpu_total = []\n",
    "for i in range(0,len(events)):\n",
    "    orion_cpu_total.append(orion_cpu['db-mongo'][i]+orion_cpu['fiware-orion'][i])"
   ]
  },
  {
   "cell_type": "code",
   "execution_count": 55,
   "id": "75cd323d",
   "metadata": {},
   "outputs": [],
   "source": [
    "orion_mem = {}\n",
    "for table in orion_services:\n",
    "    mem_means = table.groupby(\"service\").mean()[\"memory\"]\n",
    "    for index,value in mem_means.iteritems():\n",
    "        if index == \"nifi\":\n",
    "            continue\n",
    "        if index not in orion_mem:\n",
    "            orion_mem[index] = []\n",
    "        orion_mem[index].append(value)"
   ]
  },
  {
   "cell_type": "code",
   "execution_count": 56,
   "id": "cd708b5a",
   "metadata": {
    "scrolled": true
   },
   "outputs": [
    {
     "data": {
      "text/html": [
       "<div>\n",
       "<style scoped>\n",
       "    .dataframe tbody tr th:only-of-type {\n",
       "        vertical-align: middle;\n",
       "    }\n",
       "\n",
       "    .dataframe tbody tr th {\n",
       "        vertical-align: top;\n",
       "    }\n",
       "\n",
       "    .dataframe thead th {\n",
       "        text-align: right;\n",
       "    }\n",
       "</style>\n",
       "<table border=\"1\" class=\"dataframe\">\n",
       "  <thead>\n",
       "    <tr style=\"text-align: right;\">\n",
       "      <th></th>\n",
       "      <th>db-mongo</th>\n",
       "      <th>fiware-orion</th>\n",
       "    </tr>\n",
       "  </thead>\n",
       "  <tbody>\n",
       "    <tr>\n",
       "      <th>50</th>\n",
       "      <td>0.0031</td>\n",
       "      <td>0.0009</td>\n",
       "    </tr>\n",
       "    <tr>\n",
       "      <th>100</th>\n",
       "      <td>0.0030</td>\n",
       "      <td>0.0011</td>\n",
       "    </tr>\n",
       "    <tr>\n",
       "      <th>200</th>\n",
       "      <td>0.0030</td>\n",
       "      <td>0.0017</td>\n",
       "    </tr>\n",
       "    <tr>\n",
       "      <th>300</th>\n",
       "      <td>0.0030</td>\n",
       "      <td>0.0034</td>\n",
       "    </tr>\n",
       "    <tr>\n",
       "      <th>400</th>\n",
       "      <td>0.0030</td>\n",
       "      <td>0.0041</td>\n",
       "    </tr>\n",
       "  </tbody>\n",
       "</table>\n",
       "</div>"
      ],
      "text/plain": [
       "     db-mongo  fiware-orion\n",
       "50     0.0031        0.0009\n",
       "100    0.0030        0.0011\n",
       "200    0.0030        0.0017\n",
       "300    0.0030        0.0034\n",
       "400    0.0030        0.0041"
      ]
     },
     "execution_count": 56,
     "metadata": {},
     "output_type": "execute_result"
    },
    {
     "data": {
      "image/png": "[encoded data removed]",
      "text/plain": [
       "<Figure size 432x288 with 1 Axes>"
      ]
     },
     "metadata": {
      "needs_background": "light"
     },
     "output_type": "display_data"
    }
   ],
   "source": [
    "#colors = ['lightcoral','tab:blue']\n",
    "colors=cm.get_cmap('plasma', 2).colors\n",
    "orion_mem_df = pd.DataFrame(orion_mem, index=events)\n",
    "orion_mem_df_plot = orion_mem_df.plot.barh(stacked=True, color=colors,\n",
    "                                                          title=\"(B.2) Orion-LD services RAM performance\")\n",
    "orion_mem_df_plot.set_xlabel(\"RAM memory consumption (decimal)\")\n",
    "orion_mem_df_plot.set_ylabel(\"Number of samples per second\")\n",
    "\n",
    "orion_mem_df"
   ]
  },
  {
   "cell_type": "code",
   "execution_count": 62,
   "id": "12070a98",
   "metadata": {},
   "outputs": [
    {
     "data": {
      "text/plain": [
       "0.003000000000000002"
      ]
     },
     "execution_count": 62,
     "metadata": {},
     "output_type": "execute_result"
    }
   ],
   "source": [
    "orion_mem[\"db-mongo\"][2]"
   ]
  },
  {
   "cell_type": "code",
   "execution_count": 63,
   "id": "dbafdd33",
   "metadata": {},
   "outputs": [],
   "source": [
    "orion_mem_total = []\n",
    "for i in range(len(events)):\n",
    "    orion_mem_total.append(orion_mem['db-mongo'][i]+orion_mem['fiware-orion'][i])"
   ]
  },
  {
   "cell_type": "markdown",
   "id": "07b2c4b8",
   "metadata": {},
   "source": [
    "### Kafka-AVRO"
   ]
  },
  {
   "cell_type": "code",
   "execution_count": 64,
   "id": "bfc214cf",
   "metadata": {},
   "outputs": [],
   "source": [
    "kafka_avro_services = []\n",
    "for event in events:\n",
    "    dataset_path = r'./results/cpu_memory/kafka-avro/kafka-avro_%s.csv' % event # use your path    \n",
    "    table = pd.read_csv(dataset_path, index_col=0, \n",
    "                        header=0, names=[\"service\", \"cpu\", \"memory\"])\n",
    "    table['cpu'] = table['cpu'].str.rstrip('%').astype('float') / 100.0\n",
    "    table['memory'] = table['memory'].str.rstrip('%').astype('float') / 100.0\n",
    "    kafka_avro_services.append(table)"
   ]
  },
  {
   "cell_type": "code",
   "execution_count": 65,
   "id": "6c18ea53",
   "metadata": {},
   "outputs": [],
   "source": [
    "kafka_avro_cpu = {}\n",
    "for table in kafka_avro_services:\n",
    "    cpu_means = table.groupby(\"service\").mean()[\"cpu\"]\n",
    "    for index,value in cpu_means.iteritems():\n",
    "        if index == \"nifi\":\n",
    "            continue\n",
    "        if index not in kafka_avro_cpu:\n",
    "            kafka_avro_cpu[index] = []\n",
    "        kafka_avro_cpu[index].append(value)"
   ]
  },
  {
   "cell_type": "code",
   "execution_count": 66,
   "id": "da7584da",
   "metadata": {},
   "outputs": [
    {
     "data": {
      "text/html": [
       "<div>\n",
       "<style scoped>\n",
       "    .dataframe tbody tr th:only-of-type {\n",
       "        vertical-align: middle;\n",
       "    }\n",
       "\n",
       "    .dataframe tbody tr th {\n",
       "        vertical-align: top;\n",
       "    }\n",
       "\n",
       "    .dataframe thead th {\n",
       "        text-align: right;\n",
       "    }\n",
       "</style>\n",
       "<table border=\"1\" class=\"dataframe\">\n",
       "  <thead>\n",
       "    <tr style=\"text-align: right;\">\n",
       "      <th></th>\n",
       "      <th>kafka</th>\n",
       "    </tr>\n",
       "  </thead>\n",
       "  <tbody>\n",
       "    <tr>\n",
       "      <th>50</th>\n",
       "      <td>0.1176</td>\n",
       "    </tr>\n",
       "    <tr>\n",
       "      <th>100</th>\n",
       "      <td>0.1119</td>\n",
       "    </tr>\n",
       "    <tr>\n",
       "      <th>200</th>\n",
       "      <td>0.1335</td>\n",
       "    </tr>\n",
       "    <tr>\n",
       "      <th>300</th>\n",
       "      <td>0.1171</td>\n",
       "    </tr>\n",
       "    <tr>\n",
       "      <th>400</th>\n",
       "      <td>0.1763</td>\n",
       "    </tr>\n",
       "  </tbody>\n",
       "</table>\n",
       "</div>"
      ],
      "text/plain": [
       "     kafka\n",
       "50  0.1176\n",
       "100 0.1119\n",
       "200 0.1335\n",
       "300 0.1171\n",
       "400 0.1763"
      ]
     },
     "execution_count": 66,
     "metadata": {},
     "output_type": "execute_result"
    },
    {
     "data": {
      "image/png": "[encoded data removed]",
      "text/plain": [
       "<Figure size 432x288 with 1 Axes>"
      ]
     },
     "metadata": {
      "needs_background": "light"
     },
     "output_type": "display_data"
    }
   ],
   "source": [
    "colors = ['tab:green']\n",
    "kafka_avro_cpu_df = pd.DataFrame(kafka_avro_cpu, index=events)\n",
    "kafka_avro_cpu_df_plot = kafka_avro_cpu_df.plot.barh(stacked=True, color=colors,\n",
    "                                                          title=\"(C.1) Kafka-AVRO services CPU performance\")\n",
    "kafka_avro_cpu_df_plot.set_xlabel(\"CPU consumption (decimal)\")\n",
    "kafka_avro_cpu_df_plot.set_ylabel(\"Number of samples per second\")\n",
    "\n",
    "kafka_avro_cpu_df"
   ]
  },
  {
   "cell_type": "code",
   "execution_count": 67,
   "id": "993634ed",
   "metadata": {},
   "outputs": [],
   "source": [
    "kafka_avro_cpu_total = []\n",
    "for i in range(0,len(events)):\n",
    "    kafka_avro_cpu_total.append(kafka_avro_cpu['kafka'][i])"
   ]
  },
  {
   "cell_type": "code",
   "execution_count": 68,
   "id": "d95c30aa",
   "metadata": {},
   "outputs": [],
   "source": [
    "kafka_avro_mem = {}\n",
    "for table in kafka_avro_services:\n",
    "    mem_means = table.groupby(\"service\").mean()[\"memory\"]\n",
    "    for index,value in mem_means.iteritems():\n",
    "        if index == \"nifi\":\n",
    "            continue\n",
    "        if index not in kafka_avro_mem:\n",
    "            kafka_avro_mem[index] = []\n",
    "        kafka_avro_mem[index].append(value)"
   ]
  },
  {
   "cell_type": "code",
   "execution_count": 69,
   "id": "21366b5a",
   "metadata": {
    "scrolled": true
   },
   "outputs": [
    {
     "data": {
      "text/html": [
       "<div>\n",
       "<style scoped>\n",
       "    .dataframe tbody tr th:only-of-type {\n",
       "        vertical-align: middle;\n",
       "    }\n",
       "\n",
       "    .dataframe tbody tr th {\n",
       "        vertical-align: top;\n",
       "    }\n",
       "\n",
       "    .dataframe thead th {\n",
       "        text-align: right;\n",
       "    }\n",
       "</style>\n",
       "<table border=\"1\" class=\"dataframe\">\n",
       "  <thead>\n",
       "    <tr style=\"text-align: right;\">\n",
       "      <th></th>\n",
       "      <th>kafka</th>\n",
       "    </tr>\n",
       "  </thead>\n",
       "  <tbody>\n",
       "    <tr>\n",
       "      <th>50</th>\n",
       "      <td>0.0243</td>\n",
       "    </tr>\n",
       "    <tr>\n",
       "      <th>100</th>\n",
       "      <td>0.0260</td>\n",
       "    </tr>\n",
       "    <tr>\n",
       "      <th>200</th>\n",
       "      <td>0.0276</td>\n",
       "    </tr>\n",
       "    <tr>\n",
       "      <th>300</th>\n",
       "      <td>0.0307</td>\n",
       "    </tr>\n",
       "    <tr>\n",
       "      <th>400</th>\n",
       "      <td>0.0357</td>\n",
       "    </tr>\n",
       "  </tbody>\n",
       "</table>\n",
       "</div>"
      ],
      "text/plain": [
       "     kafka\n",
       "50  0.0243\n",
       "100 0.0260\n",
       "200 0.0276\n",
       "300 0.0307\n",
       "400 0.0357"
      ]
     },
     "execution_count": 69,
     "metadata": {},
     "output_type": "execute_result"
    },
    {
     "data": {
      "image/png": "[encoded data removed]",
      "text/plain": [
       "<Figure size 432x288 with 1 Axes>"
      ]
     },
     "metadata": {
      "needs_background": "light"
     },
     "output_type": "display_data"
    }
   ],
   "source": [
    "colors = ['tab:green']\n",
    "kafka_avro_mem_df = pd.DataFrame(kafka_avro_mem, index=events)\n",
    "kafka_avro_mem_df_plot = kafka_avro_mem_df.plot.barh(stacked=True, color=colors,\n",
    "                                                          title=\"(C.2) Kafka-AVRO services RAM performance\")\n",
    "kafka_avro_mem_df_plot.set_xlabel(\"RAM memory consumption (decimal)\")\n",
    "kafka_avro_mem_df_plot.set_ylabel(\"Number of samples per second\")\n",
    "\n",
    "kafka_avro_mem_df"
   ]
  },
  {
   "cell_type": "code",
   "execution_count": 70,
   "id": "9a229bf1",
   "metadata": {},
   "outputs": [],
   "source": [
    "kafka_avro_mem_total = []\n",
    "for i in range(0,len(events)):\n",
    "    kafka_avro_mem_total.append(kafka_avro_mem['kafka'][i])"
   ]
  },
  {
   "cell_type": "markdown",
   "id": "49caec17",
   "metadata": {},
   "source": [
    "### Kafka-NGSI-LD"
   ]
  },
  {
   "cell_type": "code",
   "execution_count": 71,
   "id": "f8564d6e",
   "metadata": {},
   "outputs": [],
   "source": [
    "kafka_ngsi_ld_services = []\n",
    "for event in events:\n",
    "    dataset_path = r'./results/cpu_memory/kafka-ngsi-ld/kafka-ngsi-ld_%s.csv' % event # use your path    \n",
    "    table = pd.read_csv(dataset_path, index_col=0, \n",
    "                        header=0, names=[\"service\", \"cpu\", \"memory\"])\n",
    "    table['cpu'] = table['cpu'].str.rstrip('%').astype('float') / 100.0\n",
    "    table['memory'] = table['memory'].str.rstrip('%').astype('float') / 100.0\n",
    "    kafka_ngsi_ld_services.append(table)"
   ]
  },
  {
   "cell_type": "code",
   "execution_count": 72,
   "id": "fcf1ea27",
   "metadata": {},
   "outputs": [],
   "source": [
    "kafka_ngsi_ld_cpu = {}\n",
    "for table in kafka_ngsi_ld_services:\n",
    "    cpu_means = table.groupby(\"service\").mean()[\"cpu\"]\n",
    "    for index,value in cpu_means.iteritems():\n",
    "        if index == \"nifi\":\n",
    "            continue\n",
    "        if index not in kafka_ngsi_ld_cpu:\n",
    "            kafka_ngsi_ld_cpu[index] = []\n",
    "        kafka_ngsi_ld_cpu[index].append(value)"
   ]
  },
  {
   "cell_type": "code",
   "execution_count": 73,
   "id": "f7bc858f",
   "metadata": {},
   "outputs": [
    {
     "data": {
      "text/html": [
       "<div>\n",
       "<style scoped>\n",
       "    .dataframe tbody tr th:only-of-type {\n",
       "        vertical-align: middle;\n",
       "    }\n",
       "\n",
       "    .dataframe tbody tr th {\n",
       "        vertical-align: top;\n",
       "    }\n",
       "\n",
       "    .dataframe thead th {\n",
       "        text-align: right;\n",
       "    }\n",
       "</style>\n",
       "<table border=\"1\" class=\"dataframe\">\n",
       "  <thead>\n",
       "    <tr style=\"text-align: right;\">\n",
       "      <th></th>\n",
       "      <th>kafka</th>\n",
       "    </tr>\n",
       "  </thead>\n",
       "  <tbody>\n",
       "    <tr>\n",
       "      <th>50</th>\n",
       "      <td>0.0559</td>\n",
       "    </tr>\n",
       "    <tr>\n",
       "      <th>100</th>\n",
       "      <td>0.0750</td>\n",
       "    </tr>\n",
       "    <tr>\n",
       "      <th>200</th>\n",
       "      <td>0.0806</td>\n",
       "    </tr>\n",
       "    <tr>\n",
       "      <th>300</th>\n",
       "      <td>0.1285</td>\n",
       "    </tr>\n",
       "    <tr>\n",
       "      <th>400</th>\n",
       "      <td>0.0846</td>\n",
       "    </tr>\n",
       "  </tbody>\n",
       "</table>\n",
       "</div>"
      ],
      "text/plain": [
       "     kafka\n",
       "50  0.0559\n",
       "100 0.0750\n",
       "200 0.0806\n",
       "300 0.1285\n",
       "400 0.0846"
      ]
     },
     "execution_count": 73,
     "metadata": {},
     "output_type": "execute_result"
    },
    {
     "data": {
      "image/png": "[encoded data removed]",
      "text/plain": [
       "<Figure size 432x288 with 1 Axes>"
      ]
     },
     "metadata": {
      "needs_background": "light"
     },
     "output_type": "display_data"
    }
   ],
   "source": [
    "colors = ['tab:red']\n",
    "kafka_ngsi_ld_cpu_df = pd.DataFrame(kafka_ngsi_ld_cpu, index=events)\n",
    "kafka_ngsi_ld_cpu_df_plot = kafka_ngsi_ld_cpu_df.plot.barh(stacked=True, color=colors, \n",
    "                                                           title=\"(D.1) Kafka-NGSI-LD services CPU performance\")\n",
    "kafka_ngsi_ld_cpu_df_plot.set_xlabel(\"CPU consumption (decimal)\")\n",
    "kafka_ngsi_ld_cpu_df_plot.set_ylabel(\"Number of samples per second\")\n",
    "\n",
    "kafka_ngsi_ld_cpu_df"
   ]
  },
  {
   "cell_type": "code",
   "execution_count": 74,
   "id": "9f85c545",
   "metadata": {},
   "outputs": [],
   "source": [
    "kafka_ngsi_ld_cpu_total = []\n",
    "for i in range(0,len(events)):\n",
    "    kafka_ngsi_ld_cpu_total.append(kafka_ngsi_ld_cpu['kafka'][i])"
   ]
  },
  {
   "cell_type": "code",
   "execution_count": 75,
   "id": "57f923a4",
   "metadata": {},
   "outputs": [],
   "source": [
    "kafka_ngsi_ld_mem = {}\n",
    "for table in kafka_ngsi_ld_services:\n",
    "    mem_means = table.groupby(\"service\").mean()[\"memory\"]\n",
    "    for index,value in mem_means.iteritems():\n",
    "        if index == \"nifi\":\n",
    "            continue\n",
    "        if index not in kafka_ngsi_ld_mem:\n",
    "            kafka_ngsi_ld_mem[index] = []\n",
    "        kafka_ngsi_ld_mem[index].append(value)"
   ]
  },
  {
   "cell_type": "code",
   "execution_count": 76,
   "id": "c640bf2c",
   "metadata": {
    "scrolled": true
   },
   "outputs": [
    {
     "data": {
      "text/html": [
       "<div>\n",
       "<style scoped>\n",
       "    .dataframe tbody tr th:only-of-type {\n",
       "        vertical-align: middle;\n",
       "    }\n",
       "\n",
       "    .dataframe tbody tr th {\n",
       "        vertical-align: top;\n",
       "    }\n",
       "\n",
       "    .dataframe thead th {\n",
       "        text-align: right;\n",
       "    }\n",
       "</style>\n",
       "<table border=\"1\" class=\"dataframe\">\n",
       "  <thead>\n",
       "    <tr style=\"text-align: right;\">\n",
       "      <th></th>\n",
       "      <th>kafka</th>\n",
       "    </tr>\n",
       "  </thead>\n",
       "  <tbody>\n",
       "    <tr>\n",
       "      <th>50</th>\n",
       "      <td>0.0391</td>\n",
       "    </tr>\n",
       "    <tr>\n",
       "      <th>100</th>\n",
       "      <td>0.0406</td>\n",
       "    </tr>\n",
       "    <tr>\n",
       "      <th>200</th>\n",
       "      <td>0.0419</td>\n",
       "    </tr>\n",
       "    <tr>\n",
       "      <th>300</th>\n",
       "      <td>0.0492</td>\n",
       "    </tr>\n",
       "    <tr>\n",
       "      <th>400</th>\n",
       "      <td>0.0526</td>\n",
       "    </tr>\n",
       "  </tbody>\n",
       "</table>\n",
       "</div>"
      ],
      "text/plain": [
       "     kafka\n",
       "50  0.0391\n",
       "100 0.0406\n",
       "200 0.0419\n",
       "300 0.0492\n",
       "400 0.0526"
      ]
     },
     "execution_count": 76,
     "metadata": {},
     "output_type": "execute_result"
    },
    {
     "data": {
      "image/png": "[encoded data removed]",
      "text/plain": [
       "<Figure size 432x288 with 1 Axes>"
      ]
     },
     "metadata": {
      "needs_background": "light"
     },
     "output_type": "display_data"
    }
   ],
   "source": [
    "colors = ['tab:red']\n",
    "kafka_ngsi_ld_mem_df = pd.DataFrame(kafka_ngsi_ld_mem, index=events)\n",
    "kafka_ngsi_ld_mem_df_plot = kafka_ngsi_ld_mem_df.plot.barh(stacked=True, color=colors,\n",
    "                                                          title=\"(D.2) Kafka-NGSI-LD services RAM performance\")\n",
    "kafka_ngsi_ld_mem_df_plot.set_xlabel(\"RAM memory consumption (decimal)\")\n",
    "kafka_ngsi_ld_mem_df_plot.set_ylabel(\"Number of samples per second\")\n",
    "\n",
    "kafka_ngsi_ld_mem_df"
   ]
  },
  {
   "cell_type": "code",
   "execution_count": 77,
   "id": "c53b68d2",
   "metadata": {},
   "outputs": [],
   "source": [
    "kafka_ngsi_ld_mem_total = []\n",
    "for i in range(0,len(events)):\n",
    "    kafka_ngsi_ld_mem_total.append(kafka_ngsi_ld_mem['kafka'][i])"
   ]
  },
  {
   "cell_type": "markdown",
   "id": "f6e22f78",
   "metadata": {},
   "source": [
    "## CPU and RAM memory comparison\n",
    "\n",
    "Building some charts to compare the results of CPU and RAM consumption between the NGSI-LD Brokers and Kafka use cases."
   ]
  },
  {
   "cell_type": "code",
   "execution_count": 78,
   "id": "381f1ad4",
   "metadata": {},
   "outputs": [
    {
     "data": {
      "text/html": [
       "<div>\n",
       "<style scoped>\n",
       "    .dataframe tbody tr th:only-of-type {\n",
       "        vertical-align: middle;\n",
       "    }\n",
       "\n",
       "    .dataframe tbody tr th {\n",
       "        vertical-align: top;\n",
       "    }\n",
       "\n",
       "    .dataframe thead th {\n",
       "        text-align: right;\n",
       "    }\n",
       "</style>\n",
       "<table border=\"1\" class=\"dataframe\">\n",
       "  <thead>\n",
       "    <tr style=\"text-align: right;\">\n",
       "      <th></th>\n",
       "      <th>Orion-LD</th>\n",
       "      <th>Scorpio</th>\n",
       "    </tr>\n",
       "  </thead>\n",
       "  <tbody>\n",
       "    <tr>\n",
       "      <th>50</th>\n",
       "      <td>0.1667</td>\n",
       "      <td>1.0515</td>\n",
       "    </tr>\n",
       "    <tr>\n",
       "      <th>100</th>\n",
       "      <td>0.3417</td>\n",
       "      <td>1.6480</td>\n",
       "    </tr>\n",
       "    <tr>\n",
       "      <th>200</th>\n",
       "      <td>0.6562</td>\n",
       "      <td>2.5539</td>\n",
       "    </tr>\n",
       "    <tr>\n",
       "      <th>300</th>\n",
       "      <td>0.9218</td>\n",
       "      <td>2.5510</td>\n",
       "    </tr>\n",
       "    <tr>\n",
       "      <th>400</th>\n",
       "      <td>0.8451</td>\n",
       "      <td>2.3085</td>\n",
       "    </tr>\n",
       "  </tbody>\n",
       "</table>\n",
       "</div>"
      ],
      "text/plain": [
       "     Orion-LD  Scorpio\n",
       "50     0.1667   1.0515\n",
       "100    0.3417   1.6480\n",
       "200    0.6562   2.5539\n",
       "300    0.9218   2.5510\n",
       "400    0.8451   2.3085"
      ]
     },
     "execution_count": 78,
     "metadata": {},
     "output_type": "execute_result"
    },
    {
     "data": {
      "image/png": "[encoded data removed]",
      "text/plain": [
       "<Figure size 432x288 with 1 Axes>"
      ]
     },
     "metadata": {
      "needs_background": "light"
     },
     "output_type": "display_data"
    }
   ],
   "source": [
    "cpu = pd.DataFrame({\"Orion-LD\": orion_cpu_total,\n",
    "                       \"Scorpio\": scorpio_cpu_total}, index=events)\n",
    "colors = ['tab:blue','tab:orange']\n",
    "cpu_plot = cpu.plot.bar(logy=False, color=colors)\n",
    "cpu_plot.set_xlabel(\"Number of samples per second\")\n",
    "cpu_plot.set_ylabel(\"CPU consumption(decimal)\")\n",
    "\n",
    "cpu"
   ]
  },
  {
   "cell_type": "code",
   "execution_count": 84,
   "id": "ced79b74",
   "metadata": {},
   "outputs": [
    {
     "data": {
      "text/html": [
       "<div>\n",
       "<style scoped>\n",
       "    .dataframe tbody tr th:only-of-type {\n",
       "        vertical-align: middle;\n",
       "    }\n",
       "\n",
       "    .dataframe tbody tr th {\n",
       "        vertical-align: top;\n",
       "    }\n",
       "\n",
       "    .dataframe thead th {\n",
       "        text-align: right;\n",
       "    }\n",
       "</style>\n",
       "<table border=\"1\" class=\"dataframe\">\n",
       "  <thead>\n",
       "    <tr style=\"text-align: right;\">\n",
       "      <th></th>\n",
       "      <th>Orion-LD</th>\n",
       "      <th>Scorpio</th>\n",
       "      <th>Kafka-AVRO</th>\n",
       "      <th>Kafka-NGSI-LD</th>\n",
       "    </tr>\n",
       "  </thead>\n",
       "  <tbody>\n",
       "    <tr>\n",
       "      <th>50</th>\n",
       "      <td>0.1667</td>\n",
       "      <td>1.0515</td>\n",
       "      <td>0.1176</td>\n",
       "      <td>0.0559</td>\n",
       "    </tr>\n",
       "    <tr>\n",
       "      <th>100</th>\n",
       "      <td>0.3417</td>\n",
       "      <td>1.6480</td>\n",
       "      <td>0.1119</td>\n",
       "      <td>0.0750</td>\n",
       "    </tr>\n",
       "    <tr>\n",
       "      <th>200</th>\n",
       "      <td>0.6562</td>\n",
       "      <td>2.5539</td>\n",
       "      <td>0.1335</td>\n",
       "      <td>0.0806</td>\n",
       "    </tr>\n",
       "  </tbody>\n",
       "</table>\n",
       "</div>"
      ],
      "text/plain": [
       "     Orion-LD  Scorpio  Kafka-AVRO  Kafka-NGSI-LD\n",
       "50     0.1667   1.0515      0.1176         0.0559\n",
       "100    0.3417   1.6480      0.1119         0.0750\n",
       "200    0.6562   2.5539      0.1335         0.0806"
      ]
     },
     "execution_count": 84,
     "metadata": {},
     "output_type": "execute_result"
    },
    {
     "data": {
      "image/png": "[encoded data removed]",
      "text/plain": [
       "<Figure size 432x288 with 1 Axes>"
      ]
     },
     "metadata": {
      "needs_background": "light"
     },
     "output_type": "display_data"
    }
   ],
   "source": [
    "cpu = pd.DataFrame({\"Orion-LD\": orion_cpu_total,\n",
    "                    \"Scorpio\": scorpio_cpu_total,\n",
    "                    \"Kafka-AVRO\": kafka_avro_cpu_total,\n",
    "                    \"Kafka-NGSI-LD\": kafka_ngsi_ld_cpu_total}, index=events)\n",
    "#colors = ['tab:blue','tab:orange', \"tab:green\", \"tab:red\"]\n",
    "colors=cm.get_cmap('viridis', 4).colors\n",
    "cpu_plot = cpu.plot.bar(logy=False, color=colors)\n",
    "cpu_plot.set_xlabel(\"Number of samples per second\")\n",
    "cpu_plot.set_ylabel(\"CPU consumption (decimal)\")\n",
    "\n",
    "cpu"
   ]
  },
  {
   "cell_type": "code",
   "execution_count": 85,
   "id": "409e260b",
   "metadata": {
    "scrolled": true
   },
   "outputs": [
    {
     "data": {
      "text/html": [
       "<div>\n",
       "<style scoped>\n",
       "    .dataframe tbody tr th:only-of-type {\n",
       "        vertical-align: middle;\n",
       "    }\n",
       "\n",
       "    .dataframe tbody tr th {\n",
       "        vertical-align: top;\n",
       "    }\n",
       "\n",
       "    .dataframe thead th {\n",
       "        text-align: right;\n",
       "    }\n",
       "</style>\n",
       "<table border=\"1\" class=\"dataframe\">\n",
       "  <thead>\n",
       "    <tr style=\"text-align: right;\">\n",
       "      <th></th>\n",
       "      <th>Orion-LD</th>\n",
       "      <th>Scorpio</th>\n",
       "      <th>Kafka-AVRO</th>\n",
       "      <th>Kafka-NGSI-LD</th>\n",
       "    </tr>\n",
       "  </thead>\n",
       "  <tbody>\n",
       "    <tr>\n",
       "      <th>50</th>\n",
       "      <td>0.0039</td>\n",
       "      <td>0.2773</td>\n",
       "      <td>0.0243</td>\n",
       "      <td>0.0391</td>\n",
       "    </tr>\n",
       "    <tr>\n",
       "      <th>100</th>\n",
       "      <td>0.0041</td>\n",
       "      <td>0.3169</td>\n",
       "      <td>0.0260</td>\n",
       "      <td>0.0406</td>\n",
       "    </tr>\n",
       "    <tr>\n",
       "      <th>200</th>\n",
       "      <td>0.0047</td>\n",
       "      <td>0.3388</td>\n",
       "      <td>0.0276</td>\n",
       "      <td>0.0419</td>\n",
       "    </tr>\n",
       "    <tr>\n",
       "      <th>300</th>\n",
       "      <td>0.0064</td>\n",
       "      <td>0.3542</td>\n",
       "      <td>0.0307</td>\n",
       "      <td>0.0492</td>\n",
       "    </tr>\n",
       "    <tr>\n",
       "      <th>400</th>\n",
       "      <td>0.0071</td>\n",
       "      <td>0.3680</td>\n",
       "      <td>0.0357</td>\n",
       "      <td>0.0526</td>\n",
       "    </tr>\n",
       "  </tbody>\n",
       "</table>\n",
       "</div>"
      ],
      "text/plain": [
       "     Orion-LD  Scorpio  Kafka-AVRO  Kafka-NGSI-LD\n",
       "50     0.0039   0.2773      0.0243         0.0391\n",
       "100    0.0041   0.3169      0.0260         0.0406\n",
       "200    0.0047   0.3388      0.0276         0.0419\n",
       "300    0.0064   0.3542      0.0307         0.0492\n",
       "400    0.0071   0.3680      0.0357         0.0526"
      ]
     },
     "execution_count": 85,
     "metadata": {},
     "output_type": "execute_result"
    },
    {
     "data": {
      "image/png": "[encoded data removed]",
      "text/plain": [
       "<Figure size 432x288 with 1 Axes>"
      ]
     },
     "metadata": {
      "needs_background": "light"
     },
     "output_type": "display_data"
    }
   ],
   "source": [
    "mem = pd.DataFrame({\"Orion-LD\": orion_mem_total,\n",
    "                    \"Scorpio\": scorpio_mem_total,\n",
    "                    \"Kafka-AVRO\": kafka_avro_mem_total,\n",
    "                    \"Kafka-NGSI-LD\": kafka_ngsi_ld_mem_total}, index=events)\n",
    "#colors = ['tab:blue','tab:orange', \"tab:green\", \"tab:red\"]\n",
    "colors=cm.get_cmap('viridis', 4).colors\n",
    "mem_plot = mem.plot.bar(logy=False, ylim=(0,0.45), color=colors)\n",
    "mem_plot.set_xlabel(\"Number of samples per second\")\n",
    "mem_plot.set_ylabel(\"RAM memory consumption (decimal)\")\n",
    "\n",
    "mem"
   ]
  }
 ],
 "metadata": {
  "kernelspec": {
   "display_name": "Python 3",
   "language": "python",
   "name": "python3"
  },
  "language_info": {
   "codemirror_mode": {
    "name": "ipython",
    "version": 3
   },
   "file_extension": ".py",
   "mimetype": "text/x-python",
   "name": "python",
   "nbconvert_exporter": "python",
   "pygments_lexer": "ipython3",
   "version": "3.8.10"
  }
 },
 "nbformat": 4,
 "nbformat_minor": 5
}
