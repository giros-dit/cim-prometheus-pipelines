{
 "cells": [
  {
   "cell_type": "markdown",
   "id": "5d1a3a0f",
   "metadata": {},
   "source": [
    "# Latency Comparison\n",
    "\n",
    "In this section we collect results from measuring the latency between ingesting data from the source and collecting the data from the broker (i.e., Kafka vs NGSI-LD Broker).\n",
    "\n",
    "First, execute the tests from Apache NiFi for each number of events to be sent to the broker every second. The results from these tests will be stored in `results/latency/<broker>/`.\n",
    "\n",
    "## Building the Datasets"
   ]
  },
  {
   "cell_type": "code",
   "execution_count": 5,
   "id": "097e1629",
   "metadata": {},
   "outputs": [],
   "source": [
    "import pandas as pd\n",
    "\n",
    "#Disable scientific notation in datasets\n",
    "pd.set_option('display.float_format', lambda x: '%.4f' % x)"
   ]
  },
  {
   "cell_type": "markdown",
   "id": "80869223",
   "metadata": {},
   "source": [
    "Set list with number events per second configured for each experiment."
   ]
  },
  {
   "cell_type": "code",
   "execution_count": 6,
   "id": "c950d89c",
   "metadata": {},
   "outputs": [],
   "source": [
    "events = [50,100,200,500,1000]"
   ]
  },
  {
   "cell_type": "markdown",
   "id": "271afe40",
   "metadata": {},
   "source": [
    "### Scorpio"
   ]
  },
  {
   "cell_type": "code",
   "execution_count": 7,
   "id": "c99ec85e",
   "metadata": {},
   "outputs": [],
   "source": [
    "import glob\n",
    "\n",
    "scorpio = []\n",
    "for event in events:\n",
    "    path = r'./results/latency/scorpio/%s' % event # use your path\n",
    "    all_files = glob.glob(path + \"/*\")\n",
    "\n",
    "    li = []\n",
    "\n",
    "    for filename in all_files:\n",
    "        df = pd.read_csv(filename, index_col=None, header=0)\n",
    "        li.append(df)\n",
    "\n",
    "    scorpio.append(pd.concat(li, axis=0, ignore_index=True))\n",
    "    \n",
    "# Estimate the delta between the collection and notification timestamps\n",
    "scorpio_means = []\n",
    "for table in scorpio:\n",
    "    table[\"deltaTimestamp\"] = table[\"notificationTimestamp\"] - table[\"collectionTimestamp\"]\n",
    "    scorpio_means.append(table[\"deltaTimestamp\"].mean())"
   ]
  },
  {
   "cell_type": "markdown",
   "id": "d41e5d94",
   "metadata": {},
   "source": [
    "### Orion-LD"
   ]
  },
  {
   "cell_type": "code",
   "execution_count": 8,
   "id": "99e94e02",
   "metadata": {},
   "outputs": [],
   "source": [
    "import glob\n",
    "\n",
    "orion = []\n",
    "for event in events:\n",
    "    path = r'./results/latency/fiware-orion/%s' % event # use your path\n",
    "    all_files = glob.glob(path + \"/*\")\n",
    "\n",
    "    li = []\n",
    "\n",
    "    for filename in all_files:\n",
    "        df = pd.read_csv(filename, index_col=None, header=0)\n",
    "        li.append(df)\n",
    "\n",
    "    orion.append(pd.concat(li, axis=0, ignore_index=True))\n",
    "    \n",
    "# Estimate the delta between the collection and notification timestamps\n",
    "orion_means = []\n",
    "for table in orion:\n",
    "    table[\"deltaTimestamp\"] = table[\"notificationTimestamp\"] - table[\"collectionTimestamp\"]\n",
    "    orion_means.append(table[\"deltaTimestamp\"].mean())"
   ]
  },
  {
   "cell_type": "markdown",
   "id": "98007125",
   "metadata": {},
   "source": [
    "### Kafka-AVRO"
   ]
  },
  {
   "cell_type": "code",
   "execution_count": 9,
   "id": "4be5b63d",
   "metadata": {},
   "outputs": [],
   "source": [
    "import glob\n",
    "\n",
    "kafka_avro = []\n",
    "for event in events:\n",
    "    path = r'./results/latency/kafka-avro/%s' % event # use your path\n",
    "    all_files = glob.glob(path + \"/*\")\n",
    "\n",
    "    li = []\n",
    "\n",
    "    for filename in all_files:\n",
    "        df = pd.read_csv(filename, index_col=None, header=0)\n",
    "        li.append(df)\n",
    "\n",
    "    kafka_avro.append(pd.concat(li, axis=0, ignore_index=True))\n",
    "\n",
    "# Estimate the delta between the collection and notification timestamps\n",
    "kafka_avro_means = []\n",
    "for table in kafka_avro:\n",
    "    table[\"deltaTimestamp\"] = table[\"notificationTimestamp\"] - table[\"collectionTimestamp\"]\n",
    "    kafka_avro_means.append(table[\"deltaTimestamp\"].mean())"
   ]
  },
  {
   "cell_type": "markdown",
   "id": "30f33249",
   "metadata": {},
   "source": [
    "### Kafka-NGSI-LD"
   ]
  },
  {
   "cell_type": "code",
   "execution_count": 10,
   "id": "c2818e9c",
   "metadata": {},
   "outputs": [],
   "source": [
    "import glob\n",
    "\n",
    "kafka_ngsi_ld = []\n",
    "for event in events:\n",
    "    path = r'./results/latency/kafka-ngsi-ld/%s' % event # use your path\n",
    "    all_files = glob.glob(path + \"/*\")\n",
    "\n",
    "    li = []\n",
    "\n",
    "    for filename in all_files:\n",
    "        df = pd.read_csv(filename, index_col=None, header=0)\n",
    "        li.append(df)\n",
    "\n",
    "    kafka_ngsi_ld.append(pd.concat(li, axis=0, ignore_index=True))\n",
    "\n",
    "# Estimate the delta between the collection and notification timestamps\n",
    "kafka_ngsi_ld_means = []\n",
    "for table in kafka_ngsi_ld:\n",
    "    table[\"deltaTimestamp\"] = table[\"notificationTimestamp\"] - table[\"collectionTimestamp\"]\n",
    "    kafka_ngsi_ld_means.append(table[\"deltaTimestamp\"].mean())"
   ]
  },
  {
   "cell_type": "markdown",
   "id": "78ce8bcc",
   "metadata": {},
   "source": [
    "## Visualization\n",
    "\n",
    "Once the datasets haven prepared, move on to creating some plots."
   ]
  },
  {
   "cell_type": "code",
   "execution_count": 11,
   "id": "e676e9a3",
   "metadata": {},
   "outputs": [],
   "source": [
    "import matplotlib.pyplot as plt\n",
    "plt.close(\"all\")"
   ]
  },
  {
   "cell_type": "code",
   "execution_count": 12,
   "id": "c50d49b4",
   "metadata": {},
   "outputs": [
    {
     "data": {
      "text/html": [
       "<div>\n",
       "<style scoped>\n",
       "    .dataframe tbody tr th:only-of-type {\n",
       "        vertical-align: middle;\n",
       "    }\n",
       "\n",
       "    .dataframe tbody tr th {\n",
       "        vertical-align: top;\n",
       "    }\n",
       "\n",
       "    .dataframe thead th {\n",
       "        text-align: right;\n",
       "    }\n",
       "</style>\n",
       "<table border=\"1\" class=\"dataframe\">\n",
       "  <thead>\n",
       "    <tr style=\"text-align: right;\">\n",
       "      <th></th>\n",
       "      <th>Events</th>\n",
       "      <th>Kafka-AVRO</th>\n",
       "    </tr>\n",
       "  </thead>\n",
       "  <tbody>\n",
       "    <tr>\n",
       "      <th>0</th>\n",
       "      <td>50</td>\n",
       "      <td>572.1868</td>\n",
       "    </tr>\n",
       "    <tr>\n",
       "      <th>1</th>\n",
       "      <td>100</td>\n",
       "      <td>586.1209</td>\n",
       "    </tr>\n",
       "    <tr>\n",
       "      <th>2</th>\n",
       "      <td>200</td>\n",
       "      <td>581.9034</td>\n",
       "    </tr>\n",
       "    <tr>\n",
       "      <th>3</th>\n",
       "      <td>500</td>\n",
       "      <td>631.6066</td>\n",
       "    </tr>\n",
       "    <tr>\n",
       "      <th>4</th>\n",
       "      <td>1000</td>\n",
       "      <td>748.6454</td>\n",
       "    </tr>\n",
       "  </tbody>\n",
       "</table>\n",
       "</div>"
      ],
      "text/plain": [
       "   Events  Kafka-AVRO\n",
       "0      50    572.1868\n",
       "1     100    586.1209\n",
       "2     200    581.9034\n",
       "3     500    631.6066\n",
       "4    1000    748.6454"
      ]
     },
     "execution_count": 12,
     "metadata": {},
     "output_type": "execute_result"
    },
    {
     "data": {
      "image/png": "[encoded data removed]",
      "text/plain": [
       "<Figure size 432x288 with 1 Axes>"
      ]
     },
     "metadata": {
      "needs_background": "light"
     },
     "output_type": "display_data"
    }
   ],
   "source": [
    "\n",
    "latency = pd.DataFrame({\"Events\": events,\n",
    "                       \"Kafka-AVRO\": kafka_avro_means})\n",
    "latency.plot.bar(x=\"Events\", logy=False)\n",
    "latency"
   ]
  },
  {
   "cell_type": "code",
   "execution_count": 47,
   "id": "2fe7c479",
   "metadata": {},
   "outputs": [
    {
     "data": {
      "text/html": [
       "<div>\n",
       "<style scoped>\n",
       "    .dataframe tbody tr th:only-of-type {\n",
       "        vertical-align: middle;\n",
       "    }\n",
       "\n",
       "    .dataframe tbody tr th {\n",
       "        vertical-align: top;\n",
       "    }\n",
       "\n",
       "    .dataframe thead th {\n",
       "        text-align: right;\n",
       "    }\n",
       "</style>\n",
       "<table border=\"1\" class=\"dataframe\">\n",
       "  <thead>\n",
       "    <tr style=\"text-align: right;\">\n",
       "      <th></th>\n",
       "      <th>Events</th>\n",
       "      <th>Orion-LD</th>\n",
       "      <th>Scorpio</th>\n",
       "      <th>Kafka-AVRO</th>\n",
       "      <th>Kafka-NGSI-LD</th>\n",
       "    </tr>\n",
       "  </thead>\n",
       "  <tbody>\n",
       "    <tr>\n",
       "      <th>0</th>\n",
       "      <td>50</td>\n",
       "      <td>128.1170</td>\n",
       "      <td>206.5638</td>\n",
       "      <td>572.1868</td>\n",
       "      <td>537.4713</td>\n",
       "    </tr>\n",
       "    <tr>\n",
       "      <th>1</th>\n",
       "      <td>100</td>\n",
       "      <td>173.6202</td>\n",
       "      <td>281.5921</td>\n",
       "      <td>586.1209</td>\n",
       "      <td>540.7738</td>\n",
       "    </tr>\n",
       "    <tr>\n",
       "      <th>2</th>\n",
       "      <td>200</td>\n",
       "      <td>295.0969</td>\n",
       "      <td>13485.0493</td>\n",
       "      <td>581.9034</td>\n",
       "      <td>541.9778</td>\n",
       "    </tr>\n",
       "    <tr>\n",
       "      <th>3</th>\n",
       "      <td>500</td>\n",
       "      <td>31410.0055</td>\n",
       "      <td>54216.9112</td>\n",
       "      <td>631.6066</td>\n",
       "      <td>578.0237</td>\n",
       "    </tr>\n",
       "    <tr>\n",
       "      <th>4</th>\n",
       "      <td>1000</td>\n",
       "      <td>45293.2354</td>\n",
       "      <td>34524.3336</td>\n",
       "      <td>748.6454</td>\n",
       "      <td>639.1002</td>\n",
       "    </tr>\n",
       "  </tbody>\n",
       "</table>\n",
       "</div>"
      ],
      "text/plain": [
       "   Events   Orion-LD    Scorpio  Kafka-AVRO  Kafka-NGSI-LD\n",
       "0      50   128.1170   206.5638    572.1868       537.4713\n",
       "1     100   173.6202   281.5921    586.1209       540.7738\n",
       "2     200   295.0969 13485.0493    581.9034       541.9778\n",
       "3     500 31410.0055 54216.9112    631.6066       578.0237\n",
       "4    1000 45293.2354 34524.3336    748.6454       639.1002"
      ]
     },
     "execution_count": 47,
     "metadata": {},
     "output_type": "execute_result"
    },
    {
     "data": {
      "image/png": "[encoded data removed]",
      "text/plain": [
       "<Figure size 432x288 with 1 Axes>"
      ]
     },
     "metadata": {
      "needs_background": "light"
     },
     "output_type": "display_data"
    }
   ],
   "source": [
    "latency = pd.DataFrame({\"Events\": events,\"Orion-LD\": orion_means,\n",
    "                       \"Scorpio\": scorpio_means, \n",
    "                       \"Kafka-AVRO\": kafka_avro_means,\n",
    "                       \"Kafka-NGSI-LD\": kafka_ngsi_ld_means, })\n",
    "latency_plot = latency.plot.bar(x=\"Events\", logy=True)\n",
    "latency_plot.set_xlabel(\"Number of samples per second\")\n",
    "latency_plot.set_ylabel(\"Latency(ms)\")\n",
    "\n",
    "latency"
   ]
  },
  {
   "cell_type": "code",
   "execution_count": 46,
   "id": "4bf1f2a1",
   "metadata": {},
   "outputs": [
    {
     "data": {
      "text/plain": [
       "Text(0, 0.5, 'Latency(ms)')"
      ]
     },
     "execution_count": 46,
     "metadata": {},
     "output_type": "execute_result"
    },
    {
     "data": {
      "image/png": "[encoded data removed]",
      "text/plain": [
       "<Figure size 432x288 with 1 Axes>"
      ]
     },
     "metadata": {
      "needs_background": "light"
     },
     "output_type": "display_data"
    }
   ],
   "source": [
    "latency_kafka = pd.DataFrame({\"Events\": events,\n",
    "                              \"Kafka-NGSI-LD\": kafka_ngsi_ld_means, \n",
    "                              \"Kafka-AVRO\": kafka_avro_means })\n",
    "colors = ['tab:orange','tab:green']\n",
    "latency_kafka_plot = latency_kafka.plot.bar(x=\"Events\", ylim=(500,800), color=colors)\n",
    "latency_kafka_plot.set_xlabel(\"Number of samples per second\")\n",
    "latency_kafka_plot.set_ylabel(\"Latency(ms)\")"
   ]
  },
  {
   "cell_type": "markdown",
   "id": "38cb11cd",
   "metadata": {},
   "source": [
    "# Container Performance\n",
    "\n",
    "The following snippet produces docker stats and appends the results to a CSV file. For these validation tests, we collect the memory and CPU percentage usage:\n",
    "\n",
    "```bash\n",
    "while true; do docker stats <my_container> --no-stream --format \"{{ .CPUPerc }},{{ .MemPerc }}\" | tee --append results/cpu_memory/<my_container>/<my_container>_<events>.csv; sleep 1; done\n",
    "\n",
    "while true; do docker stats db-mongo fiware-orion nifi --no-stream --format \"{{ .Name }},{{ .CPUPerc }},{{ .MemPerc }}\" | tee --append results/cpu_memory/orion/orion_50.csv; sleep 1; done\n",
    "```\n",
    "\n",
    "We collect results for each NGSI-LD Broker and for Kafka while running the latency tests. Make sure to specify the `events` value used for the latency tests.\n",
    "\n",
    "You can also use the `collect_docker_stats.sh` utility. The following example collects CPU and memory percentage usage stats for kafka when 60 events are sent every second:\n",
    "\n",
    "```bash\n",
    "./collect_docker_stats.sh kafka 60\n",
    "```"
   ]
  },
  {
   "cell_type": "markdown",
   "id": "5c51e757",
   "metadata": {},
   "source": [
    "## Building the Datasets\n",
    "\n",
    "Process the generated CSV files using panda. First remove the percentage character from the memory and CPU columns. Then generate two charts - memory and CPU - that compare Kafka container against each NGSI-LD Broker container."
   ]
  },
  {
   "cell_type": "markdown",
   "id": "ece554b9",
   "metadata": {},
   "source": [
    "### Scorpio"
   ]
  },
  {
   "cell_type": "code",
   "execution_count": 15,
   "id": "c1089e78",
   "metadata": {},
   "outputs": [],
   "source": [
    "scorpio_services = []\n",
    "for event in events:\n",
    "    dataset_path = r'./results/cpu_memory/scorpio/scorpio_%s.csv' % event # use your path    \n",
    "    table = pd.read_csv(dataset_path, index_col=0, \n",
    "                        header=0, names=[\"service\", \"cpu\", \"memory\"])\n",
    "    table['cpu'] = table['cpu'].str.rstrip('%').astype('float') / 100.0\n",
    "    table['memory'] = table['memory'].str.rstrip('%').astype('float') / 100.0\n",
    "    scorpio_services.append(table)"
   ]
  },
  {
   "cell_type": "code",
   "execution_count": 48,
   "id": "b4ddcf4b",
   "metadata": {},
   "outputs": [],
   "source": [
    "scorpio_cpu = {}\n",
    "for table in scorpio_services:\n",
    "    cpu_means = table.groupby(\"service\").mean()[\"cpu\"]\n",
    "    for index,value in cpu_means.iteritems():\n",
    "        if index == \"nifi\":\n",
    "            continue\n",
    "        if index not in scorpio_cpu:\n",
    "            scorpio_cpu[index] = []\n",
    "        scorpio_cpu[index].append(value)"
   ]
  },
  {
   "cell_type": "code",
   "execution_count": 79,
   "id": "9f6d1705",
   "metadata": {},
   "outputs": [
    {
     "data": {
      "text/plain": [
       "Text(0, 0.5, 'Number of samples per second')"
      ]
     },
     "execution_count": 79,
     "metadata": {},
     "output_type": "execute_result"
    },
    {
     "data": {
      "image/png": "[encoded data removed]",
      "text/plain": [
       "<Figure size 432x288 with 1 Axes>"
      ]
     },
     "metadata": {
      "needs_background": "light"
     },
     "output_type": "display_data"
    }
   ],
   "source": [
    "scorpio_cpu_df = pd.DataFrame(scorpio_cpu, index=events)\n",
    "colors = ['tab:red','tab:green', \"tab:orange\"]\n",
    "scorpio_cpu_df_plot = scorpio_cpu_df.plot.barh(stacked=True, color=colors)\n",
    "scorpio_cpu_df_plot.set_xlabel(\"CPU consumption (decimal)\")\n",
    "scorpio_cpu_df_plot.set_ylabel(\"Number of samples per second\")"
   ]
  },
  {
   "cell_type": "code",
   "execution_count": 75,
   "id": "2a8c5f13",
   "metadata": {},
   "outputs": [],
   "source": [
    "scorpio_mem = {}\n",
    "for table in scorpio_services:\n",
    "    mem_means = table.groupby(\"service\").mean()[\"memory\"]\n",
    "    for index,value in mem_means.iteritems():\n",
    "        if index == \"nifi\":\n",
    "            continue\n",
    "        if index not in scorpio_mem:\n",
    "            scorpio_mem[index] = []\n",
    "        scorpio_mem[index].append(value)"
   ]
  },
  {
   "cell_type": "code",
   "execution_count": 80,
   "id": "706fcfc1",
   "metadata": {},
   "outputs": [
    {
     "data": {
      "text/plain": [
       "Text(0, 0.5, 'Number of samples per second')"
      ]
     },
     "execution_count": 80,
     "metadata": {},
     "output_type": "execute_result"
    },
    {
     "data": {
      "image/png": "[encoded data removed]",
      "text/plain": [
       "<Figure size 432x288 with 1 Axes>"
      ]
     },
     "metadata": {
      "needs_background": "light"
     },
     "output_type": "display_data"
    }
   ],
   "source": [
    "scorpio_mem_df = pd.DataFrame(scorpio_mem, index=events)\n",
    "colors = ['tab:red','tab:green', \"tab:orange\"]\n",
    "scorpio_mem_df_plot = scorpio_mem_df.plot.barh(stacked=True, color=colors)\n",
    "scorpio_mem_df_plot.set_xlabel(\"RAM memory consumption (decimal)\")\n",
    "scorpio_mem_df_plot.set_ylabel(\"Number of samples per second\")"
   ]
  },
  {
   "cell_type": "markdown",
   "id": "05be15c2",
   "metadata": {},
   "source": [
    "### Orion-LD"
   ]
  },
  {
   "cell_type": "code",
   "execution_count": 20,
   "id": "7508283a",
   "metadata": {},
   "outputs": [],
   "source": [
    "orion_services = []\n",
    "for event in events:\n",
    "    dataset_path = r'./results/cpu_memory/orion/orion_%s.csv' % event # use your path    \n",
    "    table = pd.read_csv(dataset_path, index_col=0, \n",
    "                        header=0, names=[\"service\", \"cpu\", \"memory\"])\n",
    "    table['cpu'] = table['cpu'].str.rstrip('%').astype('float') / 100.0\n",
    "    table['memory'] = table['memory'].str.rstrip('%').astype('float') / 100.0\n",
    "    orion_services.append(table)"
   ]
  },
  {
   "cell_type": "code",
   "execution_count": 52,
   "id": "369e8b62",
   "metadata": {},
   "outputs": [],
   "source": [
    "orion_cpu = {}\n",
    "for table in orion_services:\n",
    "    cpu_means = table.groupby(\"service\").mean()[\"cpu\"]\n",
    "    for index,value in cpu_means.iteritems():\n",
    "        if index == \"nifi\":\n",
    "            continue\n",
    "        if index not in orion_cpu:\n",
    "            orion_cpu[index] = []\n",
    "        orion_cpu[index].append(value)"
   ]
  },
  {
   "cell_type": "code",
   "execution_count": 82,
   "id": "c9511b47",
   "metadata": {},
   "outputs": [
    {
     "data": {
      "text/plain": [
       "Text(0, 0.5, 'Number of samples per second')"
      ]
     },
     "execution_count": 82,
     "metadata": {},
     "output_type": "execute_result"
    },
    {
     "data": {
      "image/png": "[encoded data removed]",
      "text/plain": [
       "<Figure size 432x288 with 1 Axes>"
      ]
     },
     "metadata": {
      "needs_background": "light"
     },
     "output_type": "display_data"
    }
   ],
   "source": [
    "colors = ['lightcoral','tab:blue']\n",
    "orion_cpu_df = pd.DataFrame(orion_cpu, index=events)\n",
    "orion_cpu_df_plot = orion_cpu_df.plot.barh(stacked=True, color=colors)\n",
    "orion_cpu_df_plot.set_xlabel(\"CPU consumption (decimal)\")\n",
    "orion_cpu_df_plot.set_ylabel(\"Number of samples per second\")"
   ]
  },
  {
   "cell_type": "code",
   "execution_count": 54,
   "id": "0fbb3fc4",
   "metadata": {},
   "outputs": [],
   "source": [
    "orion_mem = {}\n",
    "for table in orion_services:\n",
    "    mem_means = table.groupby(\"service\").mean()[\"memory\"]\n",
    "    for index,value in mem_means.iteritems():\n",
    "        if index == \"nifi\":\n",
    "            continue\n",
    "        if index not in orion_mem:\n",
    "            orion_mem[index] = []\n",
    "        orion_mem[index].append(value)"
   ]
  },
  {
   "cell_type": "code",
   "execution_count": 83,
   "id": "a92f69f5",
   "metadata": {},
   "outputs": [
    {
     "data": {
      "text/plain": [
       "Text(0, 0.5, 'Number of samples per second')"
      ]
     },
     "execution_count": 83,
     "metadata": {},
     "output_type": "execute_result"
    },
    {
     "data": {
      "image/png": "[encoded data removed]",
      "text/plain": [
       "<Figure size 432x288 with 1 Axes>"
      ]
     },
     "metadata": {
      "needs_background": "light"
     },
     "output_type": "display_data"
    }
   ],
   "source": [
    "colors = ['lightcoral','tab:blue']\n",
    "orion_mem_df = pd.DataFrame(orion_mem, index=events)\n",
    "orion_mem_df_plot = orion_mem_df.plot.barh(stacked=True, color=colors)\n",
    "orion_mem_df_plot.set_xlabel(\"RAM memory consumption (decimal)\")\n",
    "orion_mem_df_plot.set_ylabel(\"Number of samples per second\")"
   ]
  },
  {
   "cell_type": "markdown",
   "id": "39d1483b",
   "metadata": {},
   "source": [
    "### Kafka-AVRO"
   ]
  },
  {
   "cell_type": "code",
   "execution_count": 25,
   "id": "322cd954",
   "metadata": {},
   "outputs": [],
   "source": [
    "kafka_avro_services = []\n",
    "for event in events:\n",
    "    dataset_path = r'./results/cpu_memory/kafka-avro/kafka-avro_%s.csv' % event # use your path    \n",
    "    table = pd.read_csv(dataset_path, index_col=0, \n",
    "                        header=0, names=[\"service\", \"cpu\", \"memory\"])\n",
    "    table['cpu'] = table['cpu'].str.rstrip('%').astype('float') / 100.0\n",
    "    table['memory'] = table['memory'].str.rstrip('%').astype('float') / 100.0\n",
    "    kafka_avro_services.append(table)"
   ]
  },
  {
   "cell_type": "code",
   "execution_count": 56,
   "id": "3e09ffac",
   "metadata": {},
   "outputs": [],
   "source": [
    "kafka_avro_cpu = {}\n",
    "for table in kafka_avro_services:\n",
    "    cpu_means = table.groupby(\"service\").mean()[\"cpu\"]\n",
    "    for index,value in cpu_means.iteritems():\n",
    "        if index == \"nifi\":\n",
    "            continue\n",
    "        if index not in kafka_avro_cpu:\n",
    "            kafka_avro_cpu[index] = []\n",
    "        kafka_avro_cpu[index].append(value)"
   ]
  },
  {
   "cell_type": "code",
   "execution_count": 84,
   "id": "fa226311",
   "metadata": {},
   "outputs": [
    {
     "data": {
      "text/plain": [
       "Text(0, 0.5, 'Number of samples per second')"
      ]
     },
     "execution_count": 84,
     "metadata": {},
     "output_type": "execute_result"
    },
    {
     "data": {
      "image/png": "[encoded data removed]",
      "text/plain": [
       "<Figure size 432x288 with 1 Axes>"
      ]
     },
     "metadata": {
      "needs_background": "light"
     },
     "output_type": "display_data"
    }
   ],
   "source": [
    "colors = ['tab:red']\n",
    "kafka_avro_cpu_df = pd.DataFrame(kafka_avro_cpu, index=events)\n",
    "kafka_avro_cpu_df_plot = kafka_avro_cpu_df.plot.barh(stacked=True, color=colors)\n",
    "kafka_avro_cpu_df_plot.set_xlabel(\"CPU consumption (decimal)\")\n",
    "kafka_avro_cpu_df_plot.set_ylabel(\"Number of samples per second\")"
   ]
  },
  {
   "cell_type": "code",
   "execution_count": 68,
   "id": "051fb948",
   "metadata": {},
   "outputs": [],
   "source": [
    "kafka_avro_mem = {}\n",
    "for table in kafka_avro_services:\n",
    "    mem_means = table.groupby(\"service\").mean()[\"memory\"]\n",
    "    for index,value in mem_means.iteritems():\n",
    "        if index == \"nifi\":\n",
    "            continue\n",
    "        if index not in kafka_avro_mem:\n",
    "            kafka_avro_mem[index] = []\n",
    "        kafka_avro_mem[index].append(value)"
   ]
  },
  {
   "cell_type": "code",
   "execution_count": 85,
   "id": "9a807b84",
   "metadata": {},
   "outputs": [
    {
     "data": {
      "text/plain": [
       "Text(0, 0.5, 'Number of samples per second')"
      ]
     },
     "execution_count": 85,
     "metadata": {},
     "output_type": "execute_result"
    },
    {
     "data": {
      "image/png": "[encoded data removed]",
      "text/plain": [
       "<Figure size 432x288 with 1 Axes>"
      ]
     },
     "metadata": {
      "needs_background": "light"
     },
     "output_type": "display_data"
    }
   ],
   "source": [
    "colors = ['tab:red']\n",
    "kafka_avro_mem_df = pd.DataFrame(kafka_avro_mem, index=events)\n",
    "kafka_avro_mem_df_plot = kafka_avro_mem_df.plot.barh(stacked=True, color=colors)\n",
    "kafka_avro_mem_df_plot.set_xlabel(\"RAM memory consumption (decimal)\")\n",
    "kafka_avro_mem_df_plot.set_ylabel(\"Number of samples per second\")"
   ]
  },
  {
   "cell_type": "markdown",
   "id": "5e88ebf4",
   "metadata": {},
   "source": [
    "### Kafka-NGSI-LD"
   ]
  },
  {
   "cell_type": "code",
   "execution_count": 60,
   "id": "b818d1f2",
   "metadata": {},
   "outputs": [],
   "source": [
    "kafka_ngsi_ld_services = []\n",
    "for event in events:\n",
    "    dataset_path = r'./results/cpu_memory/kafka-ngsi-ld/kafka-ngsi-ld_%s.csv' % event # use your path    \n",
    "    table = pd.read_csv(dataset_path, index_col=0, \n",
    "                        header=0, names=[\"service\", \"cpu\", \"memory\"])\n",
    "    table['cpu'] = table['cpu'].str.rstrip('%').astype('float') / 100.0\n",
    "    table['memory'] = table['memory'].str.rstrip('%').astype('float') / 100.0\n",
    "    kafka_ngsi_ld_services.append(table)"
   ]
  },
  {
   "cell_type": "code",
   "execution_count": 61,
   "id": "94c12e3a",
   "metadata": {},
   "outputs": [],
   "source": [
    "kafka_ngsi_ld_cpu = {}\n",
    "for table in kafka_ngsi_ld_services:\n",
    "    cpu_means = table.groupby(\"service\").mean()[\"cpu\"]\n",
    "    for index,value in cpu_means.iteritems():\n",
    "        if index == \"nifi\":\n",
    "            continue\n",
    "        if index not in kafka_ngsi_ld_cpu:\n",
    "            kafka_ngsi_ld_cpu[index] = []\n",
    "        kafka_ngsi_ld_cpu[index].append(value)"
   ]
  },
  {
   "cell_type": "code",
   "execution_count": 87,
   "id": "544d652b",
   "metadata": {},
   "outputs": [
    {
     "data": {
      "text/plain": [
       "Text(0, 0.5, 'Number of samples per second')"
      ]
     },
     "execution_count": 87,
     "metadata": {},
     "output_type": "execute_result"
    },
    {
     "data": {
      "image/png": "[encoded data removed]",
      "text/plain": [
       "<Figure size 432x288 with 1 Axes>"
      ]
     },
     "metadata": {
      "needs_background": "light"
     },
     "output_type": "display_data"
    }
   ],
   "source": [
    "colors = ['tab:red']\n",
    "kafka_ngsi_ld_cpu_df = pd.DataFrame(kafka_ngsi_ld_cpu, index=events)\n",
    "kafka_ngsi_ld_cpu_df_plot = kafka_ngsi_ld_cpu_df.plot.barh(stacked=True, color=colors)\n",
    "kafka_ngsi_ld_cpu_df_plot.set_xlabel(\"CPU consumption (decimal)\")\n",
    "kafka_ngsi_ld_cpu_df_plot.set_ylabel(\"Number of samples per second\")"
   ]
  },
  {
   "cell_type": "code",
   "execution_count": 66,
   "id": "d49ad5e8",
   "metadata": {},
   "outputs": [],
   "source": [
    "kafka_ngsi_ld_mem = {}\n",
    "for table in kafka_ngsi_ld_services:\n",
    "    mem_means = table.groupby(\"service\").mean()[\"memory\"]\n",
    "    for index,value in mem_means.iteritems():\n",
    "        if index == \"nifi\":\n",
    "            continue\n",
    "        if index not in kafka_ngsi_ld_mem:\n",
    "            kafka_ngsi_ld_mem[index] = []\n",
    "        kafka_ngsi_ld_mem[index].append(value)"
   ]
  },
  {
   "cell_type": "code",
   "execution_count": 86,
   "id": "2f4706b8",
   "metadata": {},
   "outputs": [
    {
     "data": {
      "text/plain": [
       "Text(0, 0.5, 'Number of samples per second')"
      ]
     },
     "execution_count": 86,
     "metadata": {},
     "output_type": "execute_result"
    },
    {
     "data": {
      "image/png": "[encoded data removed]",
      "text/plain": [
       "<Figure size 432x288 with 1 Axes>"
      ]
     },
     "metadata": {
      "needs_background": "light"
     },
     "output_type": "display_data"
    }
   ],
   "source": [
    "colors = ['tab:red']\n",
    "kafka_ngsi_ld_mem_df = pd.DataFrame(kafka_ngsi_ld_mem, index=events)\n",
    "kafka_ngsi_ld_mem_df_plot = kafka_ngsi_ld_mem_df.plot.barh(stacked=True, color=colors)\n",
    "kafka_ngsi_ld_mem_df_plot.set_xlabel(\"RAM memory consumption (decimal)\")\n",
    "kafka_ngsi_ld_mem_df_plot.set_ylabel(\"Number of samples per second\")"
   ]
  }
 ],
 "metadata": {
  "kernelspec": {
   "display_name": "Python 3",
   "language": "python",
   "name": "python3"
  },
  "language_info": {
   "codemirror_mode": {
    "name": "ipython",
    "version": 3
   },
   "file_extension": ".py",
   "mimetype": "text/x-python",
   "name": "python",
   "nbconvert_exporter": "python",
   "pygments_lexer": "ipython3",
   "version": "3.8.5"
  }
 },
 "nbformat": 4,
 "nbformat_minor": 5
}
