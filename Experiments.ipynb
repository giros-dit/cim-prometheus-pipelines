{
 "cells": [
  {
   "cell_type": "markdown",
   "id": "5d1a3a0f",
   "metadata": {},
   "source": [
    "# Latency Comparison\n",
    "\n",
    "In this section we collect results from measuring the latency between ingesting data from the source and collecting the data from the broker (i.e., Kafka vs NGSI-LD Broker).\n",
    "\n",
    "First, execute the tests from Apache NiFi for each number of events to be sent to the broker every second. The results from these tests will be stored in `results/latency/<broker>/`.\n",
    "\n",
    "## Building the Datasets"
   ]
  },
  {
   "cell_type": "code",
   "execution_count": 3,
   "id": "097e1629",
   "metadata": {},
   "outputs": [],
   "source": [
    "import pandas as pd\n",
    "\n",
    "#Disable scientific notation in datasets\n",
    "pd.set_option('display.float_format', lambda x: '%.3f' % x)"
   ]
  },
  {
   "cell_type": "markdown",
   "id": "80869223",
   "metadata": {},
   "source": [
    "Set list with number events per second configured for each experiment."
   ]
  },
  {
   "cell_type": "code",
   "execution_count": 48,
   "id": "c950d89c",
   "metadata": {},
   "outputs": [],
   "source": [
    "events = [10,50,100,150,200]"
   ]
  },
  {
   "cell_type": "markdown",
   "id": "271afe40",
   "metadata": {},
   "source": [
    "### Scorpio"
   ]
  },
  {
   "cell_type": "code",
   "execution_count": 49,
   "id": "c99ec85e",
   "metadata": {},
   "outputs": [],
   "source": [
    "import glob\n",
    "\n",
    "scorpio = []\n",
    "for event in events:\n",
    "    path = r'./results/latency/scorpio/%s' % event # use your path\n",
    "    all_files = glob.glob(path + \"/*\")\n",
    "\n",
    "    li = []\n",
    "\n",
    "    for filename in all_files:\n",
    "        df = pd.read_csv(filename, index_col=None, header=0)\n",
    "        li.append(df)\n",
    "\n",
    "    scorpio.append(pd.concat(li, axis=0, ignore_index=True))\n",
    "    \n",
    "# Estimate the delta between the collection and notification timestamps\n",
    "scorpio_means = []\n",
    "for table in scorpio:\n",
    "    table[\"deltaTimestamp\"] = table[\"notificationTimestamp\"] - table[\"collectionTimestamp\"]\n",
    "    scorpio_means.append(table[\"deltaTimestamp\"].mean())"
   ]
  },
  {
   "cell_type": "markdown",
   "id": "d41e5d94",
   "metadata": {},
   "source": [
    "### Orion-LD"
   ]
  },
  {
   "cell_type": "code",
   "execution_count": 50,
   "id": "99e94e02",
   "metadata": {},
   "outputs": [],
   "source": [
    "import glob\n",
    "\n",
    "orion = []\n",
    "for event in events:\n",
    "    path = r'./results/latency/fiware-orion/%s' % event # use your path\n",
    "    all_files = glob.glob(path + \"/*\")\n",
    "\n",
    "    li = []\n",
    "\n",
    "    for filename in all_files:\n",
    "        df = pd.read_csv(filename, index_col=None, header=0)\n",
    "        li.append(df)\n",
    "\n",
    "    orion.append(pd.concat(li, axis=0, ignore_index=True))\n",
    "    \n",
    "# Estimate the delta between the collection and notification timestamps\n",
    "orion_means = []\n",
    "for table in orion:\n",
    "    table[\"deltaTimestamp\"] = table[\"notificationTimestamp\"] - table[\"collectionTimestamp\"]\n",
    "    orion_means.append(table[\"deltaTimestamp\"].mean())"
   ]
  },
  {
   "cell_type": "markdown",
   "id": "98007125",
   "metadata": {},
   "source": [
    "### Kafka-AVRO"
   ]
  },
  {
   "cell_type": "code",
   "execution_count": 55,
   "id": "4be5b63d",
   "metadata": {},
   "outputs": [],
   "source": [
    "import glob\n",
    "\n",
    "kafka_avro = []\n",
    "for event in events:\n",
    "    path = r'./results/latency/kafka-avro/%s' % event # use your path\n",
    "    all_files = glob.glob(path + \"/*\")\n",
    "\n",
    "    li = []\n",
    "\n",
    "    for filename in all_files:\n",
    "        df = pd.read_csv(filename, index_col=None, header=0)\n",
    "        li.append(df)\n",
    "\n",
    "    kafka_avro.append(pd.concat(li, axis=0, ignore_index=True))\n",
    "\n",
    "# Estimate the delta between the collection and notification timestamps\n",
    "kafka_avro_means = []\n",
    "for table in kafka_avro:\n",
    "    table[\"deltaTimestamp\"] = table[\"notificationTimestamp\"] - table[\"collectionTimestamp\"]\n",
    "    kafka_avro_means.append(table[\"deltaTimestamp\"].mean())"
   ]
  },
  {
   "cell_type": "markdown",
   "id": "30f33249",
   "metadata": {},
   "source": [
    "### Kafka-NGSI-LD"
   ]
  },
  {
   "cell_type": "code",
   "execution_count": 63,
   "id": "c2818e9c",
   "metadata": {},
   "outputs": [],
   "source": [
    "import glob\n",
    "\n",
    "kafka_ngsi_ld = []\n",
    "for event in events:\n",
    "    path = r'./results/latency/kafka_ngsi-ld/%s' % event # use your path\n",
    "    all_files = glob.glob(path + \"/*\")\n",
    "\n",
    "    li = []\n",
    "\n",
    "    for filename in all_files:\n",
    "        df = pd.read_csv(filename, index_col=None, header=0)\n",
    "        li.append(df)\n",
    "\n",
    "    kafka_ngsi_ld.append(pd.concat(li, axis=0, ignore_index=True))\n",
    "\n",
    "# Estimate the delta between the collection and notification timestamps\n",
    "kafka_ngsi_ld_means = []\n",
    "for table in kafka_ngsi_ld:\n",
    "    table[\"deltaTimestamp\"] = table[\"notificationTimestamp\"] - table[\"collectionTimestamp\"]\n",
    "    kafka_ngsi_ld_means.append(table[\"deltaTimestamp\"].mean())"
   ]
  },
  {
   "cell_type": "markdown",
   "id": "78ce8bcc",
   "metadata": {},
   "source": [
    "## Visualization\n",
    "\n",
    "Once the datasets haven prepared, move on to creating some plots."
   ]
  },
  {
   "cell_type": "code",
   "execution_count": 83,
   "id": "e676e9a3",
   "metadata": {},
   "outputs": [],
   "source": [
    "import matplotlib.pyplot as plt\n",
    "plt.close(\"all\")"
   ]
  },
  {
   "cell_type": "code",
   "execution_count": 56,
   "id": "2fe7c479",
   "metadata": {},
   "outputs": [
    {
     "data": {
      "text/html": [
       "<div>\n",
       "<style scoped>\n",
       "    .dataframe tbody tr th:only-of-type {\n",
       "        vertical-align: middle;\n",
       "    }\n",
       "\n",
       "    .dataframe tbody tr th {\n",
       "        vertical-align: top;\n",
       "    }\n",
       "\n",
       "    .dataframe thead th {\n",
       "        text-align: right;\n",
       "    }\n",
       "</style>\n",
       "<table border=\"1\" class=\"dataframe\">\n",
       "  <thead>\n",
       "    <tr style=\"text-align: right;\">\n",
       "      <th></th>\n",
       "      <th>Events</th>\n",
       "      <th>Orion-LD</th>\n",
       "      <th>Scorpio-LD</th>\n",
       "      <th>Kafka-AVRO</th>\n",
       "    </tr>\n",
       "  </thead>\n",
       "  <tbody>\n",
       "    <tr>\n",
       "      <th>0</th>\n",
       "      <td>10</td>\n",
       "      <td>117.906</td>\n",
       "      <td>152.109</td>\n",
       "      <td>622.940</td>\n",
       "    </tr>\n",
       "    <tr>\n",
       "      <th>1</th>\n",
       "      <td>50</td>\n",
       "      <td>144.775</td>\n",
       "      <td>206.564</td>\n",
       "      <td>572.187</td>\n",
       "    </tr>\n",
       "    <tr>\n",
       "      <th>2</th>\n",
       "      <td>100</td>\n",
       "      <td>158.672</td>\n",
       "      <td>281.592</td>\n",
       "      <td>586.121</td>\n",
       "    </tr>\n",
       "    <tr>\n",
       "      <th>3</th>\n",
       "      <td>150</td>\n",
       "      <td>225.315</td>\n",
       "      <td>5122.817</td>\n",
       "      <td>563.343</td>\n",
       "    </tr>\n",
       "    <tr>\n",
       "      <th>4</th>\n",
       "      <td>200</td>\n",
       "      <td>297.860</td>\n",
       "      <td>13485.049</td>\n",
       "      <td>581.903</td>\n",
       "    </tr>\n",
       "  </tbody>\n",
       "</table>\n",
       "</div>"
      ],
      "text/plain": [
       "   Events  Orion-LD  Scorpio-LD  Kafka-AVRO\n",
       "0      10   117.906     152.109     622.940\n",
       "1      50   144.775     206.564     572.187\n",
       "2     100   158.672     281.592     586.121\n",
       "3     150   225.315    5122.817     563.343\n",
       "4     200   297.860   13485.049     581.903"
      ]
     },
     "execution_count": 56,
     "metadata": {},
     "output_type": "execute_result"
    },
    {
     "data": {
      "image/png": "[encoded data removed]",
      "text/plain": [
       "<Figure size 432x288 with 1 Axes>"
      ]
     },
     "metadata": {
      "needs_background": "light"
     },
     "output_type": "display_data"
    }
   ],
   "source": [
    "\n",
    "latency = pd.DataFrame({\"Events\": events,\"Orion-LD\": orion_means, \"Scorpio-LD\": scorpio_means,\n",
    "                       \"Kafka-AVRO\": kafka_avro_means})\n",
    "latency.plot.bar(x=\"Events\", logy=True)\n",
    "latency"
   ]
  },
  {
   "cell_type": "code",
   "execution_count": 70,
   "id": "4bf1f2a1",
   "metadata": {},
   "outputs": [
    {
     "data": {
      "text/plain": [
       "<AxesSubplot:xlabel='Events'>"
      ]
     },
     "execution_count": 70,
     "metadata": {},
     "output_type": "execute_result"
    },
    {
     "data": {
      "image/png": "[encoded data removed]",
      "text/plain": [
       "<Figure size 432x288 with 1 Axes>"
      ]
     },
     "metadata": {
      "needs_background": "light"
     },
     "output_type": "display_data"
    }
   ],
   "source": [
    "latency = pd.DataFrame({\"Events\": events,\"Kafka-NGSI-LD\": kafka_ngsi_ld_means, \n",
    "                        \"Kafka-AVRO\": kafka_avro_means })\n",
    "latency.plot.bar(x=\"Events\", ylim=(500,800))"
   ]
  },
  {
   "cell_type": "markdown",
   "id": "38cb11cd",
   "metadata": {},
   "source": [
    "# Container Performance\n",
    "\n",
    "The following snippet produces docker stats and appends the results to a CSV file. For these validation tests, we collect the memory and CPU percentage usage:\n",
    "\n",
    "```bash\n",
    "while true; do docker stats <my_container> --no-stream --format \"{{ .CPUPerc }},{{ .MemPerc }}\" | tee --append results/cpu_memory/<my_container>/<my_container>_<events>.csv; sleep 1; done\n",
    "\n",
    "while true; do docker stats db-mongo fiware-orion nifi --no-stream --format \"{{ .Name }},{{ .CPUPerc }},{{ .MemPerc }}\" | tee --append results/cpu_memory/orion/orion_50.csv; sleep 1; done\n",
    "```\n",
    "\n",
    "We collect results for each NGSI-LD Broker and for Kafka while running the latency tests. Make sure to specify the `events` value used for the latency tests.\n",
    "\n",
    "You can also use the `collect_docker_stats.sh` utility. The following example collects CPU and memory percentage usage stats for kafka when 60 events are sent every second:\n",
    "\n",
    "```bash\n",
    "./collect_docker_stats.sh kafka 60\n",
    "```"
   ]
  },
  {
   "cell_type": "markdown",
   "id": "5c51e757",
   "metadata": {},
   "source": [
    "## Building the Datasets\n",
    "\n",
    "Process the generated CSV files using panda. First remove the percentage character from the memory and CPU columns. Then generate two charts - memory and CPU - that compare Kafka container against each NGSI-LD Broker container."
   ]
  },
  {
   "cell_type": "markdown",
   "id": "ece554b9",
   "metadata": {},
   "source": [
    "### Scorpio"
   ]
  },
  {
   "cell_type": "code",
   "execution_count": 35,
   "id": "c1089e78",
   "metadata": {},
   "outputs": [],
   "source": [
    "events = [10,50,100,150,200]\n",
    "scorpio_services = []\n",
    "for event in events:\n",
    "    dataset_path = r'./results/cpu_memory/scorpio/scorpio_%s.csv' % event # use your path    \n",
    "    table = pd.read_csv(dataset_path, index_col=0, \n",
    "                        header=0, names=[\"service\", \"cpu\", \"memory\"])\n",
    "    table['cpu'] = table['cpu'].str.rstrip('%').astype('float') / 100.0\n",
    "    table['memory'] = table['memory'].str.rstrip('%').astype('float') / 100.0\n",
    "    scorpio_services.append(table)"
   ]
  },
  {
   "cell_type": "code",
   "execution_count": 36,
   "id": "b4ddcf4b",
   "metadata": {},
   "outputs": [],
   "source": [
    "scorpio_cpu = {}\n",
    "for table in scorpio_services:\n",
    "    cpu_means = table.groupby(\"service\").mean()[\"cpu\"]\n",
    "    for index,value in cpu_means.iteritems():\n",
    "        if index not in scorpio_cpu:\n",
    "            scorpio_cpu[index] = []\n",
    "        scorpio_cpu[index].append(value)"
   ]
  },
  {
   "cell_type": "code",
   "execution_count": 37,
   "id": "9f6d1705",
   "metadata": {},
   "outputs": [
    {
     "data": {
      "text/plain": [
       "<AxesSubplot:>"
      ]
     },
     "execution_count": 37,
     "metadata": {},
     "output_type": "execute_result"
    },
    {
     "data": {
      "image/png": "[encoded data removed]",
      "text/plain": [
       "<Figure size 432x288 with 1 Axes>"
      ]
     },
     "metadata": {
      "needs_background": "light"
     },
     "output_type": "display_data"
    }
   ],
   "source": [
    "cpu = pd.DataFrame(scorpio_cpu, index=events)\n",
    "cpu.plot.barh(stacked=True)"
   ]
  },
  {
   "cell_type": "code",
   "execution_count": 38,
   "id": "2a8c5f13",
   "metadata": {},
   "outputs": [],
   "source": [
    "scorpio_mem = {}\n",
    "for table in scorpio_services:\n",
    "    mem_means = table.groupby(\"service\").mean()[\"memory\"]\n",
    "    for index,value in mem_means.iteritems():\n",
    "        if index not in scorpio_mem:\n",
    "            scorpio_mem[index] = []\n",
    "        scorpio_mem[index].append(value)"
   ]
  },
  {
   "cell_type": "code",
   "execution_count": 39,
   "id": "706fcfc1",
   "metadata": {},
   "outputs": [
    {
     "data": {
      "text/plain": [
       "<AxesSubplot:>"
      ]
     },
     "execution_count": 39,
     "metadata": {},
     "output_type": "execute_result"
    },
    {
     "data": {
      "image/png": "[encoded data removed]",
      "text/plain": [
       "<Figure size 432x288 with 1 Axes>"
      ]
     },
     "metadata": {
      "needs_background": "light"
     },
     "output_type": "display_data"
    }
   ],
   "source": [
    "mem = pd.DataFrame(scorpio_mem, index=events)\n",
    "mem.plot.barh(stacked=True)"
   ]
  },
  {
   "cell_type": "markdown",
   "id": "05be15c2",
   "metadata": {},
   "source": [
    "### Orion-LD"
   ]
  },
  {
   "cell_type": "code",
   "execution_count": 41,
   "id": "7508283a",
   "metadata": {},
   "outputs": [],
   "source": [
    "events = [10,50,100,150,200]\n",
    "orion_services = []\n",
    "for event in events:\n",
    "    dataset_path = r'./results/cpu_memory/orion/orion_%s.csv' % event # use your path    \n",
    "    table = pd.read_csv(dataset_path, index_col=0, \n",
    "                        header=0, names=[\"service\", \"cpu\", \"memory\"])\n",
    "    table['cpu'] = table['cpu'].str.rstrip('%').astype('float') / 100.0\n",
    "    table['memory'] = table['memory'].str.rstrip('%').astype('float') / 100.0\n",
    "    orion_services.append(table)"
   ]
  },
  {
   "cell_type": "code",
   "execution_count": 42,
   "id": "369e8b62",
   "metadata": {},
   "outputs": [],
   "source": [
    "orion_cpu = {}\n",
    "for table in orion_services:\n",
    "    cpu_means = table.groupby(\"service\").mean()[\"cpu\"]\n",
    "    for index,value in cpu_means.iteritems():\n",
    "        if index not in orion_cpu:\n",
    "            orion_cpu[index] = []\n",
    "        orion_cpu[index].append(value)"
   ]
  },
  {
   "cell_type": "code",
   "execution_count": 43,
   "id": "c9511b47",
   "metadata": {},
   "outputs": [
    {
     "data": {
      "text/plain": [
       "<AxesSubplot:>"
      ]
     },
     "execution_count": 43,
     "metadata": {},
     "output_type": "execute_result"
    },
    {
     "data": {
      "image/png": "[encoded data removed]",
      "text/plain": [
       "<Figure size 432x288 with 1 Axes>"
      ]
     },
     "metadata": {
      "needs_background": "light"
     },
     "output_type": "display_data"
    }
   ],
   "source": [
    "cpu = pd.DataFrame(orion_cpu, index=events)\n",
    "cpu.plot.barh(stacked=True)"
   ]
  },
  {
   "cell_type": "code",
   "execution_count": 46,
   "id": "0fbb3fc4",
   "metadata": {},
   "outputs": [],
   "source": [
    "orion_mem = {}\n",
    "for table in orion_services:\n",
    "    mem_means = table.groupby(\"service\").mean()[\"memory\"]\n",
    "    for index,value in mem_means.iteritems():\n",
    "        if index not in orion_mem:\n",
    "            orion_mem[index] = []\n",
    "        orion_mem[index].append(value)"
   ]
  },
  {
   "cell_type": "code",
   "execution_count": 47,
   "id": "a92f69f5",
   "metadata": {},
   "outputs": [
    {
     "data": {
      "text/plain": [
       "<AxesSubplot:>"
      ]
     },
     "execution_count": 47,
     "metadata": {},
     "output_type": "execute_result"
    },
    {
     "data": {
      "image/png": "[encoded data removed]",
      "text/plain": [
       "<Figure size 432x288 with 1 Axes>"
      ]
     },
     "metadata": {
      "needs_background": "light"
     },
     "output_type": "display_data"
    }
   ],
   "source": [
    "mem = pd.DataFrame(orion_mem, index=events)\n",
    "mem.plot.barh(stacked=True)"
   ]
  },
  {
   "cell_type": "markdown",
   "id": "39d1483b",
   "metadata": {},
   "source": [
    "### Kafka-AVRO"
   ]
  },
  {
   "cell_type": "code",
   "execution_count": 44,
   "id": "322cd954",
   "metadata": {},
   "outputs": [],
   "source": [
    "kafka_avro_cpu = []\n",
    "kafka_avro_memory = []\n",
    "for event in events:\n",
    "    dataset_path = r'./results/cpu_memory/kafka_avro/kafka_%s.csv' % event # use your path    \n",
    "    table = pd.read_csv(dataset_path, index_col=None, \n",
    "                        header=None, names=[\"cpu\", \"memory\"])\n",
    "    table['cpu'] = table['cpu'].str.rstrip('%').astype('float') / 100.0\n",
    "    table['memory'] = table['memory'].str.rstrip('%').astype('float') / 100.0\n",
    "    kafka_avro_cpu.append(table['cpu'].mean())\n",
    "    kafka_avro_memory.append(table['memory'].mean())"
   ]
  },
  {
   "cell_type": "markdown",
   "id": "5e88ebf4",
   "metadata": {},
   "source": [
    "### Kafka-NGSI-LD"
   ]
  },
  {
   "cell_type": "code",
   "execution_count": 45,
   "id": "5890758c",
   "metadata": {},
   "outputs": [],
   "source": [
    "kafka_ngsi_ld_cpu = []\n",
    "kafka_ngsi_ld_memory = []\n",
    "for event in events:\n",
    "    dataset_path = r'./results/cpu_memory/kafka_ngsi-ld/kafka_%s.csv' % event # use your path    \n",
    "    table = pd.read_csv(dataset_path, index_col=None, \n",
    "                        header=None, names=[\"cpu\", \"memory\"])\n",
    "    table['cpu'] = table['cpu'].str.rstrip('%').astype('float') / 100.0\n",
    "    table['memory'] = table['memory'].str.rstrip('%').astype('float') / 100.0\n",
    "    kafka_ngsi_ld_cpu.append(table['cpu'].mean())\n",
    "    kafka_ngsi_ld_memory.append(table['memory'].mean())"
   ]
  },
  {
   "cell_type": "markdown",
   "id": "61356a7d",
   "metadata": {},
   "source": [
    "## Visualization"
   ]
  },
  {
   "cell_type": "markdown",
   "id": "6e397e6c",
   "metadata": {},
   "source": [
    "### CPU Performance"
   ]
  },
  {
   "cell_type": "code",
   "execution_count": 71,
   "id": "ac5158d7",
   "metadata": {},
   "outputs": [
    {
     "data": {
      "text/plain": [
       "<AxesSubplot:xlabel='Events'>"
      ]
     },
     "execution_count": 71,
     "metadata": {},
     "output_type": "execute_result"
    },
    {
     "data": {
      "image/png": "[encoded data removed]",
      "text/plain": [
       "<Figure size 432x288 with 1 Axes>"
      ]
     },
     "metadata": {
      "needs_background": "light"
     },
     "output_type": "display_data"
    }
   ],
   "source": [
    "cpu_perf = pd.DataFrame({\"Events\": events,\"Orion-LD\": orion_cpu,\n",
    "                         \"Kafka-AVRO\": kafka_avro_cpu, \"Kafka-NGSI-LD\": kafka_ngsi_ld_cpu})\n",
    "cpu_perf.plot.bar(x=\"Events\")"
   ]
  },
  {
   "cell_type": "markdown",
   "id": "09af7c39",
   "metadata": {},
   "source": [
    "### Memory Performance"
   ]
  },
  {
   "cell_type": "code",
   "execution_count": 48,
   "id": "c2b34bc0",
   "metadata": {},
   "outputs": [
    {
     "data": {
      "text/plain": [
       "<AxesSubplot:xlabel='Events'>"
      ]
     },
     "execution_count": 48,
     "metadata": {},
     "output_type": "execute_result"
    },
    {
     "data": {
      "image/png": "[encoded data removed]",
      "text/plain": [
       "<Figure size 432x288 with 1 Axes>"
      ]
     },
     "metadata": {
      "needs_background": "light"
     },
     "output_type": "display_data"
    }
   ],
   "source": [
    "memory_perf = pd.DataFrame({\"Events\": events,\"Orion-LD\": orion_memory,\n",
    "                            \"Kafka-AVRO\": kafka_avro_memory, \"Kafka-NGSI-LD\": kafka_ngsi_ld_memory})\n",
    "memory_perf.plot.bar(x=\"Events\")"
   ]
  },
  {
   "cell_type": "code",
   "execution_count": null,
   "id": "7ef143d8",
   "metadata": {},
   "outputs": [],
   "source": []
  }
 ],
 "metadata": {
  "kernelspec": {
   "display_name": "Python 3",
   "language": "python",
   "name": "python3"
  },
  "language_info": {
   "codemirror_mode": {
    "name": "ipython",
    "version": 3
   },
   "file_extension": ".py",
   "mimetype": "text/x-python",
   "name": "python",
   "nbconvert_exporter": "python",
   "pygments_lexer": "ipython3",
   "version": "3.8.10"
  }
 },
 "nbformat": 4,
 "nbformat_minor": 5
}
