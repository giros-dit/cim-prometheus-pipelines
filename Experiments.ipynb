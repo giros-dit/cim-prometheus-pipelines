{
 "cells": [
  {
   "cell_type": "markdown",
   "id": "7c5dcc8a",
   "metadata": {},
   "source": [
    "# Latency Comparison\n",
    "\n",
    "In this section we collect results from measuring the latency between ingesting data from the source and collecting the data from the broker (i.e., Kafka vs NGSI-LD Broker).\n",
    "\n",
    "First, execute the tests from Apache NiFi for each number of events to be sent to the broker every second. The results from these tests will be stored in `results/latency/<broker>/`.\n",
    "\n",
    "## Building the Datasets"
   ]
  },
  {
   "cell_type": "code",
   "execution_count": 1,
   "id": "02de5f4b",
   "metadata": {},
   "outputs": [],
   "source": [
    "import pandas as pd\n",
    "\n",
    "#Disable scientific notation in datasets\n",
    "pd.set_option('display.float_format', lambda x: '%.4f' % x)"
   ]
  },
  {
   "cell_type": "markdown",
   "id": "2272075c",
   "metadata": {},
   "source": [
    "Set list with number events per second configured for each experiment."
   ]
  },
  {
   "cell_type": "code",
   "execution_count": 2,
   "id": "8dcfc956",
   "metadata": {},
   "outputs": [],
   "source": [
    "events = [50,100,200,500,1000]"
   ]
  },
  {
   "cell_type": "markdown",
   "id": "ee11e299",
   "metadata": {},
   "source": [
    "### Scorpio"
   ]
  },
  {
   "cell_type": "code",
   "execution_count": 3,
   "id": "79ad5df5",
   "metadata": {},
   "outputs": [],
   "source": [
    "import glob\n",
    "\n",
    "scorpio = []\n",
    "for event in events:\n",
    "    path = r'./results/latency/scorpio/%s' % event # use your path\n",
    "    all_files = glob.glob(path + \"/*\")\n",
    "\n",
    "    li = []\n",
    "\n",
    "    for filename in all_files:\n",
    "        df = pd.read_csv(filename, index_col=None, header=0)\n",
    "        li.append(df)\n",
    "\n",
    "    scorpio.append(pd.concat(li, axis=0, ignore_index=True))\n",
    "    \n",
    "# Estimate the delta between the collection and notification timestamps\n",
    "scorpio_means = []\n",
    "for table in scorpio:\n",
    "    table[\"deltaTimestamp\"] = table[\"notificationTimestamp\"] - table[\"collectionTimestamp\"]\n",
    "    scorpio_means.append(table[\"deltaTimestamp\"].mean())"
   ]
  },
  {
   "cell_type": "markdown",
   "id": "1155a32c",
   "metadata": {},
   "source": [
    "### Orion-LD"
   ]
  },
  {
   "cell_type": "code",
   "execution_count": 4,
   "id": "084e1d58",
   "metadata": {},
   "outputs": [],
   "source": [
    "import glob\n",
    "\n",
    "orion = []\n",
    "for event in events:\n",
    "    path = r'./results/latency/fiware-orion/%s' % event # use your path\n",
    "    all_files = glob.glob(path + \"/*\")\n",
    "\n",
    "    li = []\n",
    "\n",
    "    for filename in all_files:\n",
    "        df = pd.read_csv(filename, index_col=None, header=0)\n",
    "        li.append(df)\n",
    "\n",
    "    orion.append(pd.concat(li, axis=0, ignore_index=True))\n",
    "    \n",
    "# Estimate the delta between the collection and notification timestamps\n",
    "orion_means = []\n",
    "for table in orion:\n",
    "    table[\"deltaTimestamp\"] = table[\"notificationTimestamp\"] - table[\"collectionTimestamp\"]\n",
    "    orion_means.append(table[\"deltaTimestamp\"].mean())"
   ]
  },
  {
   "cell_type": "markdown",
   "id": "d8f2d6a9",
   "metadata": {},
   "source": [
    "### Kafka-AVRO"
   ]
  },
  {
   "cell_type": "code",
   "execution_count": 5,
   "id": "ed0557c5",
   "metadata": {},
   "outputs": [],
   "source": [
    "import glob\n",
    "\n",
    "kafka_avro = []\n",
    "for event in events:\n",
    "    path = r'./results/latency/kafka-avro/%s' % event # use your path\n",
    "    all_files = glob.glob(path + \"/*\")\n",
    "\n",
    "    li = []\n",
    "\n",
    "    for filename in all_files:\n",
    "        df = pd.read_csv(filename, index_col=None, header=0)\n",
    "        li.append(df)\n",
    "\n",
    "    kafka_avro.append(pd.concat(li, axis=0, ignore_index=True))\n",
    "\n",
    "# Estimate the delta between the collection and notification timestamps\n",
    "kafka_avro_means = []\n",
    "for table in kafka_avro:\n",
    "    table[\"deltaTimestamp\"] = table[\"notificationTimestamp\"] - table[\"collectionTimestamp\"]\n",
    "    kafka_avro_means.append(table[\"deltaTimestamp\"].mean())"
   ]
  },
  {
   "cell_type": "markdown",
   "id": "4b5d9640",
   "metadata": {},
   "source": [
    "### Kafka-NGSI-LD"
   ]
  },
  {
   "cell_type": "code",
   "execution_count": 49,
   "id": "9e9b793b",
   "metadata": {},
   "outputs": [],
   "source": [
    "import glob\n",
    "\n",
    "kafka_ngsi_ld = []\n",
    "for event in events:\n",
    "    path = r'./results/latency/kafka-ngsi-ld/%s' % event # use your path\n",
    "    all_files = glob.glob(path + \"/*\")\n",
    "\n",
    "    li = []\n",
    "\n",
    "    for filename in all_files:\n",
    "        df = pd.read_csv(filename, index_col=None, header=0)\n",
    "        li.append(df)\n",
    "\n",
    "    kafka_ngsi_ld.append(pd.concat(li, axis=0, ignore_index=True))\n",
    "\n",
    "# Estimate the delta between the collection and notification timestamps\n",
    "kafka_ngsi_ld_means = []\n",
    "for table in kafka_ngsi_ld:\n",
    "    table[\"deltaTimestamp\"] = table[\"notificationTimestamp\"] - table[\"collectionTimestamp\"]\n",
    "    kafka_ngsi_ld_means.append(table[\"deltaTimestamp\"].mean())"
   ]
  },
  {
   "cell_type": "markdown",
   "id": "2901b3ea",
   "metadata": {},
   "source": [
    "## Visualization\n",
    "\n",
    "Once the datasets haven prepared, move on to creating some plots."
   ]
  },
  {
   "cell_type": "code",
   "execution_count": 59,
   "id": "2938eea4",
   "metadata": {},
   "outputs": [],
   "source": [
    "import matplotlib.pyplot as plt\n",
    "from matplotlib import cm\n",
    "plt.close(\"all\")\n"
   ]
  },
  {
   "cell_type": "code",
   "execution_count": 51,
   "id": "233bff85",
   "metadata": {},
   "outputs": [
    {
     "data": {
      "text/html": [
       "<div>\n",
       "<style scoped>\n",
       "    .dataframe tbody tr th:only-of-type {\n",
       "        vertical-align: middle;\n",
       "    }\n",
       "\n",
       "    .dataframe tbody tr th {\n",
       "        vertical-align: top;\n",
       "    }\n",
       "\n",
       "    .dataframe thead th {\n",
       "        text-align: right;\n",
       "    }\n",
       "</style>\n",
       "<table border=\"1\" class=\"dataframe\">\n",
       "  <thead>\n",
       "    <tr style=\"text-align: right;\">\n",
       "      <th></th>\n",
       "      <th>Events</th>\n",
       "      <th>Kafka-AVRO</th>\n",
       "    </tr>\n",
       "  </thead>\n",
       "  <tbody>\n",
       "    <tr>\n",
       "      <th>0</th>\n",
       "      <td>50</td>\n",
       "      <td>572.1868</td>\n",
       "    </tr>\n",
       "    <tr>\n",
       "      <th>1</th>\n",
       "      <td>100</td>\n",
       "      <td>586.1209</td>\n",
       "    </tr>\n",
       "    <tr>\n",
       "      <th>2</th>\n",
       "      <td>200</td>\n",
       "      <td>581.9034</td>\n",
       "    </tr>\n",
       "    <tr>\n",
       "      <th>3</th>\n",
       "      <td>500</td>\n",
       "      <td>631.6066</td>\n",
       "    </tr>\n",
       "    <tr>\n",
       "      <th>4</th>\n",
       "      <td>1000</td>\n",
       "      <td>748.6454</td>\n",
       "    </tr>\n",
       "  </tbody>\n",
       "</table>\n",
       "</div>"
      ],
      "text/plain": [
       "   Events  Kafka-AVRO\n",
       "0      50    572.1868\n",
       "1     100    586.1209\n",
       "2     200    581.9034\n",
       "3     500    631.6066\n",
       "4    1000    748.6454"
      ]
     },
     "execution_count": 51,
     "metadata": {},
     "output_type": "execute_result"
    },
    {
     "data": {
      "image/png": "[encoded data removed]",
      "text/plain": [
       "<Figure size 432x288 with 1 Axes>"
      ]
     },
     "metadata": {
      "needs_background": "light"
     },
     "output_type": "display_data"
    }
   ],
   "source": [
    "latency = pd.DataFrame({\"Events\": events,\n",
    "                       \"Kafka-AVRO\": kafka_avro_means})\n",
    "latency.plot.bar(x=\"Events\", logy=False)\n",
    "latency"
   ]
  },
  {
   "cell_type": "code",
   "execution_count": 60,
   "id": "cb0a356d",
   "metadata": {
    "scrolled": true
   },
   "outputs": [
    {
     "data": {
      "text/html": [
       "<div>\n",
       "<style scoped>\n",
       "    .dataframe tbody tr th:only-of-type {\n",
       "        vertical-align: middle;\n",
       "    }\n",
       "\n",
       "    .dataframe tbody tr th {\n",
       "        vertical-align: top;\n",
       "    }\n",
       "\n",
       "    .dataframe thead th {\n",
       "        text-align: right;\n",
       "    }\n",
       "</style>\n",
       "<table border=\"1\" class=\"dataframe\">\n",
       "  <thead>\n",
       "    <tr style=\"text-align: right;\">\n",
       "      <th></th>\n",
       "      <th>Events</th>\n",
       "      <th>Orion-LD</th>\n",
       "      <th>Scorpio</th>\n",
       "      <th>Kafka-AVRO</th>\n",
       "      <th>Kafka-NGSI-LD</th>\n",
       "    </tr>\n",
       "  </thead>\n",
       "  <tbody>\n",
       "    <tr>\n",
       "      <th>0</th>\n",
       "      <td>50</td>\n",
       "      <td>128.1170</td>\n",
       "      <td>206.5638</td>\n",
       "      <td>572.1868</td>\n",
       "      <td>537.4713</td>\n",
       "    </tr>\n",
       "    <tr>\n",
       "      <th>1</th>\n",
       "      <td>100</td>\n",
       "      <td>173.6202</td>\n",
       "      <td>281.5921</td>\n",
       "      <td>586.1209</td>\n",
       "      <td>540.7738</td>\n",
       "    </tr>\n",
       "    <tr>\n",
       "      <th>2</th>\n",
       "      <td>200</td>\n",
       "      <td>295.0969</td>\n",
       "      <td>13485.0493</td>\n",
       "      <td>581.9034</td>\n",
       "      <td>541.9778</td>\n",
       "    </tr>\n",
       "    <tr>\n",
       "      <th>3</th>\n",
       "      <td>500</td>\n",
       "      <td>31410.0055</td>\n",
       "      <td>54216.9112</td>\n",
       "      <td>631.6066</td>\n",
       "      <td>578.0237</td>\n",
       "    </tr>\n",
       "    <tr>\n",
       "      <th>4</th>\n",
       "      <td>1000</td>\n",
       "      <td>45293.2354</td>\n",
       "      <td>34524.3336</td>\n",
       "      <td>748.6454</td>\n",
       "      <td>639.1002</td>\n",
       "    </tr>\n",
       "  </tbody>\n",
       "</table>\n",
       "</div>"
      ],
      "text/plain": [
       "   Events   Orion-LD    Scorpio  Kafka-AVRO  Kafka-NGSI-LD\n",
       "0      50   128.1170   206.5638    572.1868       537.4713\n",
       "1     100   173.6202   281.5921    586.1209       540.7738\n",
       "2     200   295.0969 13485.0493    581.9034       541.9778\n",
       "3     500 31410.0055 54216.9112    631.6066       578.0237\n",
       "4    1000 45293.2354 34524.3336    748.6454       639.1002"
      ]
     },
     "execution_count": 60,
     "metadata": {},
     "output_type": "execute_result"
    },
    {
     "data": {
      "image/png": "[encoded data removed]",
      "text/plain": [
       "<Figure size 432x288 with 1 Axes>"
      ]
     },
     "metadata": {
      "needs_background": "light"
     },
     "output_type": "display_data"
    }
   ],
   "source": [
    "latency = pd.DataFrame({\"Events\": events,\"Orion-LD\": orion_means,\n",
    "                       \"Scorpio\": scorpio_means, \n",
    "                       \"Kafka-AVRO\": kafka_avro_means,\n",
    "                       \"Kafka-NGSI-LD\": kafka_ngsi_ld_means})\n",
    "#colors = ['tab:blue','tab:orange', \"tab:green\", \"tab:red\"]\n",
    "colors=cm.get_cmap('viridis', 4).colors\n",
    "latency_plot = latency.plot.bar(x=\"Events\", logy=True, color=colors)\n",
    "latency_plot.set_xlabel(\"Number of samples per second\")\n",
    "latency_plot.set_ylabel(\"Latency (ms)\")\n",
    "latency"
   ]
  },
  {
   "cell_type": "code",
   "execution_count": 63,
   "id": "a2355c24",
   "metadata": {},
   "outputs": [
    {
     "data": {
      "text/plain": [
       "Text(0, 0.5, 'Latency (ms)')"
      ]
     },
     "execution_count": 63,
     "metadata": {},
     "output_type": "execute_result"
    },
    {
     "data": {
      "image/png": "[encoded data removed]",
      "text/plain": [
       "<Figure size 432x288 with 1 Axes>"
      ]
     },
     "metadata": {
      "needs_background": "light"
     },
     "output_type": "display_data"
    }
   ],
   "source": [
    "latency_kafka = pd.DataFrame({\"Events\": events,\n",
    "                              \"Kafka-NGSI-LD\": kafka_ngsi_ld_means, \n",
    "                              \"Kafka-AVRO\": kafka_avro_means })\n",
    "#colors = ['tab:red','tab:green']\n",
    "colors=cm.get_cmap('viridis', 2).colors\n",
    "latency_kafka_plot = latency_kafka.plot.bar(x=\"Events\", ylim=(500,800), color=colors)\n",
    "latency_kafka_plot.set_xlabel(\"Number of samples per second\")\n",
    "latency_kafka_plot.set_ylabel(\"Latency (ms)\")"
   ]
  },
  {
   "cell_type": "markdown",
   "id": "97425d2c",
   "metadata": {},
   "source": [
    "# Container Performance\n",
    "\n",
    "The following snippet produces docker stats and appends the results to a CSV file. For these validation tests, we collect the memory and CPU percentage usage:\n",
    "\n",
    "```bash\n",
    "while true; do docker stats <my_container> --no-stream --format \"{{ .Name }},{{ .CPUPerc }},{{ .MemPerc }}\" | tee --append results/cpu_memory/<my_container>/<my_container>_<events>.csv; sleep 1; done\n",
    "```\n",
    "\n",
    "The following example collects CPU and memory percentage usage stats for the services dependent on the Orion-LD broker when 50 events are sent every second.\n",
    "```bash\n",
    "while true; do docker stats db-mongo fiware-orion nifi --no-stream --format \"{{ .Name }},{{ .CPUPerc }},{{ .MemPerc }}\" | tee --append results/cpu_memory/orion/orion_50.csv; sleep 1; done\n",
    "```\n",
    "\n",
    "We collect results for each NGSI-LD Broker and for Kafka while running the latency tests. Make sure to specify the `events` value used for the latency tests.\n",
    "\n",
    "You can also use the `collect_docker_stats.sh` utility. The following example collects CPU and memory percentage usage stats for kafka when 60 events are sent every second:\n",
    "\n",
    "```bash\n",
    "./collect_docker_stats.sh kafka 60\n",
    "```"
   ]
  },
  {
   "cell_type": "markdown",
   "id": "06d885b0",
   "metadata": {},
   "source": [
    "## Building the Datasets\n",
    "\n",
    "Process the generated CSV files using panda. First remove the percentage character from the memory and CPU columns. Then generate two charts - memory and CPU - that compare Kafka container against each NGSI-LD Broker container."
   ]
  },
  {
   "cell_type": "markdown",
   "id": "64cc3c1e",
   "metadata": {},
   "source": [
    "### Scorpio"
   ]
  },
  {
   "cell_type": "code",
   "execution_count": 11,
   "id": "b821cfed",
   "metadata": {},
   "outputs": [],
   "source": [
    "scorpio_services = []\n",
    "for event in events:\n",
    "    dataset_path = r'./results/cpu_memory/scorpio/scorpio_%s.csv' % event # use your path    \n",
    "    table = pd.read_csv(dataset_path, index_col=0, \n",
    "                        header=0, names=[\"service\", \"cpu\", \"memory\"])\n",
    "    table['cpu'] = table['cpu'].str.rstrip('%').astype('float') / 100.0\n",
    "    table['memory'] = table['memory'].str.rstrip('%').astype('float') / 100.0\n",
    "    scorpio_services.append(table)"
   ]
  },
  {
   "cell_type": "code",
   "execution_count": 12,
   "id": "727b99b5",
   "metadata": {},
   "outputs": [],
   "source": [
    "scorpio_cpu = {}\n",
    "for table in scorpio_services:\n",
    "    cpu_means = table.groupby(\"service\").mean()[\"cpu\"]\n",
    "    for index,value in cpu_means.iteritems():\n",
    "        if index == \"nifi\":\n",
    "            continue\n",
    "        if index not in scorpio_cpu:\n",
    "            scorpio_cpu[index] = []\n",
    "        scorpio_cpu[index].append(value)"
   ]
  },
  {
   "cell_type": "code",
   "execution_count": 64,
   "id": "1c31542a",
   "metadata": {
    "scrolled": true
   },
   "outputs": [
    {
     "data": {
      "text/html": [
       "<div>\n",
       "<style scoped>\n",
       "    .dataframe tbody tr th:only-of-type {\n",
       "        vertical-align: middle;\n",
       "    }\n",
       "\n",
       "    .dataframe tbody tr th {\n",
       "        vertical-align: top;\n",
       "    }\n",
       "\n",
       "    .dataframe thead th {\n",
       "        text-align: right;\n",
       "    }\n",
       "</style>\n",
       "<table border=\"1\" class=\"dataframe\">\n",
       "  <thead>\n",
       "    <tr style=\"text-align: right;\">\n",
       "      <th></th>\n",
       "      <th>kafka</th>\n",
       "      <th>postgres</th>\n",
       "      <th>scorpio</th>\n",
       "    </tr>\n",
       "  </thead>\n",
       "  <tbody>\n",
       "    <tr>\n",
       "      <th>50</th>\n",
       "      <td>0.1946</td>\n",
       "      <td>0.1400</td>\n",
       "      <td>0.7166</td>\n",
       "    </tr>\n",
       "    <tr>\n",
       "      <th>100</th>\n",
       "      <td>0.2986</td>\n",
       "      <td>0.2772</td>\n",
       "      <td>1.1851</td>\n",
       "    </tr>\n",
       "    <tr>\n",
       "      <th>200</th>\n",
       "      <td>0.4189</td>\n",
       "      <td>0.4618</td>\n",
       "      <td>2.1870</td>\n",
       "    </tr>\n",
       "    <tr>\n",
       "      <th>500</th>\n",
       "      <td>0.4078</td>\n",
       "      <td>0.2780</td>\n",
       "      <td>1.9761</td>\n",
       "    </tr>\n",
       "    <tr>\n",
       "      <th>1000</th>\n",
       "      <td>0.2665</td>\n",
       "      <td>0.2347</td>\n",
       "      <td>1.2327</td>\n",
       "    </tr>\n",
       "  </tbody>\n",
       "</table>\n",
       "</div>"
      ],
      "text/plain": [
       "      kafka  postgres  scorpio\n",
       "50   0.1946    0.1400   0.7166\n",
       "100  0.2986    0.2772   1.1851\n",
       "200  0.4189    0.4618   2.1870\n",
       "500  0.4078    0.2780   1.9761\n",
       "1000 0.2665    0.2347   1.2327"
      ]
     },
     "execution_count": 64,
     "metadata": {},
     "output_type": "execute_result"
    },
    {
     "data": {
      "image/png": "[encoded data removed]",
      "text/plain": [
       "<Figure size 432x288 with 1 Axes>"
      ]
     },
     "metadata": {
      "needs_background": "light"
     },
     "output_type": "display_data"
    }
   ],
   "source": [
    "scorpio_cpu_df = pd.DataFrame(scorpio_cpu, index=events)\n",
    "#colors = ['tab:olive','tab:cyan', \"tab:orange\"]\n",
    "colors=cm.get_cmap('viridis', 3).colors\n",
    "scorpio_cpu_df_plot = scorpio_cpu_df.plot.barh(stacked=True, color=colors,\n",
    "                                                          title=\"(A.1) Scorpio services CPU performance\")\n",
    "scorpio_cpu_df_plot.set_xlabel(\"CPU consumption (decimal)\")\n",
    "scorpio_cpu_df_plot.set_ylabel(\"Number of samples per second\")\n",
    "\n",
    "scorpio_cpu_df"
   ]
  },
  {
   "cell_type": "code",
   "execution_count": 14,
   "id": "10fc8367",
   "metadata": {},
   "outputs": [],
   "source": [
    "scorpio_cpu_total = []\n",
    "for i in range(0,len(events)):\n",
    "    scorpio_cpu_total.append(scorpio_cpu['kafka'][i]+scorpio_cpu['postgres'][i]+scorpio_cpu['scorpio'][i])"
   ]
  },
  {
   "cell_type": "code",
   "execution_count": 15,
   "id": "9aa29979",
   "metadata": {},
   "outputs": [],
   "source": [
    "scorpio_mem = {}\n",
    "for table in scorpio_services:\n",
    "    mem_means = table.groupby(\"service\").mean()[\"memory\"]\n",
    "    for index,value in mem_means.iteritems():\n",
    "        if index == \"nifi\":\n",
    "            continue\n",
    "        if index not in scorpio_mem:\n",
    "            scorpio_mem[index] = []\n",
    "        scorpio_mem[index].append(value)"
   ]
  },
  {
   "cell_type": "code",
   "execution_count": 65,
   "id": "6a36bf1a",
   "metadata": {
    "scrolled": true
   },
   "outputs": [
    {
     "data": {
      "text/html": [
       "<div>\n",
       "<style scoped>\n",
       "    .dataframe tbody tr th:only-of-type {\n",
       "        vertical-align: middle;\n",
       "    }\n",
       "\n",
       "    .dataframe tbody tr th {\n",
       "        vertical-align: top;\n",
       "    }\n",
       "\n",
       "    .dataframe thead th {\n",
       "        text-align: right;\n",
       "    }\n",
       "</style>\n",
       "<table border=\"1\" class=\"dataframe\">\n",
       "  <thead>\n",
       "    <tr style=\"text-align: right;\">\n",
       "      <th></th>\n",
       "      <th>kafka</th>\n",
       "      <th>postgres</th>\n",
       "      <th>scorpio</th>\n",
       "    </tr>\n",
       "  </thead>\n",
       "  <tbody>\n",
       "    <tr>\n",
       "      <th>50</th>\n",
       "      <td>0.0381</td>\n",
       "      <td>0.0114</td>\n",
       "      <td>0.2088</td>\n",
       "    </tr>\n",
       "    <tr>\n",
       "      <th>100</th>\n",
       "      <td>0.0665</td>\n",
       "      <td>0.0165</td>\n",
       "      <td>0.2100</td>\n",
       "    </tr>\n",
       "    <tr>\n",
       "      <th>200</th>\n",
       "      <td>0.0751</td>\n",
       "      <td>0.0210</td>\n",
       "      <td>0.2105</td>\n",
       "    </tr>\n",
       "    <tr>\n",
       "      <th>500</th>\n",
       "      <td>0.0370</td>\n",
       "      <td>0.0119</td>\n",
       "      <td>0.2171</td>\n",
       "    </tr>\n",
       "    <tr>\n",
       "      <th>1000</th>\n",
       "      <td>0.0521</td>\n",
       "      <td>0.0155</td>\n",
       "      <td>0.2320</td>\n",
       "    </tr>\n",
       "  </tbody>\n",
       "</table>\n",
       "</div>"
      ],
      "text/plain": [
       "      kafka  postgres  scorpio\n",
       "50   0.0381    0.0114   0.2088\n",
       "100  0.0665    0.0165   0.2100\n",
       "200  0.0751    0.0210   0.2105\n",
       "500  0.0370    0.0119   0.2171\n",
       "1000 0.0521    0.0155   0.2320"
      ]
     },
     "execution_count": 65,
     "metadata": {},
     "output_type": "execute_result"
    },
    {
     "data": {
      "image/png": "[encoded data removed]",
      "text/plain": [
       "<Figure size 432x288 with 1 Axes>"
      ]
     },
     "metadata": {
      "needs_background": "light"
     },
     "output_type": "display_data"
    }
   ],
   "source": [
    "scorpio_mem_df = pd.DataFrame(scorpio_mem, index=events)\n",
    "#colors = ['tab:olive','tab:cyan', \"tab:orange\"]\n",
    "colors=cm.get_cmap('viridis', 3).colors\n",
    "scorpio_mem_df_plot = scorpio_mem_df.plot.barh(stacked=True, color=colors,\n",
    "                                                          title=\"(A.2) Scorpio services RAM performance\")\n",
    "scorpio_mem_df_plot.set_xlabel(\"RAM memory consumption (decimal)\")\n",
    "scorpio_mem_df_plot.set_ylabel(\"Number of samples per second\")\n",
    "\n",
    "scorpio_mem_df"
   ]
  },
  {
   "cell_type": "code",
   "execution_count": 17,
   "id": "d838d0b7",
   "metadata": {},
   "outputs": [],
   "source": [
    "scorpio_mem_total = []\n",
    "for i in range(0,len(events)):\n",
    "    scorpio_mem_total.append(scorpio_mem['kafka'][i]+scorpio_mem['postgres'][i]+scorpio_mem['scorpio'][i])"
   ]
  },
  {
   "cell_type": "markdown",
   "id": "9934c46e",
   "metadata": {},
   "source": [
    "### Orion-LD"
   ]
  },
  {
   "cell_type": "code",
   "execution_count": 18,
   "id": "d7d31015",
   "metadata": {},
   "outputs": [],
   "source": [
    "orion_services = []\n",
    "for event in events:\n",
    "    dataset_path = r'./results/cpu_memory/orion/orion_%s.csv' % event # use your path    \n",
    "    table = pd.read_csv(dataset_path, index_col=0, \n",
    "                        header=0, names=[\"service\", \"cpu\", \"memory\"])\n",
    "    table['cpu'] = table['cpu'].str.rstrip('%').astype('float') / 100.0\n",
    "    table['memory'] = table['memory'].str.rstrip('%').astype('float') / 100.0\n",
    "    orion_services.append(table)"
   ]
  },
  {
   "cell_type": "code",
   "execution_count": 19,
   "id": "130457ee",
   "metadata": {},
   "outputs": [],
   "source": [
    "orion_cpu = {}\n",
    "for table in orion_services:\n",
    "    cpu_means = table.groupby(\"service\").mean()[\"cpu\"]\n",
    "    for index,value in cpu_means.iteritems():\n",
    "        if index == \"nifi\":\n",
    "            continue\n",
    "        if index not in orion_cpu:\n",
    "            orion_cpu[index] = []\n",
    "        orion_cpu[index].append(value)"
   ]
  },
  {
   "cell_type": "code",
   "execution_count": 68,
   "id": "2886f1f1",
   "metadata": {},
   "outputs": [
    {
     "data": {
      "text/html": [
       "<div>\n",
       "<style scoped>\n",
       "    .dataframe tbody tr th:only-of-type {\n",
       "        vertical-align: middle;\n",
       "    }\n",
       "\n",
       "    .dataframe tbody tr th {\n",
       "        vertical-align: top;\n",
       "    }\n",
       "\n",
       "    .dataframe thead th {\n",
       "        text-align: right;\n",
       "    }\n",
       "</style>\n",
       "<table border=\"1\" class=\"dataframe\">\n",
       "  <thead>\n",
       "    <tr style=\"text-align: right;\">\n",
       "      <th></th>\n",
       "      <th>mongo-db</th>\n",
       "      <th>orion-ld</th>\n",
       "    </tr>\n",
       "  </thead>\n",
       "  <tbody>\n",
       "    <tr>\n",
       "      <th>50</th>\n",
       "      <td>0.0434</td>\n",
       "      <td>0.1539</td>\n",
       "    </tr>\n",
       "    <tr>\n",
       "      <th>100</th>\n",
       "      <td>0.0584</td>\n",
       "      <td>0.2203</td>\n",
       "    </tr>\n",
       "    <tr>\n",
       "      <th>200</th>\n",
       "      <td>0.1382</td>\n",
       "      <td>0.5369</td>\n",
       "    </tr>\n",
       "    <tr>\n",
       "      <th>500</th>\n",
       "      <td>0.1567</td>\n",
       "      <td>0.7279</td>\n",
       "    </tr>\n",
       "    <tr>\n",
       "      <th>1000</th>\n",
       "      <td>0.0940</td>\n",
       "      <td>0.3347</td>\n",
       "    </tr>\n",
       "  </tbody>\n",
       "</table>\n",
       "</div>"
      ],
      "text/plain": [
       "      mongo-db  orion-ld\n",
       "50      0.0434    0.1539\n",
       "100     0.0584    0.2203\n",
       "200     0.1382    0.5369\n",
       "500     0.1567    0.7279\n",
       "1000    0.0940    0.3347"
      ]
     },
     "execution_count": 68,
     "metadata": {},
     "output_type": "execute_result"
    },
    {
     "data": {
      "image/png": "[encoded data removed]",
      "text/plain": [
       "<Figure size 432x288 with 1 Axes>"
      ]
     },
     "metadata": {
      "needs_background": "light"
     },
     "output_type": "display_data"
    }
   ],
   "source": [
    "#colors = ['lightcoral','tab:blue']\n",
    "colors=cm.get_cmap('plasma', 2).colors\n",
    "orion_cpu_df = pd.DataFrame(orion_cpu, index=events)\n",
    "orion_cpu_df_plot = orion_cpu_df.plot.barh(stacked=True, color=colors,\n",
    "                                                          title=\"(B.1) Orion-LD services CPU performance\")\n",
    "orion_cpu_df_plot.set_xlabel(\"CPU consumption (decimal)\")\n",
    "orion_cpu_df_plot.set_ylabel(\"Number of samples per second\")\n",
    "\n",
    "orion_cpu_df"
   ]
  },
  {
   "cell_type": "code",
   "execution_count": 21,
   "id": "f8c76e9a",
   "metadata": {},
   "outputs": [],
   "source": [
    "orion_cpu_total = []\n",
    "for i in range(0,len(events)):\n",
    "    orion_cpu_total.append(orion_cpu['mongo-db'][i]+orion_cpu['orion-ld'][i])"
   ]
  },
  {
   "cell_type": "code",
   "execution_count": 22,
   "id": "75cd323d",
   "metadata": {},
   "outputs": [],
   "source": [
    "orion_mem = {}\n",
    "for table in orion_services:\n",
    "    mem_means = table.groupby(\"service\").mean()[\"memory\"]\n",
    "    for index,value in mem_means.iteritems():\n",
    "        if index == \"nifi\":\n",
    "            continue\n",
    "        if index not in orion_mem:\n",
    "            orion_mem[index] = []\n",
    "        orion_mem[index].append(value)"
   ]
  },
  {
   "cell_type": "code",
   "execution_count": 69,
   "id": "cd708b5a",
   "metadata": {
    "scrolled": true
   },
   "outputs": [
    {
     "data": {
      "text/html": [
       "<div>\n",
       "<style scoped>\n",
       "    .dataframe tbody tr th:only-of-type {\n",
       "        vertical-align: middle;\n",
       "    }\n",
       "\n",
       "    .dataframe tbody tr th {\n",
       "        vertical-align: top;\n",
       "    }\n",
       "\n",
       "    .dataframe thead th {\n",
       "        text-align: right;\n",
       "    }\n",
       "</style>\n",
       "<table border=\"1\" class=\"dataframe\">\n",
       "  <thead>\n",
       "    <tr style=\"text-align: right;\">\n",
       "      <th></th>\n",
       "      <th>mongo-db</th>\n",
       "      <th>orion-ld</th>\n",
       "    </tr>\n",
       "  </thead>\n",
       "  <tbody>\n",
       "    <tr>\n",
       "      <th>50</th>\n",
       "      <td>0.0030</td>\n",
       "      <td>0.0016</td>\n",
       "    </tr>\n",
       "    <tr>\n",
       "      <th>100</th>\n",
       "      <td>0.0031</td>\n",
       "      <td>0.0009</td>\n",
       "    </tr>\n",
       "    <tr>\n",
       "      <th>200</th>\n",
       "      <td>0.0030</td>\n",
       "      <td>0.0012</td>\n",
       "    </tr>\n",
       "    <tr>\n",
       "      <th>500</th>\n",
       "      <td>0.0030</td>\n",
       "      <td>0.0014</td>\n",
       "    </tr>\n",
       "    <tr>\n",
       "      <th>1000</th>\n",
       "      <td>0.0027</td>\n",
       "      <td>0.0008</td>\n",
       "    </tr>\n",
       "  </tbody>\n",
       "</table>\n",
       "</div>"
      ],
      "text/plain": [
       "      mongo-db  orion-ld\n",
       "50      0.0030    0.0016\n",
       "100     0.0031    0.0009\n",
       "200     0.0030    0.0012\n",
       "500     0.0030    0.0014\n",
       "1000    0.0027    0.0008"
      ]
     },
     "execution_count": 69,
     "metadata": {},
     "output_type": "execute_result"
    },
    {
     "data": {
      "image/png": "[encoded data removed]",
      "text/plain": [
       "<Figure size 432x288 with 1 Axes>"
      ]
     },
     "metadata": {
      "needs_background": "light"
     },
     "output_type": "display_data"
    }
   ],
   "source": [
    "#colors = ['lightcoral','tab:blue']\n",
    "colors=cm.get_cmap('plasma', 2).colors\n",
    "orion_mem_df = pd.DataFrame(orion_mem, index=events)\n",
    "orion_mem_df_plot = orion_mem_df.plot.barh(stacked=True, color=colors,\n",
    "                                                          title=\"(B.2) Orion-LD services RAM performance\")\n",
    "orion_mem_df_plot.set_xlabel(\"RAM memory consumption (decimal)\")\n",
    "orion_mem_df_plot.set_ylabel(\"Number of samples per second\")\n",
    "\n",
    "orion_mem_df"
   ]
  },
  {
   "cell_type": "code",
   "execution_count": 24,
   "id": "dbafdd33",
   "metadata": {},
   "outputs": [],
   "source": [
    "orion_mem_total = []\n",
    "for i in range(0,len(orion_mem[index])):\n",
    "    orion_mem_total.append(orion_mem['mongo-db'][i]+orion_mem['orion-ld'][i])"
   ]
  },
  {
   "cell_type": "markdown",
   "id": "07b2c4b8",
   "metadata": {},
   "source": [
    "### Kafka-AVRO"
   ]
  },
  {
   "cell_type": "code",
   "execution_count": 25,
   "id": "bfc214cf",
   "metadata": {},
   "outputs": [],
   "source": [
    "kafka_avro_services = []\n",
    "for event in events:\n",
    "    dataset_path = r'./results/cpu_memory/kafka-avro/kafka-avro_%s.csv' % event # use your path    \n",
    "    table = pd.read_csv(dataset_path, index_col=0, \n",
    "                        header=0, names=[\"service\", \"cpu\", \"memory\"])\n",
    "    table['cpu'] = table['cpu'].str.rstrip('%').astype('float') / 100.0\n",
    "    table['memory'] = table['memory'].str.rstrip('%').astype('float') / 100.0\n",
    "    kafka_avro_services.append(table)"
   ]
  },
  {
   "cell_type": "code",
   "execution_count": 26,
   "id": "6c18ea53",
   "metadata": {},
   "outputs": [],
   "source": [
    "kafka_avro_cpu = {}\n",
    "for table in kafka_avro_services:\n",
    "    cpu_means = table.groupby(\"service\").mean()[\"cpu\"]\n",
    "    for index,value in cpu_means.iteritems():\n",
    "        if index == \"nifi\":\n",
    "            continue\n",
    "        if index not in kafka_avro_cpu:\n",
    "            kafka_avro_cpu[index] = []\n",
    "        kafka_avro_cpu[index].append(value)"
   ]
  },
  {
   "cell_type": "code",
   "execution_count": 27,
   "id": "da7584da",
   "metadata": {},
   "outputs": [
    {
     "data": {
      "text/html": [
       "<div>\n",
       "<style scoped>\n",
       "    .dataframe tbody tr th:only-of-type {\n",
       "        vertical-align: middle;\n",
       "    }\n",
       "\n",
       "    .dataframe tbody tr th {\n",
       "        vertical-align: top;\n",
       "    }\n",
       "\n",
       "    .dataframe thead th {\n",
       "        text-align: right;\n",
       "    }\n",
       "</style>\n",
       "<table border=\"1\" class=\"dataframe\">\n",
       "  <thead>\n",
       "    <tr style=\"text-align: right;\">\n",
       "      <th></th>\n",
       "      <th>kafka</th>\n",
       "    </tr>\n",
       "  </thead>\n",
       "  <tbody>\n",
       "    <tr>\n",
       "      <th>50</th>\n",
       "      <td>0.0701</td>\n",
       "    </tr>\n",
       "    <tr>\n",
       "      <th>100</th>\n",
       "      <td>0.1164</td>\n",
       "    </tr>\n",
       "    <tr>\n",
       "      <th>200</th>\n",
       "      <td>0.1325</td>\n",
       "    </tr>\n",
       "    <tr>\n",
       "      <th>500</th>\n",
       "      <td>0.1104</td>\n",
       "    </tr>\n",
       "    <tr>\n",
       "      <th>1000</th>\n",
       "      <td>0.1366</td>\n",
       "    </tr>\n",
       "  </tbody>\n",
       "</table>\n",
       "</div>"
      ],
      "text/plain": [
       "      kafka\n",
       "50   0.0701\n",
       "100  0.1164\n",
       "200  0.1325\n",
       "500  0.1104\n",
       "1000 0.1366"
      ]
     },
     "execution_count": 27,
     "metadata": {},
     "output_type": "execute_result"
    },
    {
     "data": {
      "image/png": "[encoded data removed]",
      "text/plain": [
       "<Figure size 432x288 with 1 Axes>"
      ]
     },
     "metadata": {
      "needs_background": "light"
     },
     "output_type": "display_data"
    }
   ],
   "source": [
    "colors = ['tab:green']\n",
    "kafka_avro_cpu_df = pd.DataFrame(kafka_avro_cpu, index=events)\n",
    "kafka_avro_cpu_df_plot = kafka_avro_cpu_df.plot.barh(stacked=True, color=colors,\n",
    "                                                          title=\"(C.1) Kafka-AVRO services CPU performance\")\n",
    "kafka_avro_cpu_df_plot.set_xlabel(\"CPU consumption (decimal)\")\n",
    "kafka_avro_cpu_df_plot.set_ylabel(\"Number of samples per second\")\n",
    "\n",
    "kafka_avro_cpu_df"
   ]
  },
  {
   "cell_type": "code",
   "execution_count": 28,
   "id": "993634ed",
   "metadata": {},
   "outputs": [],
   "source": [
    "kafka_avro_cpu_total = []\n",
    "for i in range(0,len(events)):\n",
    "    kafka_avro_cpu_total.append(kafka_avro_cpu['kafka'][i])"
   ]
  },
  {
   "cell_type": "code",
   "execution_count": 29,
   "id": "d95c30aa",
   "metadata": {},
   "outputs": [],
   "source": [
    "kafka_avro_mem = {}\n",
    "for table in kafka_avro_services:\n",
    "    mem_means = table.groupby(\"service\").mean()[\"memory\"]\n",
    "    for index,value in mem_means.iteritems():\n",
    "        if index == \"nifi\":\n",
    "            continue\n",
    "        if index not in kafka_avro_mem:\n",
    "            kafka_avro_mem[index] = []\n",
    "        kafka_avro_mem[index].append(value)"
   ]
  },
  {
   "cell_type": "code",
   "execution_count": 30,
   "id": "21366b5a",
   "metadata": {
    "scrolled": true
   },
   "outputs": [
    {
     "data": {
      "text/html": [
       "<div>\n",
       "<style scoped>\n",
       "    .dataframe tbody tr th:only-of-type {\n",
       "        vertical-align: middle;\n",
       "    }\n",
       "\n",
       "    .dataframe tbody tr th {\n",
       "        vertical-align: top;\n",
       "    }\n",
       "\n",
       "    .dataframe thead th {\n",
       "        text-align: right;\n",
       "    }\n",
       "</style>\n",
       "<table border=\"1\" class=\"dataframe\">\n",
       "  <thead>\n",
       "    <tr style=\"text-align: right;\">\n",
       "      <th></th>\n",
       "      <th>kafka</th>\n",
       "    </tr>\n",
       "  </thead>\n",
       "  <tbody>\n",
       "    <tr>\n",
       "      <th>50</th>\n",
       "      <td>0.0234</td>\n",
       "    </tr>\n",
       "    <tr>\n",
       "      <th>100</th>\n",
       "      <td>0.0265</td>\n",
       "    </tr>\n",
       "    <tr>\n",
       "      <th>200</th>\n",
       "      <td>0.0371</td>\n",
       "    </tr>\n",
       "    <tr>\n",
       "      <th>500</th>\n",
       "      <td>0.0517</td>\n",
       "    </tr>\n",
       "    <tr>\n",
       "      <th>1000</th>\n",
       "      <td>0.0584</td>\n",
       "    </tr>\n",
       "  </tbody>\n",
       "</table>\n",
       "</div>"
      ],
      "text/plain": [
       "      kafka\n",
       "50   0.0234\n",
       "100  0.0265\n",
       "200  0.0371\n",
       "500  0.0517\n",
       "1000 0.0584"
      ]
     },
     "execution_count": 30,
     "metadata": {},
     "output_type": "execute_result"
    },
    {
     "data": {
      "image/png": "[encoded data removed]",
      "text/plain": [
       "<Figure size 432x288 with 1 Axes>"
      ]
     },
     "metadata": {
      "needs_background": "light"
     },
     "output_type": "display_data"
    }
   ],
   "source": [
    "colors = ['tab:green']\n",
    "kafka_avro_mem_df = pd.DataFrame(kafka_avro_mem, index=events)\n",
    "kafka_avro_mem_df_plot = kafka_avro_mem_df.plot.barh(stacked=True, color=colors,\n",
    "                                                          title=\"(C.2) Kafka-AVRO services RAM performance\")\n",
    "kafka_avro_mem_df_plot.set_xlabel(\"RAM memory consumption (decimal)\")\n",
    "kafka_avro_mem_df_plot.set_ylabel(\"Number of samples per second\")\n",
    "\n",
    "kafka_avro_mem_df"
   ]
  },
  {
   "cell_type": "code",
   "execution_count": 31,
   "id": "9a229bf1",
   "metadata": {},
   "outputs": [],
   "source": [
    "kafka_avro_mem_total = []\n",
    "for i in range(0,len(events)):\n",
    "    kafka_avro_mem_total.append(kafka_avro_mem['kafka'][i])"
   ]
  },
  {
   "cell_type": "markdown",
   "id": "49caec17",
   "metadata": {},
   "source": [
    "### Kafka-NGSI-LD"
   ]
  },
  {
   "cell_type": "code",
   "execution_count": 32,
   "id": "f8564d6e",
   "metadata": {},
   "outputs": [],
   "source": [
    "kafka_ngsi_ld_services = []\n",
    "for event in events:\n",
    "    dataset_path = r'./results/cpu_memory/kafka-ngsi-ld/kafka-ngsi-ld_%s.csv' % event # use your path    \n",
    "    table = pd.read_csv(dataset_path, index_col=0, \n",
    "                        header=0, names=[\"service\", \"cpu\", \"memory\"])\n",
    "    table['cpu'] = table['cpu'].str.rstrip('%').astype('float') / 100.0\n",
    "    table['memory'] = table['memory'].str.rstrip('%').astype('float') / 100.0\n",
    "    kafka_ngsi_ld_services.append(table)"
   ]
  },
  {
   "cell_type": "code",
   "execution_count": 33,
   "id": "fcf1ea27",
   "metadata": {},
   "outputs": [],
   "source": [
    "kafka_ngsi_ld_cpu = {}\n",
    "for table in kafka_ngsi_ld_services:\n",
    "    cpu_means = table.groupby(\"service\").mean()[\"cpu\"]\n",
    "    for index,value in cpu_means.iteritems():\n",
    "        if index == \"nifi\":\n",
    "            continue\n",
    "        if index not in kafka_ngsi_ld_cpu:\n",
    "            kafka_ngsi_ld_cpu[index] = []\n",
    "        kafka_ngsi_ld_cpu[index].append(value)"
   ]
  },
  {
   "cell_type": "code",
   "execution_count": 34,
   "id": "f7bc858f",
   "metadata": {},
   "outputs": [
    {
     "data": {
      "text/html": [
       "<div>\n",
       "<style scoped>\n",
       "    .dataframe tbody tr th:only-of-type {\n",
       "        vertical-align: middle;\n",
       "    }\n",
       "\n",
       "    .dataframe tbody tr th {\n",
       "        vertical-align: top;\n",
       "    }\n",
       "\n",
       "    .dataframe thead th {\n",
       "        text-align: right;\n",
       "    }\n",
       "</style>\n",
       "<table border=\"1\" class=\"dataframe\">\n",
       "  <thead>\n",
       "    <tr style=\"text-align: right;\">\n",
       "      <th></th>\n",
       "      <th>kafka</th>\n",
       "    </tr>\n",
       "  </thead>\n",
       "  <tbody>\n",
       "    <tr>\n",
       "      <th>50</th>\n",
       "      <td>0.0815</td>\n",
       "    </tr>\n",
       "    <tr>\n",
       "      <th>100</th>\n",
       "      <td>0.0541</td>\n",
       "    </tr>\n",
       "    <tr>\n",
       "      <th>200</th>\n",
       "      <td>0.0639</td>\n",
       "    </tr>\n",
       "    <tr>\n",
       "      <th>500</th>\n",
       "      <td>0.1078</td>\n",
       "    </tr>\n",
       "    <tr>\n",
       "      <th>1000</th>\n",
       "      <td>0.0977</td>\n",
       "    </tr>\n",
       "  </tbody>\n",
       "</table>\n",
       "</div>"
      ],
      "text/plain": [
       "      kafka\n",
       "50   0.0815\n",
       "100  0.0541\n",
       "200  0.0639\n",
       "500  0.1078\n",
       "1000 0.0977"
      ]
     },
     "execution_count": 34,
     "metadata": {},
     "output_type": "execute_result"
    },
    {
     "data": {
      "image/png": "[encoded data removed]",
      "text/plain": [
       "<Figure size 432x288 with 1 Axes>"
      ]
     },
     "metadata": {
      "needs_background": "light"
     },
     "output_type": "display_data"
    }
   ],
   "source": [
    "colors = ['tab:red']\n",
    "kafka_ngsi_ld_cpu_df = pd.DataFrame(kafka_ngsi_ld_cpu, index=events)\n",
    "kafka_ngsi_ld_cpu_df_plot = kafka_ngsi_ld_cpu_df.plot.barh(stacked=True, color=colors, \n",
    "                                                           title=\"(D.1) Kafka-NGSI-LD services CPU performance\")\n",
    "kafka_ngsi_ld_cpu_df_plot.set_xlabel(\"CPU consumption (decimal)\")\n",
    "kafka_ngsi_ld_cpu_df_plot.set_ylabel(\"Number of samples per second\")\n",
    "\n",
    "kafka_ngsi_ld_cpu_df"
   ]
  },
  {
   "cell_type": "code",
   "execution_count": 35,
   "id": "9f85c545",
   "metadata": {},
   "outputs": [],
   "source": [
    "kafka_ngsi_ld_cpu_total = []\n",
    "for i in range(0,len(events)):\n",
    "    kafka_ngsi_ld_cpu_total.append(kafka_ngsi_ld_cpu['kafka'][i])"
   ]
  },
  {
   "cell_type": "code",
   "execution_count": 36,
   "id": "57f923a4",
   "metadata": {},
   "outputs": [],
   "source": [
    "kafka_ngsi_ld_mem = {}\n",
    "for table in kafka_ngsi_ld_services:\n",
    "    mem_means = table.groupby(\"service\").mean()[\"memory\"]\n",
    "    for index,value in mem_means.iteritems():\n",
    "        if index == \"nifi\":\n",
    "            continue\n",
    "        if index not in kafka_ngsi_ld_mem:\n",
    "            kafka_ngsi_ld_mem[index] = []\n",
    "        kafka_ngsi_ld_mem[index].append(value)"
   ]
  },
  {
   "cell_type": "code",
   "execution_count": 37,
   "id": "c640bf2c",
   "metadata": {
    "scrolled": true
   },
   "outputs": [
    {
     "data": {
      "text/html": [
       "<div>\n",
       "<style scoped>\n",
       "    .dataframe tbody tr th:only-of-type {\n",
       "        vertical-align: middle;\n",
       "    }\n",
       "\n",
       "    .dataframe tbody tr th {\n",
       "        vertical-align: top;\n",
       "    }\n",
       "\n",
       "    .dataframe thead th {\n",
       "        text-align: right;\n",
       "    }\n",
       "</style>\n",
       "<table border=\"1\" class=\"dataframe\">\n",
       "  <thead>\n",
       "    <tr style=\"text-align: right;\">\n",
       "      <th></th>\n",
       "      <th>kafka</th>\n",
       "    </tr>\n",
       "  </thead>\n",
       "  <tbody>\n",
       "    <tr>\n",
       "      <th>50</th>\n",
       "      <td>0.0245</td>\n",
       "    </tr>\n",
       "    <tr>\n",
       "      <th>100</th>\n",
       "      <td>0.0657</td>\n",
       "    </tr>\n",
       "    <tr>\n",
       "      <th>200</th>\n",
       "      <td>0.0636</td>\n",
       "    </tr>\n",
       "    <tr>\n",
       "      <th>500</th>\n",
       "      <td>0.0644</td>\n",
       "    </tr>\n",
       "    <tr>\n",
       "      <th>1000</th>\n",
       "      <td>0.0653</td>\n",
       "    </tr>\n",
       "  </tbody>\n",
       "</table>\n",
       "</div>"
      ],
      "text/plain": [
       "      kafka\n",
       "50   0.0245\n",
       "100  0.0657\n",
       "200  0.0636\n",
       "500  0.0644\n",
       "1000 0.0653"
      ]
     },
     "execution_count": 37,
     "metadata": {},
     "output_type": "execute_result"
    },
    {
     "data": {
      "image/png": "[encoded data removed]",
      "text/plain": [
       "<Figure size 432x288 with 1 Axes>"
      ]
     },
     "metadata": {
      "needs_background": "light"
     },
     "output_type": "display_data"
    }
   ],
   "source": [
    "colors = ['tab:red']\n",
    "kafka_ngsi_ld_mem_df = pd.DataFrame(kafka_ngsi_ld_mem, index=events)\n",
    "kafka_ngsi_ld_mem_df_plot = kafka_ngsi_ld_mem_df.plot.barh(stacked=True, color=colors,\n",
    "                                                          title=\"(D.2) Kafka-NGSI-LD services RAM performance\")\n",
    "kafka_ngsi_ld_mem_df_plot.set_xlabel(\"RAM memory consumption (decimal)\")\n",
    "kafka_ngsi_ld_mem_df_plot.set_ylabel(\"Number of samples per second\")\n",
    "\n",
    "kafka_ngsi_ld_mem_df"
   ]
  },
  {
   "cell_type": "code",
   "execution_count": 38,
   "id": "c53b68d2",
   "metadata": {},
   "outputs": [],
   "source": [
    "kafka_ngsi_ld_mem_total = []\n",
    "for i in range(0,len(events)):\n",
    "    kafka_ngsi_ld_mem_total.append(kafka_ngsi_ld_mem['kafka'][i])"
   ]
  },
  {
   "cell_type": "markdown",
   "id": "f6e22f78",
   "metadata": {},
   "source": [
    "## CPU and RAM memory comparison\n",
    "\n",
    "Building some charts to compare the results of CPU and RAM consumption between the NGSI-LD Brokers and Kafka use cases."
   ]
  },
  {
   "cell_type": "code",
   "execution_count": 39,
   "id": "381f1ad4",
   "metadata": {},
   "outputs": [
    {
     "data": {
      "text/html": [
       "<div>\n",
       "<style scoped>\n",
       "    .dataframe tbody tr th:only-of-type {\n",
       "        vertical-align: middle;\n",
       "    }\n",
       "\n",
       "    .dataframe tbody tr th {\n",
       "        vertical-align: top;\n",
       "    }\n",
       "\n",
       "    .dataframe thead th {\n",
       "        text-align: right;\n",
       "    }\n",
       "</style>\n",
       "<table border=\"1\" class=\"dataframe\">\n",
       "  <thead>\n",
       "    <tr style=\"text-align: right;\">\n",
       "      <th></th>\n",
       "      <th>Orion-LD</th>\n",
       "      <th>Scorpio</th>\n",
       "    </tr>\n",
       "  </thead>\n",
       "  <tbody>\n",
       "    <tr>\n",
       "      <th>50</th>\n",
       "      <td>0.1973</td>\n",
       "      <td>1.0511</td>\n",
       "    </tr>\n",
       "    <tr>\n",
       "      <th>100</th>\n",
       "      <td>0.2786</td>\n",
       "      <td>1.7609</td>\n",
       "    </tr>\n",
       "    <tr>\n",
       "      <th>200</th>\n",
       "      <td>0.6751</td>\n",
       "      <td>3.0678</td>\n",
       "    </tr>\n",
       "    <tr>\n",
       "      <th>500</th>\n",
       "      <td>0.8846</td>\n",
       "      <td>2.6619</td>\n",
       "    </tr>\n",
       "    <tr>\n",
       "      <th>1000</th>\n",
       "      <td>0.4287</td>\n",
       "      <td>1.7339</td>\n",
       "    </tr>\n",
       "  </tbody>\n",
       "</table>\n",
       "</div>"
      ],
      "text/plain": [
       "      Orion-LD  Scorpio\n",
       "50      0.1973   1.0511\n",
       "100     0.2786   1.7609\n",
       "200     0.6751   3.0678\n",
       "500     0.8846   2.6619\n",
       "1000    0.4287   1.7339"
      ]
     },
     "execution_count": 39,
     "metadata": {},
     "output_type": "execute_result"
    },
    {
     "data": {
      "image/png": "[encoded data removed]",
      "text/plain": [
       "<Figure size 432x288 with 1 Axes>"
      ]
     },
     "metadata": {
      "needs_background": "light"
     },
     "output_type": "display_data"
    }
   ],
   "source": [
    "cpu = pd.DataFrame({\"Orion-LD\": orion_cpu_total,\n",
    "                       \"Scorpio\": scorpio_cpu_total}, index=events)\n",
    "colors = ['tab:blue','tab:orange']\n",
    "cpu_plot = cpu.plot.bar(logy=False, color=colors)\n",
    "cpu_plot.set_xlabel(\"Number of samples per second\")\n",
    "cpu_plot.set_ylabel(\"CPU consumption(decimal)\")\n",
    "\n",
    "cpu"
   ]
  },
  {
   "cell_type": "code",
   "execution_count": 70,
   "id": "ced79b74",
   "metadata": {},
   "outputs": [
    {
     "data": {
      "text/html": [
       "<div>\n",
       "<style scoped>\n",
       "    .dataframe tbody tr th:only-of-type {\n",
       "        vertical-align: middle;\n",
       "    }\n",
       "\n",
       "    .dataframe tbody tr th {\n",
       "        vertical-align: top;\n",
       "    }\n",
       "\n",
       "    .dataframe thead th {\n",
       "        text-align: right;\n",
       "    }\n",
       "</style>\n",
       "<table border=\"1\" class=\"dataframe\">\n",
       "  <thead>\n",
       "    <tr style=\"text-align: right;\">\n",
       "      <th></th>\n",
       "      <th>Orion-LD</th>\n",
       "      <th>Scorpio</th>\n",
       "      <th>Kafka-AVRO</th>\n",
       "      <th>Kafka-NGSI-LD</th>\n",
       "    </tr>\n",
       "  </thead>\n",
       "  <tbody>\n",
       "    <tr>\n",
       "      <th>50</th>\n",
       "      <td>0.1973</td>\n",
       "      <td>1.0511</td>\n",
       "      <td>0.0701</td>\n",
       "      <td>0.0815</td>\n",
       "    </tr>\n",
       "    <tr>\n",
       "      <th>100</th>\n",
       "      <td>0.2786</td>\n",
       "      <td>1.7609</td>\n",
       "      <td>0.1164</td>\n",
       "      <td>0.0541</td>\n",
       "    </tr>\n",
       "    <tr>\n",
       "      <th>200</th>\n",
       "      <td>0.6751</td>\n",
       "      <td>3.0678</td>\n",
       "      <td>0.1325</td>\n",
       "      <td>0.0639</td>\n",
       "    </tr>\n",
       "    <tr>\n",
       "      <th>500</th>\n",
       "      <td>0.8846</td>\n",
       "      <td>2.6619</td>\n",
       "      <td>0.1104</td>\n",
       "      <td>0.1078</td>\n",
       "    </tr>\n",
       "    <tr>\n",
       "      <th>1000</th>\n",
       "      <td>0.4287</td>\n",
       "      <td>1.7339</td>\n",
       "      <td>0.1366</td>\n",
       "      <td>0.0977</td>\n",
       "    </tr>\n",
       "  </tbody>\n",
       "</table>\n",
       "</div>"
      ],
      "text/plain": [
       "      Orion-LD  Scorpio  Kafka-AVRO  Kafka-NGSI-LD\n",
       "50      0.1973   1.0511      0.0701         0.0815\n",
       "100     0.2786   1.7609      0.1164         0.0541\n",
       "200     0.6751   3.0678      0.1325         0.0639\n",
       "500     0.8846   2.6619      0.1104         0.1078\n",
       "1000    0.4287   1.7339      0.1366         0.0977"
      ]
     },
     "execution_count": 70,
     "metadata": {},
     "output_type": "execute_result"
    },
    {
     "data": {
      "image/png": "[encoded data removed]",
      "text/plain": [
       "<Figure size 432x288 with 1 Axes>"
      ]
     },
     "metadata": {
      "needs_background": "light"
     },
     "output_type": "display_data"
    }
   ],
   "source": [
    "cpu = pd.DataFrame({\"Orion-LD\": orion_cpu_total,\n",
    "                    \"Scorpio\": scorpio_cpu_total,\n",
    "                    \"Kafka-AVRO\": kafka_avro_cpu_total,\n",
    "                    \"Kafka-NGSI-LD\": kafka_ngsi_ld_cpu_total}, index=events)\n",
    "#colors = ['tab:blue','tab:orange', \"tab:green\", \"tab:red\"]\n",
    "colors=cm.get_cmap('viridis', 4).colors\n",
    "cpu_plot = cpu.plot.bar(logy=False, color=colors)\n",
    "cpu_plot.set_xlabel(\"Number of samples per second\")\n",
    "cpu_plot.set_ylabel(\"CPU consumption (decimal)\")\n",
    "\n",
    "cpu"
   ]
  },
  {
   "cell_type": "code",
   "execution_count": 77,
   "id": "916b6edf",
   "metadata": {
    "scrolled": true
   },
   "outputs": [
    {
     "data": {
      "text/html": [
       "<div>\n",
       "<style scoped>\n",
       "    .dataframe tbody tr th:only-of-type {\n",
       "        vertical-align: middle;\n",
       "    }\n",
       "\n",
       "    .dataframe tbody tr th {\n",
       "        vertical-align: top;\n",
       "    }\n",
       "\n",
       "    .dataframe thead th {\n",
       "        text-align: right;\n",
       "    }\n",
       "</style>\n",
       "<table border=\"1\" class=\"dataframe\">\n",
       "  <thead>\n",
       "    <tr style=\"text-align: right;\">\n",
       "      <th></th>\n",
       "      <th>Orion-LD</th>\n",
       "      <th>Scorpio</th>\n",
       "      <th>Kafka-AVRO</th>\n",
       "      <th>Kafka-NGSI-LD</th>\n",
       "    </tr>\n",
       "  </thead>\n",
       "  <tbody>\n",
       "    <tr>\n",
       "      <th>50</th>\n",
       "      <td>0.1973</td>\n",
       "      <td>1.0511</td>\n",
       "      <td>0.0701</td>\n",
       "      <td>0.0815</td>\n",
       "    </tr>\n",
       "    <tr>\n",
       "      <th>100</th>\n",
       "      <td>0.2786</td>\n",
       "      <td>1.7609</td>\n",
       "      <td>0.1164</td>\n",
       "      <td>0.0541</td>\n",
       "    </tr>\n",
       "    <tr>\n",
       "      <th>200</th>\n",
       "      <td>0.6751</td>\n",
       "      <td>3.0678</td>\n",
       "      <td>0.1325</td>\n",
       "      <td>0.0639</td>\n",
       "    </tr>\n",
       "  </tbody>\n",
       "</table>\n",
       "</div>"
      ],
      "text/plain": [
       "     Orion-LD  Scorpio  Kafka-AVRO  Kafka-NGSI-LD\n",
       "50     0.1973   1.0511      0.0701         0.0815\n",
       "100    0.2786   1.7609      0.1164         0.0541\n",
       "200    0.6751   3.0678      0.1325         0.0639"
      ]
     },
     "execution_count": 77,
     "metadata": {},
     "output_type": "execute_result"
    },
    {
     "data": {
      "image/png": "[encoded data removed]",
      "text/plain": [
       "<Figure size 432x288 with 1 Axes>"
      ]
     },
     "metadata": {
      "needs_background": "light"
     },
     "output_type": "display_data"
    }
   ],
   "source": [
    "cpu = pd.DataFrame({\"Orion-LD\": orion_cpu_total,\n",
    "                    \"Scorpio\": scorpio_cpu_total,\n",
    "                    \"Kafka-AVRO\": kafka_avro_cpu_total,\n",
    "                    \"Kafka-NGSI-LD\": kafka_ngsi_ld_cpu_total}, index=events)\n",
    "#colors = ['tab:blue','tab:orange', \"tab:green\", \"tab:red\"]\n",
    "colors=cm.get_cmap('viridis', 4).colors\n",
    "cpu_plot = cpu.iloc[[0,1,2]].plot.bar(logy=False, color=colors)\n",
    "cpu_plot.set_xlabel(\"Number of samples per second\")\n",
    "cpu_plot.set_ylabel(\"CPU consumption (decimal)\")\n",
    "\n",
    "cpu.iloc[[0,1,2]]"
   ]
  },
  {
   "cell_type": "code",
   "execution_count": 76,
   "id": "8bc1dafd",
   "metadata": {},
   "outputs": [
    {
     "data": {
      "text/html": [
       "<div>\n",
       "<style scoped>\n",
       "    .dataframe tbody tr th:only-of-type {\n",
       "        vertical-align: middle;\n",
       "    }\n",
       "\n",
       "    .dataframe tbody tr th {\n",
       "        vertical-align: top;\n",
       "    }\n",
       "\n",
       "    .dataframe thead th {\n",
       "        text-align: right;\n",
       "    }\n",
       "</style>\n",
       "<table border=\"1\" class=\"dataframe\">\n",
       "  <thead>\n",
       "    <tr style=\"text-align: right;\">\n",
       "      <th></th>\n",
       "      <th>Orion-LD</th>\n",
       "      <th>Scorpio</th>\n",
       "      <th>Kafka-AVRO</th>\n",
       "      <th>Kafka-NGSI-LD</th>\n",
       "    </tr>\n",
       "  </thead>\n",
       "  <tbody>\n",
       "    <tr>\n",
       "      <th>200</th>\n",
       "      <td>0.6751</td>\n",
       "      <td>3.0678</td>\n",
       "      <td>0.1325</td>\n",
       "      <td>0.0639</td>\n",
       "    </tr>\n",
       "  </tbody>\n",
       "</table>\n",
       "</div>"
      ],
      "text/plain": [
       "     Orion-LD  Scorpio  Kafka-AVRO  Kafka-NGSI-LD\n",
       "200    0.6751   3.0678      0.1325         0.0639"
      ]
     },
     "execution_count": 76,
     "metadata": {},
     "output_type": "execute_result"
    },
    {
     "data": {
      "image/png": "[encoded data removed]",
      "text/plain": [
       "<Figure size 432x288 with 1 Axes>"
      ]
     },
     "metadata": {
      "needs_background": "light"
     },
     "output_type": "display_data"
    }
   ],
   "source": [
    "cpu = pd.DataFrame({\"Orion-LD\": orion_cpu_total,\n",
    "                    \"Scorpio\": scorpio_cpu_total,\n",
    "                    \"Kafka-AVRO\": kafka_avro_cpu_total,\n",
    "                    \"Kafka-NGSI-LD\": kafka_ngsi_ld_cpu_total}, index=events)\n",
    "#colors = ['tab:blue','tab:orange', \"tab:green\", \"tab:red\"]\n",
    "colors=cm.get_cmap('viridis', 4).colors\n",
    "cpu_plot = cpu.iloc[[2]].plot.bar(logy=False, color=colors)\n",
    "cpu_plot.set_xlabel(\"Number of samples per second\")\n",
    "cpu_plot.set_ylabel(\"CPU consumption (decimal)\")\n",
    "\n",
    "cpu.iloc[[2]]"
   ]
  },
  {
   "cell_type": "code",
   "execution_count": 75,
   "id": "409e260b",
   "metadata": {
    "scrolled": true
   },
   "outputs": [
    {
     "data": {
      "text/html": [
       "<div>\n",
       "<style scoped>\n",
       "    .dataframe tbody tr th:only-of-type {\n",
       "        vertical-align: middle;\n",
       "    }\n",
       "\n",
       "    .dataframe tbody tr th {\n",
       "        vertical-align: top;\n",
       "    }\n",
       "\n",
       "    .dataframe thead th {\n",
       "        text-align: right;\n",
       "    }\n",
       "</style>\n",
       "<table border=\"1\" class=\"dataframe\">\n",
       "  <thead>\n",
       "    <tr style=\"text-align: right;\">\n",
       "      <th></th>\n",
       "      <th>Orion-LD</th>\n",
       "      <th>Scorpio</th>\n",
       "      <th>Kafka-AVRO</th>\n",
       "      <th>Kafka-NGSI-LD</th>\n",
       "    </tr>\n",
       "  </thead>\n",
       "  <tbody>\n",
       "    <tr>\n",
       "      <th>50</th>\n",
       "      <td>0.0046</td>\n",
       "      <td>0.2583</td>\n",
       "      <td>0.0234</td>\n",
       "      <td>0.0245</td>\n",
       "    </tr>\n",
       "    <tr>\n",
       "      <th>100</th>\n",
       "      <td>0.0040</td>\n",
       "      <td>0.2930</td>\n",
       "      <td>0.0265</td>\n",
       "      <td>0.0657</td>\n",
       "    </tr>\n",
       "    <tr>\n",
       "      <th>200</th>\n",
       "      <td>0.0042</td>\n",
       "      <td>0.3067</td>\n",
       "      <td>0.0371</td>\n",
       "      <td>0.0636</td>\n",
       "    </tr>\n",
       "    <tr>\n",
       "      <th>500</th>\n",
       "      <td>0.0044</td>\n",
       "      <td>0.2660</td>\n",
       "      <td>0.0517</td>\n",
       "      <td>0.0644</td>\n",
       "    </tr>\n",
       "    <tr>\n",
       "      <th>1000</th>\n",
       "      <td>0.0035</td>\n",
       "      <td>0.2996</td>\n",
       "      <td>0.0584</td>\n",
       "      <td>0.0653</td>\n",
       "    </tr>\n",
       "  </tbody>\n",
       "</table>\n",
       "</div>"
      ],
      "text/plain": [
       "      Orion-LD  Scorpio  Kafka-AVRO  Kafka-NGSI-LD\n",
       "50      0.0046   0.2583      0.0234         0.0245\n",
       "100     0.0040   0.2930      0.0265         0.0657\n",
       "200     0.0042   0.3067      0.0371         0.0636\n",
       "500     0.0044   0.2660      0.0517         0.0644\n",
       "1000    0.0035   0.2996      0.0584         0.0653"
      ]
     },
     "execution_count": 75,
     "metadata": {},
     "output_type": "execute_result"
    },
    {
     "data": {
      "image/png": "[encoded data removed]",
      "text/plain": [
       "<Figure size 432x288 with 1 Axes>"
      ]
     },
     "metadata": {
      "needs_background": "light"
     },
     "output_type": "display_data"
    }
   ],
   "source": [
    "mem = pd.DataFrame({\"Orion-LD\": orion_mem_total,\n",
    "                    \"Scorpio\": scorpio_mem_total,\n",
    "                    \"Kafka-AVRO\": kafka_avro_mem_total,\n",
    "                    \"Kafka-NGSI-LD\": kafka_ngsi_ld_mem_total}, index=events)\n",
    "#colors = ['tab:blue','tab:orange', \"tab:green\", \"tab:red\"]\n",
    "colors=cm.get_cmap('viridis', 4).colors\n",
    "mem_plot = mem.plot.bar(logy=False, ylim=(0,0.45), color=colors)\n",
    "mem_plot.set_xlabel(\"Number of samples per second\")\n",
    "mem_plot.set_ylabel(\"RAM memory consumption (decimal)\")\n",
    "\n",
    "mem"
   ]
  },
  {
   "cell_type": "code",
   "execution_count": 72,
   "id": "1ffffc94",
   "metadata": {},
   "outputs": [
    {
     "data": {
      "text/html": [
       "<div>\n",
       "<style scoped>\n",
       "    .dataframe tbody tr th:only-of-type {\n",
       "        vertical-align: middle;\n",
       "    }\n",
       "\n",
       "    .dataframe tbody tr th {\n",
       "        vertical-align: top;\n",
       "    }\n",
       "\n",
       "    .dataframe thead th {\n",
       "        text-align: right;\n",
       "    }\n",
       "</style>\n",
       "<table border=\"1\" class=\"dataframe\">\n",
       "  <thead>\n",
       "    <tr style=\"text-align: right;\">\n",
       "      <th></th>\n",
       "      <th>Orion-LD</th>\n",
       "      <th>Scorpio</th>\n",
       "      <th>Kafka-AVRO</th>\n",
       "      <th>Kafka-NGSI-LD</th>\n",
       "    </tr>\n",
       "  </thead>\n",
       "  <tbody>\n",
       "    <tr>\n",
       "      <th>50</th>\n",
       "      <td>0.0046</td>\n",
       "      <td>0.2583</td>\n",
       "      <td>0.0234</td>\n",
       "      <td>0.0245</td>\n",
       "    </tr>\n",
       "    <tr>\n",
       "      <th>100</th>\n",
       "      <td>0.0040</td>\n",
       "      <td>0.2930</td>\n",
       "      <td>0.0265</td>\n",
       "      <td>0.0657</td>\n",
       "    </tr>\n",
       "    <tr>\n",
       "      <th>200</th>\n",
       "      <td>0.0042</td>\n",
       "      <td>0.3067</td>\n",
       "      <td>0.0371</td>\n",
       "      <td>0.0636</td>\n",
       "    </tr>\n",
       "  </tbody>\n",
       "</table>\n",
       "</div>"
      ],
      "text/plain": [
       "     Orion-LD  Scorpio  Kafka-AVRO  Kafka-NGSI-LD\n",
       "50     0.0046   0.2583      0.0234         0.0245\n",
       "100    0.0040   0.2930      0.0265         0.0657\n",
       "200    0.0042   0.3067      0.0371         0.0636"
      ]
     },
     "execution_count": 72,
     "metadata": {},
     "output_type": "execute_result"
    },
    {
     "data": {
      "image/png": "[encoded data removed]",
      "text/plain": [
       "<Figure size 432x288 with 1 Axes>"
      ]
     },
     "metadata": {
      "needs_background": "light"
     },
     "output_type": "display_data"
    }
   ],
   "source": [
    "mem = pd.DataFrame({\"Orion-LD\": orion_mem_total,\n",
    "                    \"Scorpio\": scorpio_mem_total,\n",
    "                    \"Kafka-AVRO\": kafka_avro_mem_total,\n",
    "                    \"Kafka-NGSI-LD\": kafka_ngsi_ld_mem_total}, index=events)\n",
    "#colors = ['tab:blue','tab:orange', \"tab:green\", \"tab:red\"]\n",
    "colors=cm.get_cmap('viridis', 4).colors\n",
    "mem_plot = mem.iloc[[0,1,2]].plot.bar(logy=False, ylim=(0,0.4), color=colors)\n",
    "mem_plot.set_xlabel(\"Number of samples per second\")\n",
    "mem_plot.set_ylabel(\"RAM memory consumption (decimal)\")\n",
    "\n",
    "mem.iloc[[0,1,2]]"
   ]
  },
  {
   "cell_type": "code",
   "execution_count": 71,
   "id": "830ee19b",
   "metadata": {},
   "outputs": [
    {
     "data": {
      "text/html": [
       "<div>\n",
       "<style scoped>\n",
       "    .dataframe tbody tr th:only-of-type {\n",
       "        vertical-align: middle;\n",
       "    }\n",
       "\n",
       "    .dataframe tbody tr th {\n",
       "        vertical-align: top;\n",
       "    }\n",
       "\n",
       "    .dataframe thead th {\n",
       "        text-align: right;\n",
       "    }\n",
       "</style>\n",
       "<table border=\"1\" class=\"dataframe\">\n",
       "  <thead>\n",
       "    <tr style=\"text-align: right;\">\n",
       "      <th></th>\n",
       "      <th>Orion-LD</th>\n",
       "      <th>Scorpio</th>\n",
       "      <th>Kafka-AVRO</th>\n",
       "      <th>Kafka-NGSI-LD</th>\n",
       "    </tr>\n",
       "  </thead>\n",
       "  <tbody>\n",
       "    <tr>\n",
       "      <th>200</th>\n",
       "      <td>0.0042</td>\n",
       "      <td>0.3067</td>\n",
       "      <td>0.0371</td>\n",
       "      <td>0.0636</td>\n",
       "    </tr>\n",
       "  </tbody>\n",
       "</table>\n",
       "</div>"
      ],
      "text/plain": [
       "     Orion-LD  Scorpio  Kafka-AVRO  Kafka-NGSI-LD\n",
       "200    0.0042   0.3067      0.0371         0.0636"
      ]
     },
     "execution_count": 71,
     "metadata": {},
     "output_type": "execute_result"
    },
    {
     "data": {
      "image/png": "[encoded data removed]",
      "text/plain": [
       "<Figure size 432x288 with 1 Axes>"
      ]
     },
     "metadata": {
      "needs_background": "light"
     },
     "output_type": "display_data"
    }
   ],
   "source": [
    "mem = pd.DataFrame({\"Orion-LD\": orion_mem_total,\n",
    "                    \"Scorpio\": scorpio_mem_total,\n",
    "                    \"Kafka-AVRO\": kafka_avro_mem_total,\n",
    "                    \"Kafka-NGSI-LD\": kafka_ngsi_ld_mem_total}, index=events)\n",
    "#colors = ['tab:blue','tab:orange', \"tab:green\", \"tab:red\"]\n",
    "colors=cm.get_cmap('viridis', 4).colors\n",
    "mem_plot = mem.iloc[[2]].plot.bar(logy=False, ylim=(0,0.4), color=colors)\n",
    "mem_plot.set_xlabel(\"Number of samples per second\")\n",
    "mem_plot.set_ylabel(\"RAM memory consumption (decimal)\")\n",
    "\n",
    "mem.iloc[[2]]"
   ]
  },
  {
   "cell_type": "code",
   "execution_count": null,
   "id": "369baf72-1ef4-4347-8454-ec73ccebe671",
   "metadata": {},
   "outputs": [],
   "source": []
  }
 ],
 "metadata": {
  "kernelspec": {
   "display_name": "Python 3",
   "language": "python",
   "name": "python3"
  },
  "language_info": {
   "codemirror_mode": {
    "name": "ipython",
    "version": 3
   },
   "file_extension": ".py",
   "mimetype": "text/x-python",
   "name": "python",
   "nbconvert_exporter": "python",
   "pygments_lexer": "ipython3",
   "version": "3.9.5"
  }
 },
 "nbformat": 4,
 "nbformat_minor": 5
}
