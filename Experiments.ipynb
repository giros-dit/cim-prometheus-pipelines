{
 "cells": [
  {
   "cell_type": "markdown",
   "id": "9a13e961",
   "metadata": {},
   "source": [
    "# Latency Comparison\n",
    "\n",
    "In this section we collect results from measuring the latency between ingesting data from the source and collecting the data from the broker (i.e., Kafka vs NGSI-LD Broker).\n",
    "\n",
    "## Building datasets\n",
    "\n",
    "\n",
    "### Scorpio"
   ]
  },
  {
   "cell_type": "code",
   "execution_count": 131,
   "id": "3309bf7c",
   "metadata": {},
   "outputs": [],
   "source": [
    "import pandas as pd"
   ]
  },
  {
   "cell_type": "markdown",
   "id": "7105d526",
   "metadata": {},
   "source": [
    "Disable scientific notation in datasets"
   ]
  },
  {
   "cell_type": "code",
   "execution_count": 251,
   "id": "6ae86042",
   "metadata": {},
   "outputs": [],
   "source": [
    "pd.set_option('display.float_format', lambda x: '%.3f' % x)"
   ]
  },
  {
   "cell_type": "code",
   "execution_count": 252,
   "id": "0ec5b8ac",
   "metadata": {},
   "outputs": [],
   "source": [
    "events = [10,20,50,70,100]"
   ]
  },
  {
   "cell_type": "code",
   "execution_count": 253,
   "id": "4d088fc2",
   "metadata": {},
   "outputs": [],
   "source": [
    "import glob\n",
    "\n",
    "scorpio = []\n",
    "for event in events:\n",
    "    path = r'./results/scorpio/%s' % event # use your path\n",
    "    all_files = glob.glob(path + \"/*\")\n",
    "\n",
    "    li = []\n",
    "\n",
    "    for filename in all_files:\n",
    "        df = pd.read_csv(filename, index_col=None, header=0)\n",
    "        li.append(df)\n",
    "\n",
    "    scorpio.append(pd.concat(li, axis=0, ignore_index=True))"
   ]
  },
  {
   "cell_type": "markdown",
   "id": "b80ecd40",
   "metadata": {},
   "source": [
    "Estimate the delta between the capture and notification timestamps"
   ]
  },
  {
   "cell_type": "code",
   "execution_count": 254,
   "id": "c1c37dba",
   "metadata": {},
   "outputs": [],
   "source": [
    "scorpio_means = []\n",
    "for table in scorpio:\n",
    "    table[\"deltaTimestamp\"] = table[\"notificationTimestamp\"] - table[\"captureTimestamp\"]\n",
    "    scorpio_means.append(table[\"deltaTimestamp\"].mean())"
   ]
  },
  {
   "cell_type": "markdown",
   "id": "bcbe3df5",
   "metadata": {},
   "source": [
    "### Kafka"
   ]
  },
  {
   "cell_type": "code",
   "execution_count": 255,
   "id": "2b5aa5b0",
   "metadata": {},
   "outputs": [],
   "source": [
    "import glob\n",
    "\n",
    "kafka = []\n",
    "for event in events:\n",
    "    path = r'./results/kafka/%s' % event # use your path\n",
    "    all_files = glob.glob(path + \"/*\")\n",
    "\n",
    "    li = []\n",
    "\n",
    "    for filename in all_files:\n",
    "        df = pd.read_csv(filename, index_col=None, header=0)\n",
    "        li.append(df)\n",
    "\n",
    "    kafka.append(pd.concat(li, axis=0, ignore_index=True))"
   ]
  },
  {
   "cell_type": "code",
   "execution_count": 256,
   "id": "46c48595",
   "metadata": {},
   "outputs": [],
   "source": [
    "kafka_means = []\n",
    "for table in kafka:\n",
    "    table[\"deltaTimestamp\"] = table[\"notificationTimestamp\"] - table[\"captureTimestamp\"]\n",
    "    kafka_means.append(table[\"deltaTimestamp\"].mean())"
   ]
  },
  {
   "cell_type": "markdown",
   "id": "7ccb0530",
   "metadata": {},
   "source": [
    "## Visualization\n",
    "\n",
    "Once the datasets haven prepared, move on to creating some plots."
   ]
  },
  {
   "cell_type": "code",
   "execution_count": 257,
   "id": "feb599c8",
   "metadata": {},
   "outputs": [],
   "source": [
    "import matplotlib.pyplot as plt\n",
    "plt.close(\"all\")"
   ]
  },
  {
   "cell_type": "code",
   "execution_count": 258,
   "id": "2c62c98a",
   "metadata": {},
   "outputs": [],
   "source": [
    "latency = pd.DataFrame({\"Events\": events,\"Scorpio\": scorpio_means, \n",
    "                        \"Kafka\": kafka_means })"
   ]
  },
  {
   "cell_type": "code",
   "execution_count": 259,
   "id": "2b8a6714",
   "metadata": {},
   "outputs": [
    {
     "data": {
      "text/plain": [
       "<AxesSubplot:xlabel='Events'>"
      ]
     },
     "execution_count": 259,
     "metadata": {},
     "output_type": "execute_result"
    },
    {
     "data": {
      "image/png": "[encoded data removed]",
      "text/plain": [
       "<Figure size 432x288 with 1 Axes>"
      ]
     },
     "metadata": {
      "needs_background": "light"
     },
     "output_type": "display_data"
    }
   ],
   "source": [
    "latency.plot.bar(x=\"Events\")"
   ]
  },
  {
   "cell_type": "markdown",
   "id": "513faac2",
   "metadata": {},
   "source": [
    "# Container Performance\n",
    "\n",
    "The following snippet produces docker stats and appends the results to a CSV file:\n",
    "\n",
    "```bash\n",
    "while true; do docker stats <my_container> --no-stream --format \"{{ .MemPerc }},{{ .CPUPerc }}\" | tee --append stats.csv; sleep 1; done\n",
    "```"
   ]
  },
  {
   "cell_type": "markdown",
   "id": "d644b0f6",
   "metadata": {},
   "source": [
    "## Building the Datasets"
   ]
  },
  {
   "cell_type": "markdown",
   "id": "8175ffc9",
   "metadata": {},
   "source": [
    "Process the generated CSV files using panda. First remove the percentage character from the memory and CPU columns. Generate two charts - memory and CPU - that compare Kafka container against each NGSI-LD Broker container."
   ]
  },
  {
   "cell_type": "code",
   "execution_count": 293,
   "id": "de8a6883",
   "metadata": {},
   "outputs": [],
   "source": [
    "scorpio_container_70 = pd.read_csv(\"results_containers/scorpio_70.csv\", index_col=None, header=0, names=[\"scorpio\",\"memory\", \"cpu\"])"
   ]
  },
  {
   "cell_type": "code",
   "execution_count": 294,
   "id": "78755537",
   "metadata": {},
   "outputs": [],
   "source": [
    "scorpio_memory_70 = scorpio_container_70['memory'].str.rstrip('%').astype('float') / 100.0\n",
    "scorpio_cpu_70 = scorpio_container_70['cpu'].str.rstrip('%').astype('float') / 100.0"
   ]
  },
  {
   "cell_type": "code",
   "execution_count": 302,
   "id": "a088573b",
   "metadata": {},
   "outputs": [],
   "source": [
    "scorpio_memory_70_mean = scorpio_memory_70.mean()"
   ]
  },
  {
   "cell_type": "markdown",
   "id": "8a9468cc",
   "metadata": {},
   "source": [
    "## Visualization"
   ]
  },
  {
   "cell_type": "code",
   "execution_count": 304,
   "id": "7e727b82",
   "metadata": {},
   "outputs": [],
   "source": [
    "containers = pd.DataFrame({\"Events\": [70],\"Scorpio\": [scorpio_memory_70_mean]})"
   ]
  },
  {
   "cell_type": "code",
   "execution_count": 305,
   "id": "f277e862",
   "metadata": {},
   "outputs": [
    {
     "data": {
      "text/html": [
       "<div>\n",
       "<style scoped>\n",
       "    .dataframe tbody tr th:only-of-type {\n",
       "        vertical-align: middle;\n",
       "    }\n",
       "\n",
       "    .dataframe tbody tr th {\n",
       "        vertical-align: top;\n",
       "    }\n",
       "\n",
       "    .dataframe thead th {\n",
       "        text-align: right;\n",
       "    }\n",
       "</style>\n",
       "<table border=\"1\" class=\"dataframe\">\n",
       "  <thead>\n",
       "    <tr style=\"text-align: right;\">\n",
       "      <th></th>\n",
       "      <th>Events</th>\n",
       "      <th>Scorpio</th>\n",
       "    </tr>\n",
       "  </thead>\n",
       "  <tbody>\n",
       "    <tr>\n",
       "      <th>0</th>\n",
       "      <td>70</td>\n",
       "      <td>0.227</td>\n",
       "    </tr>\n",
       "  </tbody>\n",
       "</table>\n",
       "</div>"
      ],
      "text/plain": [
       "   Events  Scorpio\n",
       "0      70    0.227"
      ]
     },
     "execution_count": 305,
     "metadata": {},
     "output_type": "execute_result"
    }
   ],
   "source": [
    "containers"
   ]
  },
  {
   "cell_type": "code",
   "execution_count": 306,
   "id": "0a02da3a",
   "metadata": {},
   "outputs": [
    {
     "data": {
      "text/plain": [
       "<AxesSubplot:xlabel='Events'>"
      ]
     },
     "execution_count": 306,
     "metadata": {},
     "output_type": "execute_result"
    },
    {
     "data": {
      "image/png": "[encoded data removed]",
      "text/plain": [
       "<Figure size 432x288 with 1 Axes>"
      ]
     },
     "metadata": {
      "needs_background": "light"
     },
     "output_type": "display_data"
    }
   ],
   "source": [
    "containers.plot.bar(x=\"Events\")"
   ]
  },
  {
   "cell_type": "code",
   "execution_count": null,
   "id": "a6ffe620",
   "metadata": {},
   "outputs": [],
   "source": []
  }
 ],
 "metadata": {
  "kernelspec": {
   "display_name": "Python 3",
   "language": "python",
   "name": "python3"
  },
  "language_info": {
   "codemirror_mode": {
    "name": "ipython",
    "version": 3
   },
   "file_extension": ".py",
   "mimetype": "text/x-python",
   "name": "python",
   "nbconvert_exporter": "python",
   "pygments_lexer": "ipython3",
   "version": "3.8.10"
  }
 },
 "nbformat": 4,
 "nbformat_minor": 5
}
